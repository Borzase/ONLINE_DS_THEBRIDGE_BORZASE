{
 "cells": [
  {
   "cell_type": "code",
   "execution_count": 1,
   "id": "501e3d16",
   "metadata": {},
   "outputs": [],
   "source": [
    "import numpy as np\n",
    "import pandas as pd\n",
    "from PIL import Image\n",
    "from sklearn.model_selection import train_test_split\n",
    "from sklearn.metrics import root_mean_squared_error\n",
    "from sklearn.ensemble import RandomForestRegressor, VotingRegressor\n",
    "from sklearn.svm import SVR\n",
    "import urllib.request\n",
    "import tool_box as tb"
   ]
  },
  {
   "cell_type": "code",
   "execution_count": 2,
   "id": "02e4c8e3",
   "metadata": {},
   "outputs": [],
   "source": [
    "df = pd.read_csv(\"./data/train.csv\", index_col = 'laptop_ID')"
   ]
  },
  {
   "cell_type": "code",
   "execution_count": 3,
   "id": "a48f11fe",
   "metadata": {},
   "outputs": [
    {
     "name": "stdout",
     "output_type": "stream",
     "text": [
      "<class 'pandas.core.frame.DataFrame'>\n",
      "Index: 912 entries, 755 to 229\n",
      "Data columns (total 12 columns):\n",
      " #   Column            Non-Null Count  Dtype  \n",
      "---  ------            --------------  -----  \n",
      " 0   Company           912 non-null    object \n",
      " 1   Product           912 non-null    object \n",
      " 2   TypeName          912 non-null    object \n",
      " 3   Inches            912 non-null    float64\n",
      " 4   ScreenResolution  912 non-null    object \n",
      " 5   Cpu               912 non-null    object \n",
      " 6   Ram               912 non-null    object \n",
      " 7   Memory            912 non-null    object \n",
      " 8   Gpu               912 non-null    object \n",
      " 9   OpSys             912 non-null    object \n",
      " 10  Weight            912 non-null    object \n",
      " 11  Price_in_euros    912 non-null    float64\n",
      "dtypes: float64(2), object(10)\n",
      "memory usage: 92.6+ KB\n"
     ]
    }
   ],
   "source": [
    "df.info()"
   ]
  },
  {
   "cell_type": "code",
   "execution_count": 4,
   "id": "5338aa96",
   "metadata": {},
   "outputs": [
    {
     "data": {
      "text/plain": [
       "OpSys\n",
       "Windows 10      741\n",
       "Linux            48\n",
       "No OS            44\n",
       "Windows 7        29\n",
       "Chrome OS        24\n",
       "macOS            11\n",
       "Windows 10 S      7\n",
       "Mac OS X          6\n",
       "Android           2\n",
       "Name: count, dtype: int64"
      ]
     },
     "execution_count": 4,
     "metadata": {},
     "output_type": "execute_result"
    }
   ],
   "source": [
    "df.OpSys.value_counts()"
   ]
  },
  {
   "cell_type": "code",
   "execution_count": 5,
   "id": "7be8c1fb",
   "metadata": {},
   "outputs": [
    {
     "data": {
      "text/plain": [
       "Company\n",
       "Lenovo       202\n",
       "Dell         197\n",
       "HP           194\n",
       "Asus         121\n",
       "Acer          74\n",
       "MSI           37\n",
       "Toshiba       34\n",
       "Apple         17\n",
       "Razer          6\n",
       "Mediacom       6\n",
       "Samsung        5\n",
       "Microsoft      5\n",
       "Xiaomi         3\n",
       "Huawei         2\n",
       "Chuwi          2\n",
       "Google         2\n",
       "Vero           2\n",
       "Fujitsu        2\n",
       "LG             1\n",
       "Name: count, dtype: int64"
      ]
     },
     "execution_count": 5,
     "metadata": {},
     "output_type": "execute_result"
    }
   ],
   "source": [
    "df.Company.value_counts()"
   ]
  },
  {
   "cell_type": "code",
   "execution_count": 6,
   "id": "c6a4853b",
   "metadata": {},
   "outputs": [
    {
     "data": {
      "text/html": [
       "<div>\n",
       "<style scoped>\n",
       "    .dataframe tbody tr th:only-of-type {\n",
       "        vertical-align: middle;\n",
       "    }\n",
       "\n",
       "    .dataframe tbody tr th {\n",
       "        vertical-align: top;\n",
       "    }\n",
       "\n",
       "    .dataframe thead th {\n",
       "        text-align: right;\n",
       "    }\n",
       "</style>\n",
       "<table border=\"1\" class=\"dataframe\">\n",
       "  <thead>\n",
       "    <tr style=\"text-align: right;\">\n",
       "      <th></th>\n",
       "      <th>Company</th>\n",
       "      <th>Product</th>\n",
       "      <th>TypeName</th>\n",
       "      <th>Inches</th>\n",
       "      <th>ScreenResolution</th>\n",
       "      <th>Cpu</th>\n",
       "      <th>Ram</th>\n",
       "      <th>Memory</th>\n",
       "      <th>Gpu</th>\n",
       "      <th>OpSys</th>\n",
       "      <th>Weight</th>\n",
       "      <th>Price_in_euros</th>\n",
       "    </tr>\n",
       "    <tr>\n",
       "      <th>laptop_ID</th>\n",
       "      <th></th>\n",
       "      <th></th>\n",
       "      <th></th>\n",
       "      <th></th>\n",
       "      <th></th>\n",
       "      <th></th>\n",
       "      <th></th>\n",
       "      <th></th>\n",
       "      <th></th>\n",
       "      <th></th>\n",
       "      <th></th>\n",
       "      <th></th>\n",
       "    </tr>\n",
       "  </thead>\n",
       "  <tbody>\n",
       "    <tr>\n",
       "      <th>401</th>\n",
       "      <td>Dell</td>\n",
       "      <td>Inspiron 5567</td>\n",
       "      <td>Notebook</td>\n",
       "      <td>15.6</td>\n",
       "      <td>Full HD 1920x1080</td>\n",
       "      <td>Intel Core i7 7500U 2.7GHz</td>\n",
       "      <td>8GB</td>\n",
       "      <td>256GB SSD</td>\n",
       "      <td>AMD Radeon R7 M445</td>\n",
       "      <td>Linux</td>\n",
       "      <td>2.33kg</td>\n",
       "      <td>778.87</td>\n",
       "    </tr>\n",
       "    <tr>\n",
       "      <th>119</th>\n",
       "      <td>HP</td>\n",
       "      <td>Probook 440</td>\n",
       "      <td>Notebook</td>\n",
       "      <td>14.0</td>\n",
       "      <td>Full HD 1920x1080</td>\n",
       "      <td>Intel Core i7 8550U 1.8GHz</td>\n",
       "      <td>8GB</td>\n",
       "      <td>512GB SSD</td>\n",
       "      <td>Intel UHD Graphics 620</td>\n",
       "      <td>Windows 10</td>\n",
       "      <td>1.63kg</td>\n",
       "      <td>1084.00</td>\n",
       "    </tr>\n",
       "    <tr>\n",
       "      <th>1283</th>\n",
       "      <td>Lenovo</td>\n",
       "      <td>IdeaPad Y700-15ISK</td>\n",
       "      <td>Notebook</td>\n",
       "      <td>15.6</td>\n",
       "      <td>IPS Panel Full HD 1920x1080</td>\n",
       "      <td>Intel Core i7 6700HQ 2.6GHz</td>\n",
       "      <td>8GB</td>\n",
       "      <td>1TB HDD</td>\n",
       "      <td>Nvidia GeForce GTX 960M</td>\n",
       "      <td>Windows 10</td>\n",
       "      <td>2.6kg</td>\n",
       "      <td>899.00</td>\n",
       "    </tr>\n",
       "    <tr>\n",
       "      <th>63</th>\n",
       "      <td>Lenovo</td>\n",
       "      <td>IdeaPad 520S-14IKB</td>\n",
       "      <td>Notebook</td>\n",
       "      <td>14.0</td>\n",
       "      <td>IPS Panel Full HD 1920x1080</td>\n",
       "      <td>Intel Core i3 7130U 2.7GHz</td>\n",
       "      <td>8GB</td>\n",
       "      <td>256GB SSD</td>\n",
       "      <td>Intel HD Graphics 620</td>\n",
       "      <td>No OS</td>\n",
       "      <td>1.7kg</td>\n",
       "      <td>599.00</td>\n",
       "    </tr>\n",
       "    <tr>\n",
       "      <th>709</th>\n",
       "      <td>Lenovo</td>\n",
       "      <td>IdeaPad 320-15AST</td>\n",
       "      <td>Notebook</td>\n",
       "      <td>15.6</td>\n",
       "      <td>Full HD 1920x1080</td>\n",
       "      <td>AMD A9-Series 9420 2.9GHz</td>\n",
       "      <td>4GB</td>\n",
       "      <td>256GB SSD</td>\n",
       "      <td>AMD Radeon 530</td>\n",
       "      <td>Windows 10</td>\n",
       "      <td>2.2kg</td>\n",
       "      <td>399.00</td>\n",
       "    </tr>\n",
       "    <tr>\n",
       "      <th>114</th>\n",
       "      <td>Dell</td>\n",
       "      <td>XPS 13</td>\n",
       "      <td>Ultrabook</td>\n",
       "      <td>13.3</td>\n",
       "      <td>Quad HD+ / Touchscreen 3200x1800</td>\n",
       "      <td>Intel Core i7 7560U 2.4GHz</td>\n",
       "      <td>8GB</td>\n",
       "      <td>256GB SSD</td>\n",
       "      <td>Intel Iris Plus Graphics 640</td>\n",
       "      <td>Windows 10</td>\n",
       "      <td>1.23kg</td>\n",
       "      <td>1379.00</td>\n",
       "    </tr>\n",
       "    <tr>\n",
       "      <th>1177</th>\n",
       "      <td>HP</td>\n",
       "      <td>Spectre Pro</td>\n",
       "      <td>2 in 1 Convertible</td>\n",
       "      <td>13.3</td>\n",
       "      <td>Touchscreen 2560x1440</td>\n",
       "      <td>Intel Core i7 6600U 2.6GHz</td>\n",
       "      <td>8GB</td>\n",
       "      <td>512GB SSD</td>\n",
       "      <td>Intel HD Graphics 520</td>\n",
       "      <td>Windows 10</td>\n",
       "      <td>1.48kg</td>\n",
       "      <td>2041.00</td>\n",
       "    </tr>\n",
       "    <tr>\n",
       "      <th>1108</th>\n",
       "      <td>Dell</td>\n",
       "      <td>Inspiron 5370</td>\n",
       "      <td>Ultrabook</td>\n",
       "      <td>13.3</td>\n",
       "      <td>IPS Panel Full HD 1920x1080</td>\n",
       "      <td>Intel Core i5 8250U 1.6GHz</td>\n",
       "      <td>4GB</td>\n",
       "      <td>256GB SSD</td>\n",
       "      <td>AMD Radeon 530</td>\n",
       "      <td>Windows 10</td>\n",
       "      <td>1.4kg</td>\n",
       "      <td>818.35</td>\n",
       "    </tr>\n",
       "    <tr>\n",
       "      <th>1268</th>\n",
       "      <td>Dell</td>\n",
       "      <td>Inspiron 3552</td>\n",
       "      <td>Notebook</td>\n",
       "      <td>15.6</td>\n",
       "      <td>1366x768</td>\n",
       "      <td>Intel Pentium Quad Core N3710 1.6GHz</td>\n",
       "      <td>4GB</td>\n",
       "      <td>500GB HDD</td>\n",
       "      <td>Intel HD Graphics</td>\n",
       "      <td>Linux</td>\n",
       "      <td>2.2kg</td>\n",
       "      <td>324.00</td>\n",
       "    </tr>\n",
       "    <tr>\n",
       "      <th>796</th>\n",
       "      <td>Lenovo</td>\n",
       "      <td>Legion Y520-15IKBN</td>\n",
       "      <td>Gaming</td>\n",
       "      <td>15.6</td>\n",
       "      <td>IPS Panel Full HD 1920x1080</td>\n",
       "      <td>Intel Core i7 7700HQ 2.8GHz</td>\n",
       "      <td>4GB</td>\n",
       "      <td>1TB HDD</td>\n",
       "      <td>Nvidia GeForce GTX 1050</td>\n",
       "      <td>Windows 10</td>\n",
       "      <td>2.4kg</td>\n",
       "      <td>999.00</td>\n",
       "    </tr>\n",
       "    <tr>\n",
       "      <th>836</th>\n",
       "      <td>Dell</td>\n",
       "      <td>Latitude 3480</td>\n",
       "      <td>Notebook</td>\n",
       "      <td>14.0</td>\n",
       "      <td>1366x768</td>\n",
       "      <td>Intel Core i3 6006U 2GHz</td>\n",
       "      <td>4GB</td>\n",
       "      <td>500GB HDD</td>\n",
       "      <td>Intel HD Graphics 520</td>\n",
       "      <td>Windows 10</td>\n",
       "      <td>1.76kg</td>\n",
       "      <td>585.00</td>\n",
       "    </tr>\n",
       "    <tr>\n",
       "      <th>805</th>\n",
       "      <td>Asus</td>\n",
       "      <td>R417NA-RS01 (N3350/4GB/32GB/W10)</td>\n",
       "      <td>Notebook</td>\n",
       "      <td>14.0</td>\n",
       "      <td>1366x768</td>\n",
       "      <td>Intel Celeron Dual Core N3350 1.1GHz</td>\n",
       "      <td>4GB</td>\n",
       "      <td>32GB Flash Storage</td>\n",
       "      <td>Intel HD Graphics 500</td>\n",
       "      <td>Windows 10</td>\n",
       "      <td>1.63kg</td>\n",
       "      <td>299.00</td>\n",
       "    </tr>\n",
       "    <tr>\n",
       "      <th>1243</th>\n",
       "      <td>Asus</td>\n",
       "      <td>X540SA-RBPDN09 (N3710/4GB/1TB/W10)</td>\n",
       "      <td>Notebook</td>\n",
       "      <td>15.6</td>\n",
       "      <td>1366x768</td>\n",
       "      <td>Intel Pentium Quad Core N3710 1.6GHz</td>\n",
       "      <td>4GB</td>\n",
       "      <td>1TB HDD</td>\n",
       "      <td>Intel HD Graphics 405</td>\n",
       "      <td>Windows 10</td>\n",
       "      <td>2.65kg</td>\n",
       "      <td>309.00</td>\n",
       "    </tr>\n",
       "    <tr>\n",
       "      <th>845</th>\n",
       "      <td>Asus</td>\n",
       "      <td>Rog GL702VS-BA023T</td>\n",
       "      <td>Gaming</td>\n",
       "      <td>17.3</td>\n",
       "      <td>Full HD 1920x1080</td>\n",
       "      <td>Intel Core i7 7700HQ 2.8GHz</td>\n",
       "      <td>16GB</td>\n",
       "      <td>256GB SSD +  1TB HDD</td>\n",
       "      <td>Nvidia GeForce GTX 1070</td>\n",
       "      <td>Windows 10</td>\n",
       "      <td>2.9kg</td>\n",
       "      <td>2419.00</td>\n",
       "    </tr>\n",
       "    <tr>\n",
       "      <th>66</th>\n",
       "      <td>HP</td>\n",
       "      <td>250 G6</td>\n",
       "      <td>Notebook</td>\n",
       "      <td>15.6</td>\n",
       "      <td>Full HD 1920x1080</td>\n",
       "      <td>Intel Core i5 7200U 2.5GHz</td>\n",
       "      <td>8GB</td>\n",
       "      <td>256GB SSD</td>\n",
       "      <td>Intel HD Graphics 620</td>\n",
       "      <td>Windows 10</td>\n",
       "      <td>1.86kg</td>\n",
       "      <td>690.00</td>\n",
       "    </tr>\n",
       "    <tr>\n",
       "      <th>346</th>\n",
       "      <td>Dell</td>\n",
       "      <td>Inspiron 3552</td>\n",
       "      <td>Notebook</td>\n",
       "      <td>15.6</td>\n",
       "      <td>1366x768</td>\n",
       "      <td>Intel Celeron Dual Core N3060 1.6GHz</td>\n",
       "      <td>4GB</td>\n",
       "      <td>500GB HDD</td>\n",
       "      <td>Intel HD Graphics</td>\n",
       "      <td>Linux</td>\n",
       "      <td>2.2kg</td>\n",
       "      <td>274.90</td>\n",
       "    </tr>\n",
       "    <tr>\n",
       "      <th>1165</th>\n",
       "      <td>Dell</td>\n",
       "      <td>Vostro 5568</td>\n",
       "      <td>Notebook</td>\n",
       "      <td>15.6</td>\n",
       "      <td>Full HD 1920x1080</td>\n",
       "      <td>Intel Core i7 7500U 2.7GHz</td>\n",
       "      <td>8GB</td>\n",
       "      <td>256GB SSD</td>\n",
       "      <td>Nvidia GeForce 940MX</td>\n",
       "      <td>Windows 10</td>\n",
       "      <td>2.18kg</td>\n",
       "      <td>1009.90</td>\n",
       "    </tr>\n",
       "    <tr>\n",
       "      <th>828</th>\n",
       "      <td>Dell</td>\n",
       "      <td>Latitude 3480</td>\n",
       "      <td>Notebook</td>\n",
       "      <td>14.0</td>\n",
       "      <td>1366x768</td>\n",
       "      <td>Intel Core i5 6200U 2.3GHz</td>\n",
       "      <td>4GB</td>\n",
       "      <td>500GB HDD</td>\n",
       "      <td>Intel HD Graphics 520</td>\n",
       "      <td>Windows 10</td>\n",
       "      <td>1.76kg</td>\n",
       "      <td>755.00</td>\n",
       "    </tr>\n",
       "    <tr>\n",
       "      <th>281</th>\n",
       "      <td>Dell</td>\n",
       "      <td>Inspiron 5770</td>\n",
       "      <td>Notebook</td>\n",
       "      <td>17.3</td>\n",
       "      <td>Full HD 1920x1080</td>\n",
       "      <td>Intel Core i7 8550U 1.8GHz</td>\n",
       "      <td>8GB</td>\n",
       "      <td>128GB SSD +  1TB HDD</td>\n",
       "      <td>AMD Radeon 530</td>\n",
       "      <td>Linux</td>\n",
       "      <td>2.8kg</td>\n",
       "      <td>1099.00</td>\n",
       "    </tr>\n",
       "    <tr>\n",
       "      <th>81</th>\n",
       "      <td>HP</td>\n",
       "      <td>ProBook 470</td>\n",
       "      <td>Notebook</td>\n",
       "      <td>17.3</td>\n",
       "      <td>Full HD 1920x1080</td>\n",
       "      <td>Intel Core i5 8250U 1.6GHz</td>\n",
       "      <td>8GB</td>\n",
       "      <td>128GB SSD +  1TB HDD</td>\n",
       "      <td>Nvidia GeForce 930MX</td>\n",
       "      <td>Windows 10</td>\n",
       "      <td>2.5kg</td>\n",
       "      <td>977.00</td>\n",
       "    </tr>\n",
       "  </tbody>\n",
       "</table>\n",
       "</div>"
      ],
      "text/plain": [
       "          Company                             Product            TypeName  \\\n",
       "laptop_ID                                                                   \n",
       "401          Dell                       Inspiron 5567            Notebook   \n",
       "119            HP                         Probook 440            Notebook   \n",
       "1283       Lenovo                  IdeaPad Y700-15ISK            Notebook   \n",
       "63         Lenovo                  IdeaPad 520S-14IKB            Notebook   \n",
       "709        Lenovo                   IdeaPad 320-15AST            Notebook   \n",
       "114          Dell                              XPS 13           Ultrabook   \n",
       "1177           HP                         Spectre Pro  2 in 1 Convertible   \n",
       "1108         Dell                       Inspiron 5370           Ultrabook   \n",
       "1268         Dell                       Inspiron 3552            Notebook   \n",
       "796        Lenovo                  Legion Y520-15IKBN              Gaming   \n",
       "836          Dell                       Latitude 3480            Notebook   \n",
       "805          Asus    R417NA-RS01 (N3350/4GB/32GB/W10)            Notebook   \n",
       "1243         Asus  X540SA-RBPDN09 (N3710/4GB/1TB/W10)            Notebook   \n",
       "845          Asus                  Rog GL702VS-BA023T              Gaming   \n",
       "66             HP                              250 G6            Notebook   \n",
       "346          Dell                       Inspiron 3552            Notebook   \n",
       "1165         Dell                         Vostro 5568            Notebook   \n",
       "828          Dell                       Latitude 3480            Notebook   \n",
       "281          Dell                       Inspiron 5770            Notebook   \n",
       "81             HP                         ProBook 470            Notebook   \n",
       "\n",
       "           Inches                  ScreenResolution  \\\n",
       "laptop_ID                                             \n",
       "401          15.6                 Full HD 1920x1080   \n",
       "119          14.0                 Full HD 1920x1080   \n",
       "1283         15.6       IPS Panel Full HD 1920x1080   \n",
       "63           14.0       IPS Panel Full HD 1920x1080   \n",
       "709          15.6                 Full HD 1920x1080   \n",
       "114          13.3  Quad HD+ / Touchscreen 3200x1800   \n",
       "1177         13.3             Touchscreen 2560x1440   \n",
       "1108         13.3       IPS Panel Full HD 1920x1080   \n",
       "1268         15.6                          1366x768   \n",
       "796          15.6       IPS Panel Full HD 1920x1080   \n",
       "836          14.0                          1366x768   \n",
       "805          14.0                          1366x768   \n",
       "1243         15.6                          1366x768   \n",
       "845          17.3                 Full HD 1920x1080   \n",
       "66           15.6                 Full HD 1920x1080   \n",
       "346          15.6                          1366x768   \n",
       "1165         15.6                 Full HD 1920x1080   \n",
       "828          14.0                          1366x768   \n",
       "281          17.3                 Full HD 1920x1080   \n",
       "81           17.3                 Full HD 1920x1080   \n",
       "\n",
       "                                            Cpu   Ram                Memory  \\\n",
       "laptop_ID                                                                     \n",
       "401                  Intel Core i7 7500U 2.7GHz   8GB             256GB SSD   \n",
       "119                  Intel Core i7 8550U 1.8GHz   8GB             512GB SSD   \n",
       "1283                Intel Core i7 6700HQ 2.6GHz   8GB               1TB HDD   \n",
       "63                   Intel Core i3 7130U 2.7GHz   8GB             256GB SSD   \n",
       "709                   AMD A9-Series 9420 2.9GHz   4GB             256GB SSD   \n",
       "114                  Intel Core i7 7560U 2.4GHz   8GB             256GB SSD   \n",
       "1177                 Intel Core i7 6600U 2.6GHz   8GB             512GB SSD   \n",
       "1108                 Intel Core i5 8250U 1.6GHz   4GB             256GB SSD   \n",
       "1268       Intel Pentium Quad Core N3710 1.6GHz   4GB             500GB HDD   \n",
       "796                 Intel Core i7 7700HQ 2.8GHz   4GB               1TB HDD   \n",
       "836                    Intel Core i3 6006U 2GHz   4GB             500GB HDD   \n",
       "805        Intel Celeron Dual Core N3350 1.1GHz   4GB    32GB Flash Storage   \n",
       "1243       Intel Pentium Quad Core N3710 1.6GHz   4GB               1TB HDD   \n",
       "845                 Intel Core i7 7700HQ 2.8GHz  16GB  256GB SSD +  1TB HDD   \n",
       "66                   Intel Core i5 7200U 2.5GHz   8GB             256GB SSD   \n",
       "346        Intel Celeron Dual Core N3060 1.6GHz   4GB             500GB HDD   \n",
       "1165                 Intel Core i7 7500U 2.7GHz   8GB             256GB SSD   \n",
       "828                  Intel Core i5 6200U 2.3GHz   4GB             500GB HDD   \n",
       "281                  Intel Core i7 8550U 1.8GHz   8GB  128GB SSD +  1TB HDD   \n",
       "81                   Intel Core i5 8250U 1.6GHz   8GB  128GB SSD +  1TB HDD   \n",
       "\n",
       "                                    Gpu       OpSys  Weight  Price_in_euros  \n",
       "laptop_ID                                                                    \n",
       "401                  AMD Radeon R7 M445       Linux  2.33kg          778.87  \n",
       "119              Intel UHD Graphics 620  Windows 10  1.63kg         1084.00  \n",
       "1283            Nvidia GeForce GTX 960M  Windows 10   2.6kg          899.00  \n",
       "63                Intel HD Graphics 620       No OS   1.7kg          599.00  \n",
       "709                      AMD Radeon 530  Windows 10   2.2kg          399.00  \n",
       "114        Intel Iris Plus Graphics 640  Windows 10  1.23kg         1379.00  \n",
       "1177              Intel HD Graphics 520  Windows 10  1.48kg         2041.00  \n",
       "1108                     AMD Radeon 530  Windows 10   1.4kg          818.35  \n",
       "1268                  Intel HD Graphics       Linux   2.2kg          324.00  \n",
       "796             Nvidia GeForce GTX 1050  Windows 10   2.4kg          999.00  \n",
       "836               Intel HD Graphics 520  Windows 10  1.76kg          585.00  \n",
       "805               Intel HD Graphics 500  Windows 10  1.63kg          299.00  \n",
       "1243              Intel HD Graphics 405  Windows 10  2.65kg          309.00  \n",
       "845             Nvidia GeForce GTX 1070  Windows 10   2.9kg         2419.00  \n",
       "66                Intel HD Graphics 620  Windows 10  1.86kg          690.00  \n",
       "346                   Intel HD Graphics       Linux   2.2kg          274.90  \n",
       "1165               Nvidia GeForce 940MX  Windows 10  2.18kg         1009.90  \n",
       "828               Intel HD Graphics 520  Windows 10  1.76kg          755.00  \n",
       "281                      AMD Radeon 530       Linux   2.8kg         1099.00  \n",
       "81                 Nvidia GeForce 930MX  Windows 10   2.5kg          977.00  "
      ]
     },
     "execution_count": 6,
     "metadata": {},
     "output_type": "execute_result"
    }
   ],
   "source": [
    "df.sample(20)"
   ]
  },
  {
   "cell_type": "code",
   "execution_count": 78,
   "id": "1e820831",
   "metadata": {},
   "outputs": [
    {
     "data": {
      "text/plain": [
       "Gpu\n",
       "Intel HD Graphics 620       185\n",
       "Intel HD Graphics 520       125\n",
       "Intel UHD Graphics 620       52\n",
       "Nvidia GeForce GTX 1050      48\n",
       "Nvidia GeForce 940MX         31\n",
       "                           ... \n",
       "AMD Radeon RX 540             1\n",
       "Nvidia Quadro M2000M          1\n",
       "Nvidia GeForce GTX 940M       1\n",
       "AMD Radeon R5 520             1\n",
       "Nvidia GeForce GTX 1070M      1\n",
       "Name: count, Length: 93, dtype: int64"
      ]
     },
     "execution_count": 78,
     "metadata": {},
     "output_type": "execute_result"
    }
   ],
   "source": [
    "df.Gpu.value_counts()"
   ]
  },
  {
   "cell_type": "code",
   "execution_count": null,
   "id": "6bcc0cad",
   "metadata": {},
   "outputs": [],
   "source": []
  },
  {
   "cell_type": "code",
   "execution_count": 7,
   "id": "1027d40f",
   "metadata": {},
   "outputs": [],
   "source": [
    "import tool_box as tb"
   ]
  },
  {
   "cell_type": "code",
   "execution_count": 8,
   "id": "678cfec1",
   "metadata": {},
   "outputs": [
    {
     "data": {
      "text/html": [
       "<div>\n",
       "<style scoped>\n",
       "    .dataframe tbody tr th:only-of-type {\n",
       "        vertical-align: middle;\n",
       "    }\n",
       "\n",
       "    .dataframe tbody tr th {\n",
       "        vertical-align: top;\n",
       "    }\n",
       "\n",
       "    .dataframe thead th {\n",
       "        text-align: right;\n",
       "    }\n",
       "</style>\n",
       "<table border=\"1\" class=\"dataframe\">\n",
       "  <thead>\n",
       "    <tr style=\"text-align: right;\">\n",
       "      <th></th>\n",
       "      <th>Company</th>\n",
       "      <th>Product</th>\n",
       "      <th>TypeName</th>\n",
       "      <th>Inches</th>\n",
       "      <th>ScreenResolution</th>\n",
       "      <th>Cpu</th>\n",
       "      <th>Ram</th>\n",
       "      <th>Memory</th>\n",
       "      <th>Gpu</th>\n",
       "      <th>OpSys</th>\n",
       "      <th>Weight</th>\n",
       "      <th>Price_in_euros</th>\n",
       "    </tr>\n",
       "  </thead>\n",
       "  <tbody>\n",
       "    <tr>\n",
       "      <th>DATA_TYPE</th>\n",
       "      <td>object</td>\n",
       "      <td>object</td>\n",
       "      <td>object</td>\n",
       "      <td>float64</td>\n",
       "      <td>object</td>\n",
       "      <td>object</td>\n",
       "      <td>object</td>\n",
       "      <td>object</td>\n",
       "      <td>object</td>\n",
       "      <td>object</td>\n",
       "      <td>object</td>\n",
       "      <td>float64</td>\n",
       "    </tr>\n",
       "    <tr>\n",
       "      <th>MISSINGS (%)</th>\n",
       "      <td>0.0</td>\n",
       "      <td>0.0</td>\n",
       "      <td>0.0</td>\n",
       "      <td>0.0</td>\n",
       "      <td>0.0</td>\n",
       "      <td>0.0</td>\n",
       "      <td>0.0</td>\n",
       "      <td>0.0</td>\n",
       "      <td>0.0</td>\n",
       "      <td>0.0</td>\n",
       "      <td>0.0</td>\n",
       "      <td>0.0</td>\n",
       "    </tr>\n",
       "    <tr>\n",
       "      <th>UNIQUE_VALUES</th>\n",
       "      <td>19</td>\n",
       "      <td>480</td>\n",
       "      <td>6</td>\n",
       "      <td>17</td>\n",
       "      <td>36</td>\n",
       "      <td>107</td>\n",
       "      <td>9</td>\n",
       "      <td>37</td>\n",
       "      <td>93</td>\n",
       "      <td>9</td>\n",
       "      <td>165</td>\n",
       "      <td>603</td>\n",
       "    </tr>\n",
       "    <tr>\n",
       "      <th>CARDIN (%)</th>\n",
       "      <td>2.08</td>\n",
       "      <td>52.63</td>\n",
       "      <td>0.66</td>\n",
       "      <td>1.86</td>\n",
       "      <td>3.95</td>\n",
       "      <td>11.73</td>\n",
       "      <td>0.99</td>\n",
       "      <td>4.06</td>\n",
       "      <td>10.2</td>\n",
       "      <td>0.99</td>\n",
       "      <td>18.09</td>\n",
       "      <td>66.12</td>\n",
       "    </tr>\n",
       "  </tbody>\n",
       "</table>\n",
       "</div>"
      ],
      "text/plain": [
       "              Company Product TypeName   Inches ScreenResolution     Cpu  \\\n",
       "DATA_TYPE      object  object   object  float64           object  object   \n",
       "MISSINGS (%)      0.0     0.0      0.0      0.0              0.0     0.0   \n",
       "UNIQUE_VALUES      19     480        6       17               36     107   \n",
       "CARDIN (%)       2.08   52.63     0.66     1.86             3.95   11.73   \n",
       "\n",
       "                  Ram  Memory     Gpu   OpSys  Weight Price_in_euros  \n",
       "DATA_TYPE      object  object  object  object  object        float64  \n",
       "MISSINGS (%)      0.0     0.0     0.0     0.0     0.0            0.0  \n",
       "UNIQUE_VALUES       9      37      93       9     165            603  \n",
       "CARDIN (%)       0.99    4.06    10.2    0.99   18.09          66.12  "
      ]
     },
     "execution_count": 8,
     "metadata": {},
     "output_type": "execute_result"
    }
   ],
   "source": [
    "tb.describe_df(df)"
   ]
  },
  {
   "cell_type": "code",
   "execution_count": 4,
   "id": "8d306fd5",
   "metadata": {},
   "outputs": [],
   "source": [
    "train_set, test_set = train_test_split(df, test_size = 0.20, random_state = 42)"
   ]
  },
  {
   "cell_type": "markdown",
   "id": "7277e126",
   "metadata": {},
   "source": [
    "- Elimino las filas que cointienen en la columna OpSys el nombre Mac Os X, porque al hacer el split no se encuentra en ambos sets. Se ha intentado hacer varios splits estratificados pero me entorpece en otras columnas asique elimino 6 instancias del dataset con la variable Mac Os X"
   ]
  },
  {
   "cell_type": "code",
   "execution_count": 5,
   "id": "f7e6849c",
   "metadata": {},
   "outputs": [],
   "source": [
    "train_set = train_set[train_set.Company != 'Huawey']"
   ]
  },
  {
   "cell_type": "code",
   "execution_count": 6,
   "id": "4c139e4a",
   "metadata": {},
   "outputs": [],
   "source": [
    "test_set = test_set[test_set.Company != 'Huawey']"
   ]
  },
  {
   "cell_type": "code",
   "execution_count": 7,
   "id": "f31a1cb0",
   "metadata": {},
   "outputs": [],
   "source": [
    "train_set = train_set[train_set.OpSys != 'Android']"
   ]
  },
  {
   "cell_type": "code",
   "execution_count": 8,
   "id": "d270ca9f",
   "metadata": {},
   "outputs": [],
   "source": [
    "test_set = test_set[test_set.OpSys != 'Android']"
   ]
  },
  {
   "cell_type": "code",
   "execution_count": 9,
   "id": "f973b771",
   "metadata": {},
   "outputs": [],
   "source": [
    "target = 'Price_in_euros'"
   ]
  },
  {
   "cell_type": "markdown",
   "id": "f17cb696",
   "metadata": {},
   "source": [
    "- Ram y Weight"
   ]
  },
  {
   "cell_type": "code",
   "execution_count": 10,
   "id": "f7f42143",
   "metadata": {},
   "outputs": [],
   "source": [
    "train_set['ram_GB']=train_set.Ram.str.replace(\"GB\", \"\").astype(int)\n",
    "train_set['weight_kg']=train_set.Weight.str.replace(\"kg\", \"\").astype(float)\n",
    "test_set['ram_GB']=test_set.Ram.str.replace(\"GB\", \"\").astype(int)\n",
    "test_set['weight_kg']=test_set.Weight.str.replace(\"kg\", \"\").astype(float)"
   ]
  },
  {
   "cell_type": "code",
   "execution_count": 16,
   "id": "e6e0cd88",
   "metadata": {},
   "outputs": [
    {
     "data": {
      "text/html": [
       "<div>\n",
       "<style scoped>\n",
       "    .dataframe tbody tr th:only-of-type {\n",
       "        vertical-align: middle;\n",
       "    }\n",
       "\n",
       "    .dataframe tbody tr th {\n",
       "        vertical-align: top;\n",
       "    }\n",
       "\n",
       "    .dataframe thead th {\n",
       "        text-align: right;\n",
       "    }\n",
       "</style>\n",
       "<table border=\"1\" class=\"dataframe\">\n",
       "  <thead>\n",
       "    <tr style=\"text-align: right;\">\n",
       "      <th></th>\n",
       "      <th>Company</th>\n",
       "      <th>Product</th>\n",
       "      <th>TypeName</th>\n",
       "      <th>Inches</th>\n",
       "      <th>ScreenResolution</th>\n",
       "      <th>Cpu</th>\n",
       "      <th>Ram</th>\n",
       "      <th>Memory</th>\n",
       "      <th>Gpu</th>\n",
       "      <th>OpSys</th>\n",
       "      <th>Weight</th>\n",
       "      <th>Price_in_euros</th>\n",
       "      <th>ram_GB</th>\n",
       "      <th>weight_kg</th>\n",
       "    </tr>\n",
       "  </thead>\n",
       "  <tbody>\n",
       "    <tr>\n",
       "      <th>DATA_TYPE</th>\n",
       "      <td>object</td>\n",
       "      <td>object</td>\n",
       "      <td>object</td>\n",
       "      <td>float64</td>\n",
       "      <td>object</td>\n",
       "      <td>object</td>\n",
       "      <td>object</td>\n",
       "      <td>object</td>\n",
       "      <td>object</td>\n",
       "      <td>object</td>\n",
       "      <td>object</td>\n",
       "      <td>float64</td>\n",
       "      <td>int64</td>\n",
       "      <td>float64</td>\n",
       "    </tr>\n",
       "    <tr>\n",
       "      <th>MISSINGS (%)</th>\n",
       "      <td>0.0</td>\n",
       "      <td>0.0</td>\n",
       "      <td>0.0</td>\n",
       "      <td>0.0</td>\n",
       "      <td>0.0</td>\n",
       "      <td>0.0</td>\n",
       "      <td>0.0</td>\n",
       "      <td>0.0</td>\n",
       "      <td>0.0</td>\n",
       "      <td>0.0</td>\n",
       "      <td>0.0</td>\n",
       "      <td>0.0</td>\n",
       "      <td>0.0</td>\n",
       "      <td>0.0</td>\n",
       "    </tr>\n",
       "    <tr>\n",
       "      <th>UNIQUE_VALUES</th>\n",
       "      <td>17</td>\n",
       "      <td>407</td>\n",
       "      <td>6</td>\n",
       "      <td>14</td>\n",
       "      <td>32</td>\n",
       "      <td>92</td>\n",
       "      <td>8</td>\n",
       "      <td>33</td>\n",
       "      <td>84</td>\n",
       "      <td>8</td>\n",
       "      <td>147</td>\n",
       "      <td>504</td>\n",
       "      <td>8</td>\n",
       "      <td>141</td>\n",
       "    </tr>\n",
       "    <tr>\n",
       "      <th>CARDIN (%)</th>\n",
       "      <td>2.34</td>\n",
       "      <td>55.91</td>\n",
       "      <td>0.82</td>\n",
       "      <td>1.92</td>\n",
       "      <td>4.4</td>\n",
       "      <td>12.64</td>\n",
       "      <td>1.1</td>\n",
       "      <td>4.53</td>\n",
       "      <td>11.54</td>\n",
       "      <td>1.1</td>\n",
       "      <td>20.19</td>\n",
       "      <td>69.23</td>\n",
       "      <td>1.1</td>\n",
       "      <td>19.37</td>\n",
       "    </tr>\n",
       "  </tbody>\n",
       "</table>\n",
       "</div>"
      ],
      "text/plain": [
       "              Company Product TypeName   Inches ScreenResolution     Cpu  \\\n",
       "DATA_TYPE      object  object   object  float64           object  object   \n",
       "MISSINGS (%)      0.0     0.0      0.0      0.0              0.0     0.0   \n",
       "UNIQUE_VALUES      17     407        6       14               32      92   \n",
       "CARDIN (%)       2.34   55.91     0.82     1.92              4.4   12.64   \n",
       "\n",
       "                  Ram  Memory     Gpu   OpSys  Weight Price_in_euros ram_GB  \\\n",
       "DATA_TYPE      object  object  object  object  object        float64  int64   \n",
       "MISSINGS (%)      0.0     0.0     0.0     0.0     0.0            0.0    0.0   \n",
       "UNIQUE_VALUES       8      33      84       8     147            504      8   \n",
       "CARDIN (%)        1.1    4.53   11.54     1.1   20.19          69.23    1.1   \n",
       "\n",
       "              weight_kg  \n",
       "DATA_TYPE       float64  \n",
       "MISSINGS (%)        0.0  \n",
       "UNIQUE_VALUES       141  \n",
       "CARDIN (%)        19.37  "
      ]
     },
     "execution_count": 16,
     "metadata": {},
     "output_type": "execute_result"
    }
   ],
   "source": [
    "tb.describe_df(train_set)"
   ]
  },
  {
   "cell_type": "markdown",
   "id": "780dff19",
   "metadata": {},
   "source": [
    "- Gpu"
   ]
  },
  {
   "cell_type": "code",
   "execution_count": 82,
   "id": "f3ee1bce",
   "metadata": {},
   "outputs": [
    {
     "data": {
      "text/plain": [
       "'Intel'"
      ]
     },
     "execution_count": 82,
     "metadata": {},
     "output_type": "execute_result"
    }
   ],
   "source": [
    "a = 'Intel HD Graphics 620'\n",
    "b = a.split(' ')[0]\n",
    "b"
   ]
  },
  {
   "cell_type": "code",
   "execution_count": 11,
   "id": "9d5978e4",
   "metadata": {},
   "outputs": [],
   "source": [
    "lista = []\n",
    "for x in train_set['Gpu']:\n",
    "    a = x.split(\" \")[0]\n",
    "    lista.append(a)"
   ]
  },
  {
   "cell_type": "code",
   "execution_count": 12,
   "id": "efdb7d3d",
   "metadata": {},
   "outputs": [
    {
     "data": {
      "text/plain": [
       "Gpu_new\n",
       "Intel     416\n",
       "Nvidia    220\n",
       "AMD        92\n",
       "Name: count, dtype: int64"
      ]
     },
     "execution_count": 12,
     "metadata": {},
     "output_type": "execute_result"
    }
   ],
   "source": [
    "train_set['Gpu_new'] = lista\n",
    "train_set.Gpu_new.value_counts()"
   ]
  },
  {
   "cell_type": "code",
   "execution_count": 13,
   "id": "a4a9a4d0",
   "metadata": {},
   "outputs": [],
   "source": [
    "lista_test = []\n",
    "for x in test_set['Gpu']:\n",
    "    a = x.split(\" \")[0]\n",
    "    lista_test.append(a)"
   ]
  },
  {
   "cell_type": "code",
   "execution_count": 14,
   "id": "f9c79dc6",
   "metadata": {},
   "outputs": [
    {
     "data": {
      "text/plain": [
       "Gpu_new\n",
       "Intel     91\n",
       "Nvidia    64\n",
       "AMD       27\n",
       "Name: count, dtype: int64"
      ]
     },
     "execution_count": 14,
     "metadata": {},
     "output_type": "execute_result"
    }
   ],
   "source": [
    "test_set['Gpu_new'] = lista_test\n",
    "test_set.Gpu_new.value_counts()"
   ]
  },
  {
   "cell_type": "markdown",
   "id": "9e524a1c",
   "metadata": {},
   "source": [
    "- Pixel"
   ]
  },
  {
   "cell_type": "code",
   "execution_count": 15,
   "id": "27f2318a",
   "metadata": {},
   "outputs": [],
   "source": [
    "lista = []\n",
    "for x in train_set['ScreenResolution']:\n",
    "    a = x.split(\" \")\n",
    "    b = a[-1].split('x')\n",
    "    c = int(b[0])*int(b[1])\n",
    "    lista.append(c)"
   ]
  },
  {
   "cell_type": "code",
   "execution_count": 16,
   "id": "6b8d407c",
   "metadata": {},
   "outputs": [],
   "source": [
    "train_set['pixel'] = lista\n",
    "\n"
   ]
  },
  {
   "cell_type": "code",
   "execution_count": 17,
   "id": "7dea1433",
   "metadata": {},
   "outputs": [],
   "source": [
    "lista_test = []\n",
    "for x in test_set['ScreenResolution']:\n",
    "    a = x.split(\" \")\n",
    "    b = a[-1].split('x')\n",
    "    c = int(b[0])*int(b[1])\n",
    "    lista_test.append(c)\n",
    "\n",
    "test_set['pixel'] = lista_test"
   ]
  },
  {
   "cell_type": "markdown",
   "id": "66bcbc03",
   "metadata": {},
   "source": [
    "- Company"
   ]
  },
  {
   "cell_type": "code",
   "execution_count": 19,
   "id": "feade630",
   "metadata": {},
   "outputs": [],
   "source": [
    "a = df.Company.unique()\n",
    "lista_company = []\n",
    "for x in a:\n",
    "    lista_company.append(x)"
   ]
  },
  {
   "cell_type": "code",
   "execution_count": 20,
   "id": "d10bdff2",
   "metadata": {},
   "outputs": [
    {
     "name": "stderr",
     "output_type": "stream",
     "text": [
      "C:\\Users\\MARTA\\AppData\\Local\\Temp\\ipykernel_15896\\1552707568.py:3: FutureWarning: Series.__getitem__ treating keys as positions is deprecated. In a future version, integer keys will always be treated as labels (consistent with DataFrame behavior). To access a value by position, use `ser.iloc[pos]`\n",
      "  if df.loc[df['Company'] == company, 'Company'].value_counts()[0] < 7:\n",
      "C:\\Users\\MARTA\\AppData\\Local\\Temp\\ipykernel_15896\\1552707568.py:3: FutureWarning: Series.__getitem__ treating keys as positions is deprecated. In a future version, integer keys will always be treated as labels (consistent with DataFrame behavior). To access a value by position, use `ser.iloc[pos]`\n",
      "  if df.loc[df['Company'] == company, 'Company'].value_counts()[0] < 7:\n",
      "C:\\Users\\MARTA\\AppData\\Local\\Temp\\ipykernel_15896\\1552707568.py:3: FutureWarning: Series.__getitem__ treating keys as positions is deprecated. In a future version, integer keys will always be treated as labels (consistent with DataFrame behavior). To access a value by position, use `ser.iloc[pos]`\n",
      "  if df.loc[df['Company'] == company, 'Company'].value_counts()[0] < 7:\n",
      "C:\\Users\\MARTA\\AppData\\Local\\Temp\\ipykernel_15896\\1552707568.py:3: FutureWarning: Series.__getitem__ treating keys as positions is deprecated. In a future version, integer keys will always be treated as labels (consistent with DataFrame behavior). To access a value by position, use `ser.iloc[pos]`\n",
      "  if df.loc[df['Company'] == company, 'Company'].value_counts()[0] < 7:\n",
      "C:\\Users\\MARTA\\AppData\\Local\\Temp\\ipykernel_15896\\1552707568.py:3: FutureWarning: Series.__getitem__ treating keys as positions is deprecated. In a future version, integer keys will always be treated as labels (consistent with DataFrame behavior). To access a value by position, use `ser.iloc[pos]`\n",
      "  if df.loc[df['Company'] == company, 'Company'].value_counts()[0] < 7:\n",
      "C:\\Users\\MARTA\\AppData\\Local\\Temp\\ipykernel_15896\\1552707568.py:3: FutureWarning: Series.__getitem__ treating keys as positions is deprecated. In a future version, integer keys will always be treated as labels (consistent with DataFrame behavior). To access a value by position, use `ser.iloc[pos]`\n",
      "  if df.loc[df['Company'] == company, 'Company'].value_counts()[0] < 7:\n",
      "C:\\Users\\MARTA\\AppData\\Local\\Temp\\ipykernel_15896\\1552707568.py:3: FutureWarning: Series.__getitem__ treating keys as positions is deprecated. In a future version, integer keys will always be treated as labels (consistent with DataFrame behavior). To access a value by position, use `ser.iloc[pos]`\n",
      "  if df.loc[df['Company'] == company, 'Company'].value_counts()[0] < 7:\n",
      "C:\\Users\\MARTA\\AppData\\Local\\Temp\\ipykernel_15896\\1552707568.py:3: FutureWarning: Series.__getitem__ treating keys as positions is deprecated. In a future version, integer keys will always be treated as labels (consistent with DataFrame behavior). To access a value by position, use `ser.iloc[pos]`\n",
      "  if df.loc[df['Company'] == company, 'Company'].value_counts()[0] < 7:\n",
      "C:\\Users\\MARTA\\AppData\\Local\\Temp\\ipykernel_15896\\1552707568.py:3: FutureWarning: Series.__getitem__ treating keys as positions is deprecated. In a future version, integer keys will always be treated as labels (consistent with DataFrame behavior). To access a value by position, use `ser.iloc[pos]`\n",
      "  if df.loc[df['Company'] == company, 'Company'].value_counts()[0] < 7:\n",
      "C:\\Users\\MARTA\\AppData\\Local\\Temp\\ipykernel_15896\\1552707568.py:3: FutureWarning: Series.__getitem__ treating keys as positions is deprecated. In a future version, integer keys will always be treated as labels (consistent with DataFrame behavior). To access a value by position, use `ser.iloc[pos]`\n",
      "  if df.loc[df['Company'] == company, 'Company'].value_counts()[0] < 7:\n",
      "C:\\Users\\MARTA\\AppData\\Local\\Temp\\ipykernel_15896\\1552707568.py:3: FutureWarning: Series.__getitem__ treating keys as positions is deprecated. In a future version, integer keys will always be treated as labels (consistent with DataFrame behavior). To access a value by position, use `ser.iloc[pos]`\n",
      "  if df.loc[df['Company'] == company, 'Company'].value_counts()[0] < 7:\n",
      "C:\\Users\\MARTA\\AppData\\Local\\Temp\\ipykernel_15896\\1552707568.py:3: FutureWarning: Series.__getitem__ treating keys as positions is deprecated. In a future version, integer keys will always be treated as labels (consistent with DataFrame behavior). To access a value by position, use `ser.iloc[pos]`\n",
      "  if df.loc[df['Company'] == company, 'Company'].value_counts()[0] < 7:\n",
      "C:\\Users\\MARTA\\AppData\\Local\\Temp\\ipykernel_15896\\1552707568.py:3: FutureWarning: Series.__getitem__ treating keys as positions is deprecated. In a future version, integer keys will always be treated as labels (consistent with DataFrame behavior). To access a value by position, use `ser.iloc[pos]`\n",
      "  if df.loc[df['Company'] == company, 'Company'].value_counts()[0] < 7:\n",
      "C:\\Users\\MARTA\\AppData\\Local\\Temp\\ipykernel_15896\\1552707568.py:3: FutureWarning: Series.__getitem__ treating keys as positions is deprecated. In a future version, integer keys will always be treated as labels (consistent with DataFrame behavior). To access a value by position, use `ser.iloc[pos]`\n",
      "  if df.loc[df['Company'] == company, 'Company'].value_counts()[0] < 7:\n",
      "C:\\Users\\MARTA\\AppData\\Local\\Temp\\ipykernel_15896\\1552707568.py:3: FutureWarning: Series.__getitem__ treating keys as positions is deprecated. In a future version, integer keys will always be treated as labels (consistent with DataFrame behavior). To access a value by position, use `ser.iloc[pos]`\n",
      "  if df.loc[df['Company'] == company, 'Company'].value_counts()[0] < 7:\n",
      "C:\\Users\\MARTA\\AppData\\Local\\Temp\\ipykernel_15896\\1552707568.py:3: FutureWarning: Series.__getitem__ treating keys as positions is deprecated. In a future version, integer keys will always be treated as labels (consistent with DataFrame behavior). To access a value by position, use `ser.iloc[pos]`\n",
      "  if df.loc[df['Company'] == company, 'Company'].value_counts()[0] < 7:\n",
      "C:\\Users\\MARTA\\AppData\\Local\\Temp\\ipykernel_15896\\1552707568.py:3: FutureWarning: Series.__getitem__ treating keys as positions is deprecated. In a future version, integer keys will always be treated as labels (consistent with DataFrame behavior). To access a value by position, use `ser.iloc[pos]`\n",
      "  if df.loc[df['Company'] == company, 'Company'].value_counts()[0] < 7:\n",
      "C:\\Users\\MARTA\\AppData\\Local\\Temp\\ipykernel_15896\\1552707568.py:3: FutureWarning: Series.__getitem__ treating keys as positions is deprecated. In a future version, integer keys will always be treated as labels (consistent with DataFrame behavior). To access a value by position, use `ser.iloc[pos]`\n",
      "  if df.loc[df['Company'] == company, 'Company'].value_counts()[0] < 7:\n",
      "C:\\Users\\MARTA\\AppData\\Local\\Temp\\ipykernel_15896\\1552707568.py:3: FutureWarning: Series.__getitem__ treating keys as positions is deprecated. In a future version, integer keys will always be treated as labels (consistent with DataFrame behavior). To access a value by position, use `ser.iloc[pos]`\n",
      "  if df.loc[df['Company'] == company, 'Company'].value_counts()[0] < 7:\n"
     ]
    }
   ],
   "source": [
    "otros = []\n",
    "for company in lista_company:\n",
    "    if df.loc[df['Company'] == company, 'Company'].value_counts()[0] < 7:\n",
    "        otros.append(company)"
   ]
  },
  {
   "cell_type": "code",
   "execution_count": 21,
   "id": "67d056b3",
   "metadata": {},
   "outputs": [],
   "source": [
    "for x in otros:\n",
    "    if x in train_set['Company'].unique():\n",
    "        train_set.loc[train_set['Company'] == x, 'Company'] = 'Otros'"
   ]
  },
  {
   "cell_type": "code",
   "execution_count": 22,
   "id": "dde638e7",
   "metadata": {},
   "outputs": [],
   "source": [
    "for x in otros:\n",
    "    if x in test_set['Company'].unique():\n",
    "        test_set.loc[test_set['Company'] == x, 'Company'] = 'Otros'"
   ]
  },
  {
   "cell_type": "code",
   "execution_count": 23,
   "id": "95d5455d",
   "metadata": {},
   "outputs": [
    {
     "data": {
      "text/plain": [
       "Company\n",
       "Lenovo     161\n",
       "Dell       158\n",
       "HP         155\n",
       "Asus       101\n",
       "Acer        55\n",
       "Toshiba     31\n",
       "MSI         30\n",
       "Otros       24\n",
       "Apple       13\n",
       "Name: count, dtype: int64"
      ]
     },
     "execution_count": 23,
     "metadata": {},
     "output_type": "execute_result"
    }
   ],
   "source": [
    "train_set.Company.value_counts()"
   ]
  },
  {
   "cell_type": "code",
   "execution_count": 24,
   "id": "502ba437",
   "metadata": {},
   "outputs": [
    {
     "data": {
      "text/plain": [
       "Company\n",
       "HP         39\n",
       "Lenovo     39\n",
       "Dell       39\n",
       "Asus       20\n",
       "Acer       19\n",
       "Otros      12\n",
       "MSI         7\n",
       "Apple       4\n",
       "Toshiba     3\n",
       "Name: count, dtype: int64"
      ]
     },
     "execution_count": 24,
     "metadata": {},
     "output_type": "execute_result"
    }
   ],
   "source": [
    "test_set.Company.value_counts()"
   ]
  },
  {
   "cell_type": "markdown",
   "id": "816bd191",
   "metadata": {},
   "source": [
    "- Cpu"
   ]
  },
  {
   "cell_type": "code",
   "execution_count": 28,
   "id": "262eaadf",
   "metadata": {},
   "outputs": [
    {
     "data": {
      "text/plain": [
       "['Intel Core i7',\n",
       " 'Intel Core i7',\n",
       " 'Intel Core i5',\n",
       " 'Intel Core i5',\n",
       " 'Intel Core i7',\n",
       " 'Intel Core i5',\n",
       " 'Intel Core i7',\n",
       " 'Intel Core i5',\n",
       " 'Intel Core i7',\n",
       " 'Intel Core i7',\n",
       " 'Intel Core i7',\n",
       " 'Intel Core i7',\n",
       " 'Intel Core i7',\n",
       " 'Intel Core i7',\n",
       " 'Intel Core i5',\n",
       " 'Intel Core i7',\n",
       " 'Intel Core i5',\n",
       " 'Intel Core i5',\n",
       " 'Intel Core i7',\n",
       " 'Intel Core i7',\n",
       " 'Intel Core i5',\n",
       " 'AMD A9-Series 9420',\n",
       " 'Intel Core i5',\n",
       " 'Intel Core i7',\n",
       " 'Intel Core i3',\n",
       " 'AMD A9-Series 9420',\n",
       " 'Intel Core i7',\n",
       " 'Intel Core i5',\n",
       " 'Intel Core i5',\n",
       " 'AMD A10-Series 9600P',\n",
       " 'Intel Core i7',\n",
       " 'Intel Core i7',\n",
       " 'Intel Celeron Dual',\n",
       " 'Intel Core i5',\n",
       " 'AMD A8-Series 7410',\n",
       " 'Intel Core i5',\n",
       " 'Intel Core i5',\n",
       " 'AMD A12-Series 9720P',\n",
       " 'Intel Core i7',\n",
       " 'Intel Core i5',\n",
       " 'Intel Core i7',\n",
       " 'Intel Core i7',\n",
       " 'Intel Core i5',\n",
       " 'Intel Core i3',\n",
       " 'Intel Core i5',\n",
       " 'AMD E-Series 7110',\n",
       " 'Intel Core i7',\n",
       " 'Intel Core i7',\n",
       " 'Intel Core i7',\n",
       " 'Intel Core M',\n",
       " 'Intel Core i5',\n",
       " 'Intel Celeron Dual',\n",
       " 'Intel Core i7',\n",
       " 'Intel Core i3',\n",
       " 'Intel Core i5',\n",
       " 'Intel Core i5',\n",
       " 'Intel Core i7',\n",
       " 'Intel Celeron Dual',\n",
       " 'Intel Core i7',\n",
       " 'Intel Core i5',\n",
       " 'Intel Celeron Dual',\n",
       " 'Intel Core i5',\n",
       " 'Intel Core i3',\n",
       " 'Intel Core i5',\n",
       " 'Intel Core i5',\n",
       " 'Intel Core i5',\n",
       " 'Intel Core i7',\n",
       " 'Intel Core i5',\n",
       " 'Intel Core i5',\n",
       " 'Intel Core i3',\n",
       " 'Intel Pentium Quad',\n",
       " 'Intel Celeron Dual',\n",
       " 'Intel Celeron Dual',\n",
       " 'Intel Core i7',\n",
       " 'Intel Core i5',\n",
       " 'Intel Core i7',\n",
       " 'AMD E-Series E2-6110',\n",
       " 'Intel Core i7',\n",
       " 'Intel Core i5',\n",
       " 'Intel Celeron Dual',\n",
       " 'Intel Core i7',\n",
       " 'Intel Core i7',\n",
       " 'Intel Core i7',\n",
       " 'Intel Core i7',\n",
       " 'Intel Core i5',\n",
       " 'Intel Core i7',\n",
       " 'Intel Core i7',\n",
       " 'Intel Core i7',\n",
       " 'Intel Core i7',\n",
       " 'Intel Core i5',\n",
       " 'Intel Core i5',\n",
       " 'Intel Core i5',\n",
       " 'Intel Core i5',\n",
       " 'Intel Core i5',\n",
       " 'Intel Core i7',\n",
       " 'Intel Core i7',\n",
       " 'Intel Core i7',\n",
       " 'Intel Core i5',\n",
       " 'Intel Core i7',\n",
       " 'Intel Core i5',\n",
       " 'Intel Core i7',\n",
       " 'Intel Core i7',\n",
       " 'Intel Pentium Quad',\n",
       " 'Intel Core i3',\n",
       " 'Intel Core i7',\n",
       " 'Intel Celeron Dual',\n",
       " 'Intel Core i7',\n",
       " 'Intel Core i7',\n",
       " 'Intel Core i7',\n",
       " 'Intel Core i7',\n",
       " 'Intel Core i3',\n",
       " 'Intel Core i7',\n",
       " 'Intel Core i5',\n",
       " 'Intel Core i5',\n",
       " 'Intel Core i3',\n",
       " 'Intel Core i3',\n",
       " 'Intel Core i5',\n",
       " 'Intel Core i5',\n",
       " 'Intel Core i3',\n",
       " 'Intel Core M',\n",
       " 'Intel Core i7',\n",
       " 'Intel Core i3',\n",
       " 'Intel Atom x5-Z8350',\n",
       " 'Intel Core i5',\n",
       " 'AMD A9-Series 9420',\n",
       " 'Intel Core i5',\n",
       " 'Intel Core i5',\n",
       " 'Intel Pentium Dual',\n",
       " 'Intel Core i5',\n",
       " 'Intel Core i7',\n",
       " 'Intel Core i5',\n",
       " 'Intel Core i5',\n",
       " 'Intel Core i7',\n",
       " 'Intel Core i7',\n",
       " 'AMD A6-Series A6-9220',\n",
       " 'Intel Core i7',\n",
       " 'Intel Core i7',\n",
       " 'Intel Core i7',\n",
       " 'Intel Core i7',\n",
       " 'Intel Core i5',\n",
       " 'Intel Core i3',\n",
       " 'Intel Core i7',\n",
       " 'Intel Pentium Quad',\n",
       " 'Intel Core i7',\n",
       " 'Intel Core i3',\n",
       " 'Intel Core i7',\n",
       " 'Intel Core i5',\n",
       " 'Intel Core i7',\n",
       " 'Intel Core i7',\n",
       " 'Intel Core i5',\n",
       " 'Intel Celeron Dual',\n",
       " 'Intel Celeron Dual',\n",
       " 'Intel Core i5',\n",
       " 'Intel Core i3',\n",
       " 'Intel Core i7',\n",
       " 'Intel Core i7',\n",
       " 'Intel Core i5',\n",
       " 'Intel Core i3',\n",
       " 'Intel Core i5',\n",
       " 'Intel Core i7',\n",
       " 'Intel Core i7',\n",
       " 'AMD A10-Series A10-9620P',\n",
       " 'Intel Celeron Dual',\n",
       " 'Intel Core i7',\n",
       " 'Intel Core i5',\n",
       " 'Intel Core i7',\n",
       " 'Intel Core i7',\n",
       " 'Intel Core i3',\n",
       " 'Intel Core i7',\n",
       " 'Intel Core i7',\n",
       " 'Intel Pentium Quad',\n",
       " 'Intel Core i5',\n",
       " 'Intel Core i3',\n",
       " 'Intel Core i5',\n",
       " 'Intel Core i5',\n",
       " 'Intel Atom x5-Z8350',\n",
       " 'Intel Core i5',\n",
       " 'Intel Core i7',\n",
       " 'Intel Core M',\n",
       " 'Intel Core i7',\n",
       " 'Intel Core i7',\n",
       " 'Intel Core i7',\n",
       " 'Intel Core i7',\n",
       " 'Intel Core i3',\n",
       " 'Intel Core i5',\n",
       " 'Intel Core i7',\n",
       " 'Intel Core i5',\n",
       " 'Intel Core i7',\n",
       " 'AMD A12-Series 9720P',\n",
       " 'Intel Core i5',\n",
       " 'Intel Core i5',\n",
       " 'Intel Core i7',\n",
       " 'Intel Core i7',\n",
       " 'Intel Celeron Dual',\n",
       " 'AMD A6-Series 9220',\n",
       " 'Intel Core i7',\n",
       " 'Intel Core i7',\n",
       " 'Intel Celeron Dual',\n",
       " 'AMD FX 9830P',\n",
       " 'Intel Core i3',\n",
       " 'Intel Core i7',\n",
       " 'Intel Core i7',\n",
       " 'Intel Core i7',\n",
       " 'Intel Core i7',\n",
       " 'Intel Core i5',\n",
       " 'Intel Core i7',\n",
       " 'Intel Core i7',\n",
       " 'Intel Core i7',\n",
       " 'Intel Core i5',\n",
       " 'Intel Core i7',\n",
       " 'Intel Core i5',\n",
       " 'AMD A8-Series 7410',\n",
       " 'Intel Core i7',\n",
       " 'Intel Core i7',\n",
       " 'Intel Core i3',\n",
       " 'AMD A6-Series 9220',\n",
       " 'Intel Core i7',\n",
       " 'Intel Core i5',\n",
       " 'Intel Core i3',\n",
       " 'Intel Core i7',\n",
       " 'Intel Celeron Dual',\n",
       " 'Intel Pentium Quad',\n",
       " 'Intel Core i5',\n",
       " 'Intel Core i7',\n",
       " 'Intel Core i3',\n",
       " 'Intel Core i5',\n",
       " 'Intel Core i3',\n",
       " 'Intel Core i5',\n",
       " 'Intel Core M',\n",
       " 'Intel Core i7',\n",
       " 'Intel Celeron Dual',\n",
       " 'Intel Celeron Quad',\n",
       " 'Intel Core i5',\n",
       " 'Intel Pentium Quad',\n",
       " 'Intel Core i3',\n",
       " 'Intel Core i7',\n",
       " 'Intel Core i7',\n",
       " 'Intel Core i7',\n",
       " 'Intel Core M',\n",
       " 'Intel Core i5',\n",
       " 'Intel Core i3',\n",
       " 'Intel Core i7',\n",
       " 'AMD E-Series E2-9000e',\n",
       " 'Intel Core i5',\n",
       " 'Intel Core i7',\n",
       " 'Intel Core i7',\n",
       " 'Intel Core i5',\n",
       " 'Intel Core i7',\n",
       " 'AMD E-Series 9000e',\n",
       " 'Intel Core i7',\n",
       " 'Intel Core i3',\n",
       " 'Intel Core i5',\n",
       " 'Intel Core i3',\n",
       " 'Intel Core i7',\n",
       " 'Intel Core i5',\n",
       " 'Intel Core i3',\n",
       " 'Intel Core i7',\n",
       " 'Intel Core i7',\n",
       " 'Intel Core i5',\n",
       " 'Intel Core i7',\n",
       " 'Intel Core i7',\n",
       " 'Intel Core i5',\n",
       " 'Intel Pentium Dual',\n",
       " 'Intel Core i7',\n",
       " 'Intel Core i7',\n",
       " 'Intel Core M',\n",
       " 'Intel Core i3',\n",
       " 'Intel Celeron Dual',\n",
       " 'Intel Core i5',\n",
       " 'Intel Core i7',\n",
       " 'Intel Core i3',\n",
       " 'Intel Core i7',\n",
       " 'Intel Pentium Quad',\n",
       " 'Intel Core i5',\n",
       " 'Intel Core i7',\n",
       " 'Intel Core i7',\n",
       " 'Intel Core i7',\n",
       " 'Intel Core i7',\n",
       " 'Intel Core i7',\n",
       " 'Intel Core i7',\n",
       " 'AMD A6-Series 9220',\n",
       " 'Intel Atom x5-Z8350',\n",
       " 'Intel Core i5',\n",
       " 'Intel Core i5',\n",
       " 'Intel Core i7',\n",
       " 'Intel Core i7',\n",
       " 'Intel Core i3',\n",
       " 'Intel Core i5',\n",
       " 'Intel Core i7',\n",
       " 'Intel Core i3',\n",
       " 'Intel Core i5',\n",
       " 'Intel Celeron Quad',\n",
       " 'Intel Core i7',\n",
       " 'Intel Celeron Dual',\n",
       " 'Intel Celeron Dual',\n",
       " 'AMD A12-Series 9720P',\n",
       " 'Intel Celeron Dual',\n",
       " 'Intel Core i5',\n",
       " 'Intel Core i7',\n",
       " 'Intel Core i7',\n",
       " 'Intel Core i7',\n",
       " 'Intel Core i5',\n",
       " 'Intel Celeron Dual',\n",
       " 'Intel Core i3',\n",
       " 'Intel Core i5',\n",
       " 'Intel Core i7',\n",
       " 'Intel Core i7',\n",
       " 'AMD A9-Series A9-9420',\n",
       " 'Intel Core i7',\n",
       " 'Intel Core i7',\n",
       " 'Intel Core i5',\n",
       " 'Intel Core i3',\n",
       " 'Intel Core i7',\n",
       " 'Intel Core i3',\n",
       " 'Intel Core i7',\n",
       " 'Intel Core i5',\n",
       " 'Intel Core i7',\n",
       " 'Intel Core i7',\n",
       " 'Intel Core i5',\n",
       " 'Intel Core i7',\n",
       " 'Intel Core i3',\n",
       " 'Intel Pentium Quad',\n",
       " 'Intel Core i5',\n",
       " 'Intel Celeron Dual',\n",
       " 'Intel Core i5',\n",
       " 'Intel Core i7',\n",
       " 'Intel Core i5',\n",
       " 'Intel Core i7',\n",
       " 'Intel Core i7',\n",
       " 'Intel Core i7',\n",
       " 'Intel Celeron Dual',\n",
       " 'Intel Core i5',\n",
       " 'Intel Core i7',\n",
       " 'Intel Core i3',\n",
       " 'AMD A9-Series 9420',\n",
       " 'Intel Core i5',\n",
       " 'Intel Core i7',\n",
       " 'Intel Core i3',\n",
       " 'Intel Core i7',\n",
       " 'Intel Core i3',\n",
       " 'Intel Core i5',\n",
       " 'Intel Core i5',\n",
       " 'Intel Core i7',\n",
       " 'Intel Core i5',\n",
       " 'Intel Core i3',\n",
       " 'Intel Core i5',\n",
       " 'Intel Core i7',\n",
       " 'Intel Core i5',\n",
       " 'Intel Core i3',\n",
       " 'Intel Core i5',\n",
       " 'Intel Core i5',\n",
       " 'Intel Core i7',\n",
       " 'Intel Core i5',\n",
       " 'Intel Core i5',\n",
       " 'Intel Core i7',\n",
       " 'Intel Core i7',\n",
       " 'Intel Core i5',\n",
       " 'Intel Core i5',\n",
       " 'Intel Core i7',\n",
       " 'Intel Core i5',\n",
       " 'Intel Core i7',\n",
       " 'Intel Celeron Dual',\n",
       " 'Intel Core i5',\n",
       " 'Intel Core i7',\n",
       " 'Intel Core i5',\n",
       " 'Intel Core i7',\n",
       " 'Intel Core i5',\n",
       " 'Intel Core i5',\n",
       " 'Intel Core i5',\n",
       " 'Intel Core i5',\n",
       " 'Intel Core i7',\n",
       " 'Intel Core i7',\n",
       " 'Intel Core i5',\n",
       " 'Intel Core i7',\n",
       " 'Intel Core i5',\n",
       " 'Intel Core i7',\n",
       " 'Intel Core i5',\n",
       " 'Intel Core i5',\n",
       " 'Intel Core i7',\n",
       " 'Intel Core i7',\n",
       " 'AMD A6-Series 7310',\n",
       " 'Intel Core i5',\n",
       " 'Intel Core i7',\n",
       " 'Intel Celeron Dual',\n",
       " 'Intel Core i5',\n",
       " 'Intel Core i3',\n",
       " 'Intel Core i7',\n",
       " 'Intel Core i7',\n",
       " 'AMD Ryzen 1700',\n",
       " 'Intel Core i5',\n",
       " 'Intel Core i7',\n",
       " 'Intel Core i3',\n",
       " 'Intel Core i7',\n",
       " 'Intel Core i7',\n",
       " 'Intel Core i7',\n",
       " 'Intel Core i3',\n",
       " 'Intel Core i5',\n",
       " 'Intel Core i5',\n",
       " 'Intel Celeron Dual',\n",
       " 'Intel Core i7',\n",
       " 'Intel Celeron Dual',\n",
       " 'Intel Core i7',\n",
       " 'Intel Core i7',\n",
       " 'Intel Core i5',\n",
       " 'Intel Core i7',\n",
       " 'Intel Core i7',\n",
       " 'Intel Core i5',\n",
       " 'Intel Celeron Dual',\n",
       " 'Intel Core i5',\n",
       " 'Intel Core i3',\n",
       " 'Intel Core i7',\n",
       " 'Intel Core i7',\n",
       " 'Intel Core i5',\n",
       " 'Intel Core i5',\n",
       " 'Intel Core i7',\n",
       " 'Intel Pentium Quad',\n",
       " 'Intel Core i7',\n",
       " 'Intel Core i5',\n",
       " 'Intel Core i7',\n",
       " 'Intel Core i7',\n",
       " 'Intel Pentium Quad',\n",
       " 'Intel Core i7',\n",
       " 'Intel Core i5',\n",
       " 'Intel Core i7',\n",
       " 'Intel Core i7',\n",
       " 'Intel Core i5',\n",
       " 'Intel Core i7',\n",
       " 'Intel Core i5',\n",
       " 'Intel Core i5',\n",
       " 'Intel Core i5',\n",
       " 'Intel Core i5',\n",
       " 'Intel Core i7',\n",
       " 'Intel Core i7',\n",
       " 'Intel Core i3',\n",
       " 'Intel Core i7',\n",
       " 'Intel Core i3',\n",
       " 'Intel Celeron Dual',\n",
       " 'Intel Core i3',\n",
       " 'Intel Core i7',\n",
       " 'Intel Core i7',\n",
       " 'Intel Core i5',\n",
       " 'Intel Celeron Dual',\n",
       " 'Intel Core i7',\n",
       " 'Intel Core i5',\n",
       " 'Intel Core i5',\n",
       " 'Intel Core i7',\n",
       " 'Intel Core i5',\n",
       " 'Intel Core i7',\n",
       " 'Intel Core i7',\n",
       " 'Intel Core i3',\n",
       " 'Intel Core i7',\n",
       " 'Intel Core i7',\n",
       " 'Intel Core i7',\n",
       " 'Intel Celeron Dual',\n",
       " 'Intel Core i5',\n",
       " 'Intel Core i5',\n",
       " 'Intel Core i7',\n",
       " 'Intel Core i7',\n",
       " 'Intel Core i5',\n",
       " 'AMD Ryzen 1700',\n",
       " 'Intel Pentium Quad',\n",
       " 'Intel Core i7',\n",
       " 'Intel Core i5',\n",
       " 'Intel Core i7',\n",
       " 'Intel Core i7',\n",
       " 'Intel Core i3',\n",
       " 'Intel Core i7',\n",
       " 'Intel Core i5',\n",
       " 'Intel Atom X5-Z8350',\n",
       " 'Intel Core i5',\n",
       " 'Intel Core i3',\n",
       " 'Intel Core i5',\n",
       " 'Intel Core i5',\n",
       " 'Intel Core i5',\n",
       " 'Intel Core i7',\n",
       " 'Intel Core M',\n",
       " 'Intel Celeron Dual',\n",
       " 'Intel Core i5',\n",
       " 'Intel Core i7',\n",
       " 'Intel Core i5',\n",
       " 'Intel Core i7',\n",
       " 'Intel Celeron Dual',\n",
       " 'Intel Celeron Dual',\n",
       " 'Intel Core i5',\n",
       " 'Intel Core i7',\n",
       " 'Intel Core i5',\n",
       " 'Intel Celeron Dual',\n",
       " 'Intel Core i3',\n",
       " 'Intel Core i5',\n",
       " 'Intel Core i5',\n",
       " 'AMD A12-Series 9720P',\n",
       " 'Intel Core i5',\n",
       " 'Intel Core i5',\n",
       " 'Intel Celeron Quad',\n",
       " 'Intel Core i5',\n",
       " 'Intel Core i5',\n",
       " 'Intel Core i3',\n",
       " 'Intel Core i5',\n",
       " 'Intel Core i7',\n",
       " 'Intel Core i7',\n",
       " 'Intel Core i5',\n",
       " 'Intel Celeron Dual',\n",
       " 'Intel Core i7',\n",
       " 'Intel Core i7',\n",
       " 'Intel Core i5',\n",
       " 'Intel Pentium Quad',\n",
       " 'Intel Core i5',\n",
       " 'Intel Core i7',\n",
       " 'Intel Core i3',\n",
       " 'Intel Core i7',\n",
       " 'Intel Core i3',\n",
       " 'Intel Core i7',\n",
       " 'Intel Pentium Quad',\n",
       " 'Intel Core i7',\n",
       " 'Intel Core i7',\n",
       " 'Intel Core i5',\n",
       " 'Intel Core i3',\n",
       " 'Intel Pentium Quad',\n",
       " 'Intel Core i5',\n",
       " 'Intel Core i5',\n",
       " 'Intel Core i7',\n",
       " 'Intel Core i7',\n",
       " 'Intel Pentium Quad',\n",
       " 'Intel Core i7',\n",
       " 'Intel Core i7',\n",
       " 'Intel Core i7',\n",
       " 'Intel Core i7',\n",
       " 'Intel Celeron Dual',\n",
       " 'Intel Core i7',\n",
       " 'Intel Core i5',\n",
       " 'Intel Core i7',\n",
       " 'Intel Core M',\n",
       " 'Intel Core i7',\n",
       " 'Intel Core i7',\n",
       " 'AMD A9-Series 9410',\n",
       " 'Intel Core i5',\n",
       " 'Intel Core i3',\n",
       " 'Intel Core i7',\n",
       " 'Intel Core i5',\n",
       " 'Intel Celeron Dual',\n",
       " 'Intel Core i5',\n",
       " 'Intel Core i7',\n",
       " 'Intel Core i7',\n",
       " 'Intel Core i7',\n",
       " 'Intel Core i5',\n",
       " 'Intel Core i7',\n",
       " 'Intel Core i3',\n",
       " 'Intel Core i7',\n",
       " 'Intel Atom x5-Z8350',\n",
       " 'Intel Celeron Dual',\n",
       " 'Intel Core i5',\n",
       " 'Intel Core i7',\n",
       " 'Intel Core i7',\n",
       " 'Intel Core i7',\n",
       " 'Intel Core i5',\n",
       " 'Intel Core i7',\n",
       " 'Intel Core i7',\n",
       " 'Intel Core i5',\n",
       " 'Intel Core i5',\n",
       " 'Intel Core i7',\n",
       " 'AMD A6-Series 9220',\n",
       " 'Intel Core i5',\n",
       " 'Intel Core i5',\n",
       " 'Intel Core i5',\n",
       " 'Intel Core i3',\n",
       " 'Intel Core i7',\n",
       " 'Intel Core i5',\n",
       " 'Intel Core i7',\n",
       " 'Intel Celeron Dual',\n",
       " 'Intel Core i5',\n",
       " 'Intel Core i5',\n",
       " 'Intel Core i7',\n",
       " 'Intel Core i7',\n",
       " 'Intel Core i5',\n",
       " 'Intel Core i7',\n",
       " 'Intel Core i3',\n",
       " 'Intel Core i5',\n",
       " 'Intel Pentium Dual',\n",
       " 'Intel Core i5',\n",
       " 'Intel Celeron Dual',\n",
       " 'Intel Core i7',\n",
       " 'Intel Core i5',\n",
       " 'Intel Core i5',\n",
       " 'Intel Core i5',\n",
       " 'Intel Core i7',\n",
       " 'Intel Core i7',\n",
       " 'Intel Core i7',\n",
       " 'Intel Core i7',\n",
       " 'Intel Core i7',\n",
       " 'Intel Core i5',\n",
       " 'Intel Core i7',\n",
       " 'Intel Core i5',\n",
       " 'Intel Core i7',\n",
       " 'Intel Core i7',\n",
       " 'Intel Core M',\n",
       " 'Intel Core i5',\n",
       " 'Intel Core i5',\n",
       " 'Intel Core i7',\n",
       " 'Intel Core i5',\n",
       " 'Intel Core i7',\n",
       " 'Intel Core i5',\n",
       " 'Intel Core i5',\n",
       " 'Intel Core i7',\n",
       " 'Intel Core i5',\n",
       " 'Intel Core i7',\n",
       " 'Intel Pentium Quad',\n",
       " 'Intel Core i5',\n",
       " 'Intel Core i3',\n",
       " 'Intel Celeron Dual',\n",
       " 'Intel Core i5',\n",
       " 'Intel Core i7',\n",
       " 'Intel Core i7',\n",
       " 'Intel Core i7',\n",
       " 'Intel Core i7',\n",
       " 'Intel Core i7',\n",
       " 'Intel Core i5',\n",
       " 'Intel Core i5',\n",
       " 'Intel Core i3',\n",
       " 'Intel Core i5',\n",
       " 'Intel Core i5',\n",
       " 'Intel Core i5',\n",
       " 'Intel Core i7',\n",
       " 'Intel Core i3',\n",
       " 'Intel Core i7',\n",
       " 'Intel Core i5',\n",
       " 'Intel Core i5',\n",
       " 'Intel Core i5',\n",
       " 'Intel Core i7',\n",
       " 'Intel Core i3',\n",
       " 'Intel Core i3',\n",
       " 'Intel Core i5',\n",
       " 'Intel Core i7',\n",
       " 'Intel Core i5',\n",
       " 'Intel Core i7',\n",
       " 'Intel Core i5',\n",
       " 'Intel Core i7',\n",
       " 'Intel Core i7',\n",
       " 'Intel Core i5',\n",
       " 'AMD A6-Series 9220',\n",
       " 'Intel Core i7',\n",
       " 'Intel Core i7',\n",
       " 'Intel Pentium Quad',\n",
       " 'Intel Core i3',\n",
       " 'Intel Core i7',\n",
       " 'Intel Core i5',\n",
       " 'Intel Celeron Dual',\n",
       " 'Intel Celeron Quad',\n",
       " 'Intel Core i7',\n",
       " 'Intel Core i7',\n",
       " 'Intel Core i3',\n",
       " 'Intel Core i5',\n",
       " 'Intel Core i3',\n",
       " 'Intel Core i5',\n",
       " 'Intel Core i5',\n",
       " 'Intel Core i7',\n",
       " 'Intel Core i7',\n",
       " 'Intel Core i5',\n",
       " 'Intel Celeron Dual',\n",
       " 'Intel Core i7',\n",
       " 'Intel Core i3',\n",
       " 'Intel Celeron Dual',\n",
       " 'Intel Core i5',\n",
       " 'Intel Core i3',\n",
       " 'Intel Core M',\n",
       " 'Intel Core i7',\n",
       " 'AMD E-Series E2-9000e',\n",
       " 'Intel Core i7',\n",
       " 'Intel Celeron Dual',\n",
       " 'Intel Core i5',\n",
       " 'Intel Celeron Dual',\n",
       " 'Intel Core i5',\n",
       " 'Intel Core i5',\n",
       " 'Intel Core i7',\n",
       " 'Intel Core i5',\n",
       " 'Intel Core i5',\n",
       " 'Intel Core i7',\n",
       " 'Intel Core i7',\n",
       " 'Intel Core i7',\n",
       " 'Intel Core i7',\n",
       " 'Intel Core i7',\n",
       " 'Intel Core i5',\n",
       " 'Intel Core i3',\n",
       " 'Intel Core i5',\n",
       " 'Intel Core i5',\n",
       " 'Intel Core i7',\n",
       " 'Intel Core i5',\n",
       " 'Intel Core i7',\n",
       " 'Intel Core i5',\n",
       " 'Intel Pentium Quad',\n",
       " 'Intel Core i3',\n",
       " 'Intel Core i7',\n",
       " 'Intel Core i7',\n",
       " 'Intel Core i7',\n",
       " 'Intel Core i7',\n",
       " 'Intel Core i7',\n",
       " 'Intel Core i7',\n",
       " 'Intel Core i5',\n",
       " 'Intel Core i5',\n",
       " 'Intel Core i7',\n",
       " 'Intel Core i7',\n",
       " 'Intel Core i7',\n",
       " 'Intel Core i5',\n",
       " 'Intel Core i3',\n",
       " 'Intel Core i3',\n",
       " 'Intel Core M',\n",
       " 'Intel Xeon E3-1535M',\n",
       " 'Intel Core i5',\n",
       " 'Intel Core i5',\n",
       " 'Intel Core i7',\n",
       " 'Intel Core i5',\n",
       " 'Intel Core i5',\n",
       " 'Intel Core i7',\n",
       " 'Intel Pentium Quad',\n",
       " 'Intel Core i5',\n",
       " 'Intel Core i7',\n",
       " 'AMD E-Series 6110',\n",
       " 'Intel Core i5',\n",
       " 'Intel Core i7',\n",
       " 'Intel Core i7',\n",
       " 'Intel Core i7',\n",
       " 'Intel Celeron Dual',\n",
       " 'Intel Core i7',\n",
       " 'Intel Core i5',\n",
       " 'Intel Pentium Quad',\n",
       " 'AMD A12-Series 9720P',\n",
       " 'Intel Core i7',\n",
       " 'Intel Celeron Dual',\n",
       " 'Intel Core i7']"
      ]
     },
     "execution_count": 28,
     "metadata": {},
     "output_type": "execute_result"
    }
   ],
   "source": [
    "lista_train = []\n",
    "for x in train_set['Cpu']:\n",
    "    a = tuple(x.split(\" \")[0:3])\n",
    "    union = \" \".join(a)\n",
    "    lista_train.append(union)\n",
    "\n",
    "lista_train"
   ]
  },
  {
   "cell_type": "code",
   "execution_count": 29,
   "id": "f44fdc88",
   "metadata": {},
   "outputs": [
    {
     "data": {
      "text/plain": [
       "Cpu_new\n",
       "Intel Core i7               299\n",
       "Intel Core i5               232\n",
       "Intel Core i3                74\n",
       "Intel Celeron Dual           48\n",
       "Intel Pentium Quad           20\n",
       "Intel Core M                 11\n",
       "AMD A12-Series 9720P          5\n",
       "AMD A6-Series 9220            5\n",
       "Intel Atom x5-Z8350           4\n",
       "Intel Celeron Quad            4\n",
       "AMD A9-Series 9420            4\n",
       "Intel Pentium Dual            3\n",
       "AMD E-Series E2-9000e         2\n",
       "AMD Ryzen 1700                2\n",
       "AMD A8-Series 7410            2\n",
       "AMD A10-Series 9600P          1\n",
       "AMD E-Series E2-6110          1\n",
       "AMD E-Series 7110             1\n",
       "AMD A10-Series A10-9620P      1\n",
       "AMD A6-Series A6-9220         1\n",
       "AMD FX 9830P                  1\n",
       "AMD E-Series 9000e            1\n",
       "AMD A9-Series A9-9420         1\n",
       "AMD A6-Series 7310            1\n",
       "Intel Atom X5-Z8350           1\n",
       "AMD A9-Series 9410            1\n",
       "Intel Xeon E3-1535M           1\n",
       "AMD E-Series 6110             1\n",
       "Name: count, dtype: int64"
      ]
     },
     "execution_count": 29,
     "metadata": {},
     "output_type": "execute_result"
    }
   ],
   "source": [
    "train_set['Cpu_new'] = lista_train\n",
    "train_set.Cpu_new.value_counts()"
   ]
  },
  {
   "cell_type": "code",
   "execution_count": 30,
   "id": "e9f42306",
   "metadata": {},
   "outputs": [],
   "source": [
    "a = train_set.Cpu_new.unique()\n",
    "lista_company = []\n",
    "for x in a:\n",
    "    lista_company.append(x)"
   ]
  },
  {
   "cell_type": "code",
   "execution_count": 31,
   "id": "2986fd0a",
   "metadata": {},
   "outputs": [
    {
     "name": "stderr",
     "output_type": "stream",
     "text": [
      "C:\\Users\\MARTA\\AppData\\Local\\Temp\\ipykernel_15896\\3572950788.py:3: FutureWarning: Series.__getitem__ treating keys as positions is deprecated. In a future version, integer keys will always be treated as labels (consistent with DataFrame behavior). To access a value by position, use `ser.iloc[pos]`\n",
      "  if train_set.loc[train_set['Cpu_new'] == company, 'Cpu_new'].value_counts()[0] < 10:\n",
      "C:\\Users\\MARTA\\AppData\\Local\\Temp\\ipykernel_15896\\3572950788.py:3: FutureWarning: Series.__getitem__ treating keys as positions is deprecated. In a future version, integer keys will always be treated as labels (consistent with DataFrame behavior). To access a value by position, use `ser.iloc[pos]`\n",
      "  if train_set.loc[train_set['Cpu_new'] == company, 'Cpu_new'].value_counts()[0] < 10:\n",
      "C:\\Users\\MARTA\\AppData\\Local\\Temp\\ipykernel_15896\\3572950788.py:3: FutureWarning: Series.__getitem__ treating keys as positions is deprecated. In a future version, integer keys will always be treated as labels (consistent with DataFrame behavior). To access a value by position, use `ser.iloc[pos]`\n",
      "  if train_set.loc[train_set['Cpu_new'] == company, 'Cpu_new'].value_counts()[0] < 10:\n",
      "C:\\Users\\MARTA\\AppData\\Local\\Temp\\ipykernel_15896\\3572950788.py:3: FutureWarning: Series.__getitem__ treating keys as positions is deprecated. In a future version, integer keys will always be treated as labels (consistent with DataFrame behavior). To access a value by position, use `ser.iloc[pos]`\n",
      "  if train_set.loc[train_set['Cpu_new'] == company, 'Cpu_new'].value_counts()[0] < 10:\n",
      "C:\\Users\\MARTA\\AppData\\Local\\Temp\\ipykernel_15896\\3572950788.py:3: FutureWarning: Series.__getitem__ treating keys as positions is deprecated. In a future version, integer keys will always be treated as labels (consistent with DataFrame behavior). To access a value by position, use `ser.iloc[pos]`\n",
      "  if train_set.loc[train_set['Cpu_new'] == company, 'Cpu_new'].value_counts()[0] < 10:\n",
      "C:\\Users\\MARTA\\AppData\\Local\\Temp\\ipykernel_15896\\3572950788.py:3: FutureWarning: Series.__getitem__ treating keys as positions is deprecated. In a future version, integer keys will always be treated as labels (consistent with DataFrame behavior). To access a value by position, use `ser.iloc[pos]`\n",
      "  if train_set.loc[train_set['Cpu_new'] == company, 'Cpu_new'].value_counts()[0] < 10:\n",
      "C:\\Users\\MARTA\\AppData\\Local\\Temp\\ipykernel_15896\\3572950788.py:3: FutureWarning: Series.__getitem__ treating keys as positions is deprecated. In a future version, integer keys will always be treated as labels (consistent with DataFrame behavior). To access a value by position, use `ser.iloc[pos]`\n",
      "  if train_set.loc[train_set['Cpu_new'] == company, 'Cpu_new'].value_counts()[0] < 10:\n",
      "C:\\Users\\MARTA\\AppData\\Local\\Temp\\ipykernel_15896\\3572950788.py:3: FutureWarning: Series.__getitem__ treating keys as positions is deprecated. In a future version, integer keys will always be treated as labels (consistent with DataFrame behavior). To access a value by position, use `ser.iloc[pos]`\n",
      "  if train_set.loc[train_set['Cpu_new'] == company, 'Cpu_new'].value_counts()[0] < 10:\n",
      "C:\\Users\\MARTA\\AppData\\Local\\Temp\\ipykernel_15896\\3572950788.py:3: FutureWarning: Series.__getitem__ treating keys as positions is deprecated. In a future version, integer keys will always be treated as labels (consistent with DataFrame behavior). To access a value by position, use `ser.iloc[pos]`\n",
      "  if train_set.loc[train_set['Cpu_new'] == company, 'Cpu_new'].value_counts()[0] < 10:\n",
      "C:\\Users\\MARTA\\AppData\\Local\\Temp\\ipykernel_15896\\3572950788.py:3: FutureWarning: Series.__getitem__ treating keys as positions is deprecated. In a future version, integer keys will always be treated as labels (consistent with DataFrame behavior). To access a value by position, use `ser.iloc[pos]`\n",
      "  if train_set.loc[train_set['Cpu_new'] == company, 'Cpu_new'].value_counts()[0] < 10:\n",
      "C:\\Users\\MARTA\\AppData\\Local\\Temp\\ipykernel_15896\\3572950788.py:3: FutureWarning: Series.__getitem__ treating keys as positions is deprecated. In a future version, integer keys will always be treated as labels (consistent with DataFrame behavior). To access a value by position, use `ser.iloc[pos]`\n",
      "  if train_set.loc[train_set['Cpu_new'] == company, 'Cpu_new'].value_counts()[0] < 10:\n",
      "C:\\Users\\MARTA\\AppData\\Local\\Temp\\ipykernel_15896\\3572950788.py:3: FutureWarning: Series.__getitem__ treating keys as positions is deprecated. In a future version, integer keys will always be treated as labels (consistent with DataFrame behavior). To access a value by position, use `ser.iloc[pos]`\n",
      "  if train_set.loc[train_set['Cpu_new'] == company, 'Cpu_new'].value_counts()[0] < 10:\n",
      "C:\\Users\\MARTA\\AppData\\Local\\Temp\\ipykernel_15896\\3572950788.py:3: FutureWarning: Series.__getitem__ treating keys as positions is deprecated. In a future version, integer keys will always be treated as labels (consistent with DataFrame behavior). To access a value by position, use `ser.iloc[pos]`\n",
      "  if train_set.loc[train_set['Cpu_new'] == company, 'Cpu_new'].value_counts()[0] < 10:\n",
      "C:\\Users\\MARTA\\AppData\\Local\\Temp\\ipykernel_15896\\3572950788.py:3: FutureWarning: Series.__getitem__ treating keys as positions is deprecated. In a future version, integer keys will always be treated as labels (consistent with DataFrame behavior). To access a value by position, use `ser.iloc[pos]`\n",
      "  if train_set.loc[train_set['Cpu_new'] == company, 'Cpu_new'].value_counts()[0] < 10:\n",
      "C:\\Users\\MARTA\\AppData\\Local\\Temp\\ipykernel_15896\\3572950788.py:3: FutureWarning: Series.__getitem__ treating keys as positions is deprecated. In a future version, integer keys will always be treated as labels (consistent with DataFrame behavior). To access a value by position, use `ser.iloc[pos]`\n",
      "  if train_set.loc[train_set['Cpu_new'] == company, 'Cpu_new'].value_counts()[0] < 10:\n",
      "C:\\Users\\MARTA\\AppData\\Local\\Temp\\ipykernel_15896\\3572950788.py:3: FutureWarning: Series.__getitem__ treating keys as positions is deprecated. In a future version, integer keys will always be treated as labels (consistent with DataFrame behavior). To access a value by position, use `ser.iloc[pos]`\n",
      "  if train_set.loc[train_set['Cpu_new'] == company, 'Cpu_new'].value_counts()[0] < 10:\n",
      "C:\\Users\\MARTA\\AppData\\Local\\Temp\\ipykernel_15896\\3572950788.py:3: FutureWarning: Series.__getitem__ treating keys as positions is deprecated. In a future version, integer keys will always be treated as labels (consistent with DataFrame behavior). To access a value by position, use `ser.iloc[pos]`\n",
      "  if train_set.loc[train_set['Cpu_new'] == company, 'Cpu_new'].value_counts()[0] < 10:\n",
      "C:\\Users\\MARTA\\AppData\\Local\\Temp\\ipykernel_15896\\3572950788.py:3: FutureWarning: Series.__getitem__ treating keys as positions is deprecated. In a future version, integer keys will always be treated as labels (consistent with DataFrame behavior). To access a value by position, use `ser.iloc[pos]`\n",
      "  if train_set.loc[train_set['Cpu_new'] == company, 'Cpu_new'].value_counts()[0] < 10:\n",
      "C:\\Users\\MARTA\\AppData\\Local\\Temp\\ipykernel_15896\\3572950788.py:3: FutureWarning: Series.__getitem__ treating keys as positions is deprecated. In a future version, integer keys will always be treated as labels (consistent with DataFrame behavior). To access a value by position, use `ser.iloc[pos]`\n",
      "  if train_set.loc[train_set['Cpu_new'] == company, 'Cpu_new'].value_counts()[0] < 10:\n",
      "C:\\Users\\MARTA\\AppData\\Local\\Temp\\ipykernel_15896\\3572950788.py:3: FutureWarning: Series.__getitem__ treating keys as positions is deprecated. In a future version, integer keys will always be treated as labels (consistent with DataFrame behavior). To access a value by position, use `ser.iloc[pos]`\n",
      "  if train_set.loc[train_set['Cpu_new'] == company, 'Cpu_new'].value_counts()[0] < 10:\n",
      "C:\\Users\\MARTA\\AppData\\Local\\Temp\\ipykernel_15896\\3572950788.py:3: FutureWarning: Series.__getitem__ treating keys as positions is deprecated. In a future version, integer keys will always be treated as labels (consistent with DataFrame behavior). To access a value by position, use `ser.iloc[pos]`\n",
      "  if train_set.loc[train_set['Cpu_new'] == company, 'Cpu_new'].value_counts()[0] < 10:\n",
      "C:\\Users\\MARTA\\AppData\\Local\\Temp\\ipykernel_15896\\3572950788.py:3: FutureWarning: Series.__getitem__ treating keys as positions is deprecated. In a future version, integer keys will always be treated as labels (consistent with DataFrame behavior). To access a value by position, use `ser.iloc[pos]`\n",
      "  if train_set.loc[train_set['Cpu_new'] == company, 'Cpu_new'].value_counts()[0] < 10:\n",
      "C:\\Users\\MARTA\\AppData\\Local\\Temp\\ipykernel_15896\\3572950788.py:3: FutureWarning: Series.__getitem__ treating keys as positions is deprecated. In a future version, integer keys will always be treated as labels (consistent with DataFrame behavior). To access a value by position, use `ser.iloc[pos]`\n",
      "  if train_set.loc[train_set['Cpu_new'] == company, 'Cpu_new'].value_counts()[0] < 10:\n",
      "C:\\Users\\MARTA\\AppData\\Local\\Temp\\ipykernel_15896\\3572950788.py:3: FutureWarning: Series.__getitem__ treating keys as positions is deprecated. In a future version, integer keys will always be treated as labels (consistent with DataFrame behavior). To access a value by position, use `ser.iloc[pos]`\n",
      "  if train_set.loc[train_set['Cpu_new'] == company, 'Cpu_new'].value_counts()[0] < 10:\n",
      "C:\\Users\\MARTA\\AppData\\Local\\Temp\\ipykernel_15896\\3572950788.py:3: FutureWarning: Series.__getitem__ treating keys as positions is deprecated. In a future version, integer keys will always be treated as labels (consistent with DataFrame behavior). To access a value by position, use `ser.iloc[pos]`\n",
      "  if train_set.loc[train_set['Cpu_new'] == company, 'Cpu_new'].value_counts()[0] < 10:\n",
      "C:\\Users\\MARTA\\AppData\\Local\\Temp\\ipykernel_15896\\3572950788.py:3: FutureWarning: Series.__getitem__ treating keys as positions is deprecated. In a future version, integer keys will always be treated as labels (consistent with DataFrame behavior). To access a value by position, use `ser.iloc[pos]`\n",
      "  if train_set.loc[train_set['Cpu_new'] == company, 'Cpu_new'].value_counts()[0] < 10:\n",
      "C:\\Users\\MARTA\\AppData\\Local\\Temp\\ipykernel_15896\\3572950788.py:3: FutureWarning: Series.__getitem__ treating keys as positions is deprecated. In a future version, integer keys will always be treated as labels (consistent with DataFrame behavior). To access a value by position, use `ser.iloc[pos]`\n",
      "  if train_set.loc[train_set['Cpu_new'] == company, 'Cpu_new'].value_counts()[0] < 10:\n",
      "C:\\Users\\MARTA\\AppData\\Local\\Temp\\ipykernel_15896\\3572950788.py:3: FutureWarning: Series.__getitem__ treating keys as positions is deprecated. In a future version, integer keys will always be treated as labels (consistent with DataFrame behavior). To access a value by position, use `ser.iloc[pos]`\n",
      "  if train_set.loc[train_set['Cpu_new'] == company, 'Cpu_new'].value_counts()[0] < 10:\n"
     ]
    }
   ],
   "source": [
    "otros = []\n",
    "for company in lista_company:\n",
    "    if train_set.loc[train_set['Cpu_new'] == company, 'Cpu_new'].value_counts()[0] < 10:\n",
    "        otros.append(company)"
   ]
  },
  {
   "cell_type": "code",
   "execution_count": 32,
   "id": "c992f3f4",
   "metadata": {},
   "outputs": [],
   "source": [
    "for x in otros:\n",
    "    if x in train_set['Cpu_new'].unique():\n",
    "        train_set.loc[train_set['Cpu_new'] == x, 'Cpu_new'] = 'Otros'"
   ]
  },
  {
   "cell_type": "code",
   "execution_count": 33,
   "id": "2b8de42f",
   "metadata": {},
   "outputs": [
    {
     "data": {
      "text/plain": [
       "['Intel Core i7',\n",
       " 'Intel Core i5',\n",
       " 'Intel Core i5',\n",
       " 'Intel Core i3',\n",
       " 'Intel Celeron Dual',\n",
       " 'Intel Celeron Dual',\n",
       " 'Intel Core i5',\n",
       " 'Intel Celeron Dual',\n",
       " 'Intel Core i7',\n",
       " 'Intel Core i5',\n",
       " 'AMD A6-Series A6-9220',\n",
       " 'Intel Core i5',\n",
       " 'Intel Core i5',\n",
       " 'Intel Core i7',\n",
       " 'Intel Core i5',\n",
       " 'Intel Core i7',\n",
       " 'Intel Core i7',\n",
       " 'Intel Core i5',\n",
       " 'Intel Core i7',\n",
       " 'Intel Core i5',\n",
       " 'Intel Core i5',\n",
       " 'Intel Core i7',\n",
       " 'Intel Core i5',\n",
       " 'AMD Ryzen 1600',\n",
       " 'Intel Celeron Dual',\n",
       " 'Intel Core i7',\n",
       " 'Intel Celeron Dual',\n",
       " 'Intel Core i3',\n",
       " 'Intel Core i7',\n",
       " 'Intel Core i5',\n",
       " 'Intel Core i3',\n",
       " 'Intel Core i3',\n",
       " 'Intel Core i7',\n",
       " 'Intel Core i7',\n",
       " 'Intel Core i7',\n",
       " 'Intel Celeron Dual',\n",
       " 'Intel Core i7',\n",
       " 'Intel Core i3',\n",
       " 'Intel Atom x5-Z8300',\n",
       " 'Intel Core i5',\n",
       " 'Intel Core i7',\n",
       " 'Intel Core i3',\n",
       " 'Intel Core i7',\n",
       " 'Intel Core i5',\n",
       " 'Intel Core i5',\n",
       " 'AMD A10-Series A10-9620P',\n",
       " 'Intel Celeron Dual',\n",
       " 'Intel Core i5',\n",
       " 'Intel Core i7',\n",
       " 'Intel Core i7',\n",
       " 'Intel Core i7',\n",
       " 'Intel Core i5',\n",
       " 'Intel Core i7',\n",
       " 'Intel Core i7',\n",
       " 'Intel Core i7',\n",
       " 'AMD A9-Series 9420',\n",
       " 'Intel Core i7',\n",
       " 'Intel Core i7',\n",
       " 'Intel Core M',\n",
       " 'Intel Core i7',\n",
       " 'Intel Core i7',\n",
       " 'Intel Core M',\n",
       " 'Intel Core i5',\n",
       " 'Intel Core i5',\n",
       " 'Intel Core i7',\n",
       " 'Intel Core i5',\n",
       " 'Intel Core i3',\n",
       " 'Intel Core i5',\n",
       " 'Intel Core i7',\n",
       " 'Intel Core i7',\n",
       " 'Intel Core i5',\n",
       " 'Intel Core i7',\n",
       " 'Intel Core i7',\n",
       " 'Intel Core i7',\n",
       " 'Intel Core i5',\n",
       " 'Intel Celeron Dual',\n",
       " 'Intel Core i7',\n",
       " 'Intel Core i7',\n",
       " 'Intel Celeron Dual',\n",
       " 'Intel Core i5',\n",
       " 'Intel Core i7',\n",
       " 'Intel Core i7',\n",
       " 'Intel Celeron Dual',\n",
       " 'Intel Core i5',\n",
       " 'Intel Core i3',\n",
       " 'AMD A9-Series A9-9420',\n",
       " 'Intel Core i3',\n",
       " 'Intel Atom x5-Z8350',\n",
       " 'Intel Celeron Dual',\n",
       " 'Intel Core i7',\n",
       " 'Intel Core i3',\n",
       " 'Intel Core i7',\n",
       " 'Intel Core i7',\n",
       " 'Intel Core i7',\n",
       " 'Intel Core i7',\n",
       " 'Intel Core i5',\n",
       " 'Intel Core i7',\n",
       " 'Intel Core i7',\n",
       " 'Intel Core i5',\n",
       " 'Intel Core i7',\n",
       " 'Intel Core i7',\n",
       " 'AMD A10-Series 9620P',\n",
       " 'Intel Core i7',\n",
       " 'Intel Core i5',\n",
       " 'Intel Core i7',\n",
       " 'Intel Celeron Dual',\n",
       " 'Intel Core i5',\n",
       " 'AMD A9-Series 9410',\n",
       " 'Intel Core i7',\n",
       " 'Intel Core i7',\n",
       " 'Intel Core i3',\n",
       " 'Intel Core i7',\n",
       " 'Intel Celeron Dual',\n",
       " 'Intel Core i3',\n",
       " 'Intel Core i7',\n",
       " 'Intel Core i7',\n",
       " 'AMD A9-Series 9420',\n",
       " 'Intel Core i7',\n",
       " 'Intel Core i7',\n",
       " 'Intel Core i7',\n",
       " 'Intel Core i3',\n",
       " 'Intel Core i5',\n",
       " 'Intel Core i5',\n",
       " 'Intel Core M',\n",
       " 'Intel Core i5',\n",
       " 'Intel Core i5',\n",
       " 'Intel Core i7',\n",
       " 'Intel Core i7',\n",
       " 'Intel Core i3',\n",
       " 'Intel Core i3',\n",
       " 'Intel Core i5',\n",
       " 'Intel Core i5',\n",
       " 'Intel Core i5',\n",
       " 'Intel Core i7',\n",
       " 'AMD A6-Series 9220',\n",
       " 'AMD E-Series E2-9000',\n",
       " 'Intel Core i5',\n",
       " 'AMD A9-Series 9420',\n",
       " 'Intel Core i7',\n",
       " 'Intel Core i5',\n",
       " 'Intel Xeon E3-1505M',\n",
       " 'Intel Core i5',\n",
       " 'Intel Core i7',\n",
       " 'Intel Core i7',\n",
       " 'Intel Core i5',\n",
       " 'Intel Core i7',\n",
       " 'Intel Core i3',\n",
       " 'Intel Core i7',\n",
       " 'Intel Core i7',\n",
       " 'Intel Core i5',\n",
       " 'Intel Core i5',\n",
       " 'Intel Core i5',\n",
       " 'Intel Pentium Quad',\n",
       " 'Intel Core i5',\n",
       " 'Intel Celeron Dual',\n",
       " 'Intel Core i7',\n",
       " 'Intel Core i5',\n",
       " 'Intel Atom Z8350',\n",
       " 'Intel Core i7',\n",
       " 'Intel Core i7',\n",
       " 'Intel Core i7',\n",
       " 'Intel Core i5',\n",
       " 'Intel Core i7',\n",
       " 'Intel Core i7',\n",
       " 'Intel Celeron Dual',\n",
       " 'Intel Core i3',\n",
       " 'Intel Core i7',\n",
       " 'Intel Core i5',\n",
       " 'Intel Core i3',\n",
       " 'Intel Core i5',\n",
       " 'Intel Core i7',\n",
       " 'Intel Core i3',\n",
       " 'Intel Core i7',\n",
       " 'Intel Celeron Dual',\n",
       " 'Intel Core M',\n",
       " 'Intel Core i7',\n",
       " 'Intel Core i7',\n",
       " 'Intel Core i5',\n",
       " 'Intel Celeron Quad',\n",
       " 'Intel Celeron Dual',\n",
       " 'Intel Core i7',\n",
       " 'Intel Core i5']"
      ]
     },
     "execution_count": 33,
     "metadata": {},
     "output_type": "execute_result"
    }
   ],
   "source": [
    "lista_test = []\n",
    "for x in test_set['Cpu']:\n",
    "    a = tuple(x.split(\" \")[0:3])\n",
    "    union = \" \".join(a)\n",
    "    lista_test.append(union)\n",
    "\n",
    "lista_test"
   ]
  },
  {
   "cell_type": "code",
   "execution_count": 34,
   "id": "60ee74b5",
   "metadata": {},
   "outputs": [
    {
     "data": {
      "text/plain": [
       "Cpu_new\n",
       "Intel Core i7               75\n",
       "Intel Core i5               50\n",
       "Intel Core i3               19\n",
       "Intel Celeron Dual          17\n",
       "Intel Core M                 4\n",
       "AMD A9-Series 9420           3\n",
       "AMD A6-Series A6-9220        1\n",
       "AMD Ryzen 1600               1\n",
       "AMD A10-Series A10-9620P     1\n",
       "Intel Atom x5-Z8300          1\n",
       "AMD A9-Series A9-9420        1\n",
       "Intel Atom x5-Z8350          1\n",
       "AMD A10-Series 9620P         1\n",
       "AMD A9-Series 9410           1\n",
       "AMD A6-Series 9220           1\n",
       "AMD E-Series E2-9000         1\n",
       "Intel Xeon E3-1505M          1\n",
       "Intel Pentium Quad           1\n",
       "Intel Atom Z8350             1\n",
       "Intel Celeron Quad           1\n",
       "Name: count, dtype: int64"
      ]
     },
     "execution_count": 34,
     "metadata": {},
     "output_type": "execute_result"
    }
   ],
   "source": [
    "test_set['Cpu_new'] = lista_test\n",
    "test_set.Cpu_new.value_counts()"
   ]
  },
  {
   "cell_type": "code",
   "execution_count": 35,
   "id": "369e5d9b",
   "metadata": {},
   "outputs": [],
   "source": [
    "a = test_set.Cpu_new.unique()\n",
    "lista_company = []\n",
    "for x in a:\n",
    "    lista_company.append(x)"
   ]
  },
  {
   "cell_type": "code",
   "execution_count": 36,
   "id": "8383d9ef",
   "metadata": {},
   "outputs": [
    {
     "name": "stderr",
     "output_type": "stream",
     "text": [
      "C:\\Users\\MARTA\\AppData\\Local\\Temp\\ipykernel_15896\\3002521287.py:4: FutureWarning: Series.__getitem__ treating keys as positions is deprecated. In a future version, integer keys will always be treated as labels (consistent with DataFrame behavior). To access a value by position, use `ser.iloc[pos]`\n",
      "  if test_set.loc[test_set['Cpu_new'] == company, 'Cpu_new'].value_counts()[0] < 4:\n",
      "C:\\Users\\MARTA\\AppData\\Local\\Temp\\ipykernel_15896\\3002521287.py:4: FutureWarning: Series.__getitem__ treating keys as positions is deprecated. In a future version, integer keys will always be treated as labels (consistent with DataFrame behavior). To access a value by position, use `ser.iloc[pos]`\n",
      "  if test_set.loc[test_set['Cpu_new'] == company, 'Cpu_new'].value_counts()[0] < 4:\n",
      "C:\\Users\\MARTA\\AppData\\Local\\Temp\\ipykernel_15896\\3002521287.py:4: FutureWarning: Series.__getitem__ treating keys as positions is deprecated. In a future version, integer keys will always be treated as labels (consistent with DataFrame behavior). To access a value by position, use `ser.iloc[pos]`\n",
      "  if test_set.loc[test_set['Cpu_new'] == company, 'Cpu_new'].value_counts()[0] < 4:\n",
      "C:\\Users\\MARTA\\AppData\\Local\\Temp\\ipykernel_15896\\3002521287.py:4: FutureWarning: Series.__getitem__ treating keys as positions is deprecated. In a future version, integer keys will always be treated as labels (consistent with DataFrame behavior). To access a value by position, use `ser.iloc[pos]`\n",
      "  if test_set.loc[test_set['Cpu_new'] == company, 'Cpu_new'].value_counts()[0] < 4:\n",
      "C:\\Users\\MARTA\\AppData\\Local\\Temp\\ipykernel_15896\\3002521287.py:4: FutureWarning: Series.__getitem__ treating keys as positions is deprecated. In a future version, integer keys will always be treated as labels (consistent with DataFrame behavior). To access a value by position, use `ser.iloc[pos]`\n",
      "  if test_set.loc[test_set['Cpu_new'] == company, 'Cpu_new'].value_counts()[0] < 4:\n",
      "C:\\Users\\MARTA\\AppData\\Local\\Temp\\ipykernel_15896\\3002521287.py:4: FutureWarning: Series.__getitem__ treating keys as positions is deprecated. In a future version, integer keys will always be treated as labels (consistent with DataFrame behavior). To access a value by position, use `ser.iloc[pos]`\n",
      "  if test_set.loc[test_set['Cpu_new'] == company, 'Cpu_new'].value_counts()[0] < 4:\n",
      "C:\\Users\\MARTA\\AppData\\Local\\Temp\\ipykernel_15896\\3002521287.py:4: FutureWarning: Series.__getitem__ treating keys as positions is deprecated. In a future version, integer keys will always be treated as labels (consistent with DataFrame behavior). To access a value by position, use `ser.iloc[pos]`\n",
      "  if test_set.loc[test_set['Cpu_new'] == company, 'Cpu_new'].value_counts()[0] < 4:\n",
      "C:\\Users\\MARTA\\AppData\\Local\\Temp\\ipykernel_15896\\3002521287.py:4: FutureWarning: Series.__getitem__ treating keys as positions is deprecated. In a future version, integer keys will always be treated as labels (consistent with DataFrame behavior). To access a value by position, use `ser.iloc[pos]`\n",
      "  if test_set.loc[test_set['Cpu_new'] == company, 'Cpu_new'].value_counts()[0] < 4:\n",
      "C:\\Users\\MARTA\\AppData\\Local\\Temp\\ipykernel_15896\\3002521287.py:4: FutureWarning: Series.__getitem__ treating keys as positions is deprecated. In a future version, integer keys will always be treated as labels (consistent with DataFrame behavior). To access a value by position, use `ser.iloc[pos]`\n",
      "  if test_set.loc[test_set['Cpu_new'] == company, 'Cpu_new'].value_counts()[0] < 4:\n",
      "C:\\Users\\MARTA\\AppData\\Local\\Temp\\ipykernel_15896\\3002521287.py:4: FutureWarning: Series.__getitem__ treating keys as positions is deprecated. In a future version, integer keys will always be treated as labels (consistent with DataFrame behavior). To access a value by position, use `ser.iloc[pos]`\n",
      "  if test_set.loc[test_set['Cpu_new'] == company, 'Cpu_new'].value_counts()[0] < 4:\n",
      "C:\\Users\\MARTA\\AppData\\Local\\Temp\\ipykernel_15896\\3002521287.py:4: FutureWarning: Series.__getitem__ treating keys as positions is deprecated. In a future version, integer keys will always be treated as labels (consistent with DataFrame behavior). To access a value by position, use `ser.iloc[pos]`\n",
      "  if test_set.loc[test_set['Cpu_new'] == company, 'Cpu_new'].value_counts()[0] < 4:\n",
      "C:\\Users\\MARTA\\AppData\\Local\\Temp\\ipykernel_15896\\3002521287.py:4: FutureWarning: Series.__getitem__ treating keys as positions is deprecated. In a future version, integer keys will always be treated as labels (consistent with DataFrame behavior). To access a value by position, use `ser.iloc[pos]`\n",
      "  if test_set.loc[test_set['Cpu_new'] == company, 'Cpu_new'].value_counts()[0] < 4:\n",
      "C:\\Users\\MARTA\\AppData\\Local\\Temp\\ipykernel_15896\\3002521287.py:4: FutureWarning: Series.__getitem__ treating keys as positions is deprecated. In a future version, integer keys will always be treated as labels (consistent with DataFrame behavior). To access a value by position, use `ser.iloc[pos]`\n",
      "  if test_set.loc[test_set['Cpu_new'] == company, 'Cpu_new'].value_counts()[0] < 4:\n",
      "C:\\Users\\MARTA\\AppData\\Local\\Temp\\ipykernel_15896\\3002521287.py:4: FutureWarning: Series.__getitem__ treating keys as positions is deprecated. In a future version, integer keys will always be treated as labels (consistent with DataFrame behavior). To access a value by position, use `ser.iloc[pos]`\n",
      "  if test_set.loc[test_set['Cpu_new'] == company, 'Cpu_new'].value_counts()[0] < 4:\n",
      "C:\\Users\\MARTA\\AppData\\Local\\Temp\\ipykernel_15896\\3002521287.py:4: FutureWarning: Series.__getitem__ treating keys as positions is deprecated. In a future version, integer keys will always be treated as labels (consistent with DataFrame behavior). To access a value by position, use `ser.iloc[pos]`\n",
      "  if test_set.loc[test_set['Cpu_new'] == company, 'Cpu_new'].value_counts()[0] < 4:\n",
      "C:\\Users\\MARTA\\AppData\\Local\\Temp\\ipykernel_15896\\3002521287.py:4: FutureWarning: Series.__getitem__ treating keys as positions is deprecated. In a future version, integer keys will always be treated as labels (consistent with DataFrame behavior). To access a value by position, use `ser.iloc[pos]`\n",
      "  if test_set.loc[test_set['Cpu_new'] == company, 'Cpu_new'].value_counts()[0] < 4:\n",
      "C:\\Users\\MARTA\\AppData\\Local\\Temp\\ipykernel_15896\\3002521287.py:4: FutureWarning: Series.__getitem__ treating keys as positions is deprecated. In a future version, integer keys will always be treated as labels (consistent with DataFrame behavior). To access a value by position, use `ser.iloc[pos]`\n",
      "  if test_set.loc[test_set['Cpu_new'] == company, 'Cpu_new'].value_counts()[0] < 4:\n",
      "C:\\Users\\MARTA\\AppData\\Local\\Temp\\ipykernel_15896\\3002521287.py:4: FutureWarning: Series.__getitem__ treating keys as positions is deprecated. In a future version, integer keys will always be treated as labels (consistent with DataFrame behavior). To access a value by position, use `ser.iloc[pos]`\n",
      "  if test_set.loc[test_set['Cpu_new'] == company, 'Cpu_new'].value_counts()[0] < 4:\n",
      "C:\\Users\\MARTA\\AppData\\Local\\Temp\\ipykernel_15896\\3002521287.py:4: FutureWarning: Series.__getitem__ treating keys as positions is deprecated. In a future version, integer keys will always be treated as labels (consistent with DataFrame behavior). To access a value by position, use `ser.iloc[pos]`\n",
      "  if test_set.loc[test_set['Cpu_new'] == company, 'Cpu_new'].value_counts()[0] < 4:\n"
     ]
    }
   ],
   "source": [
    "otros = []\n",
    "for company in lista_company:\n",
    "    if company != 'Intel Pentium Quad':\n",
    "        if test_set.loc[test_set['Cpu_new'] == company, 'Cpu_new'].value_counts()[0] < 4:\n",
    "            otros.append(company)"
   ]
  },
  {
   "cell_type": "code",
   "execution_count": 38,
   "id": "824f9e65",
   "metadata": {},
   "outputs": [],
   "source": [
    "for x in otros:\n",
    "    if x in test_set['Cpu_new'].unique():\n",
    "        test_set.loc[test_set['Cpu_new'] == x, 'Cpu_new'] = 'Otros'"
   ]
  },
  {
   "cell_type": "code",
   "execution_count": 39,
   "id": "74529b9e",
   "metadata": {},
   "outputs": [
    {
     "data": {
      "text/plain": [
       "Cpu_new\n",
       "Intel Core i7         75\n",
       "Intel Core i5         50\n",
       "Intel Core i3         19\n",
       "Intel Celeron Dual    17\n",
       "Otros                 16\n",
       "Intel Core M           4\n",
       "Intel Pentium Quad     1\n",
       "Name: count, dtype: int64"
      ]
     },
     "execution_count": 39,
     "metadata": {},
     "output_type": "execute_result"
    }
   ],
   "source": [
    "test_set.Cpu_new.value_counts()"
   ]
  },
  {
   "cell_type": "markdown",
   "id": "5da29961",
   "metadata": {},
   "source": [
    " - OneHot Encoding  [Gpu_new, Company, TypeName, OpSys, Cpu_new]"
   ]
  },
  {
   "cell_type": "code",
   "execution_count": 40,
   "id": "4937e693",
   "metadata": {},
   "outputs": [],
   "source": [
    "train_set = pd.get_dummies(train_set, columns = ['Gpu_new'], dtype = int)\n",
    "test_set= pd.get_dummies(test_set, columns = ['Gpu_new'], dtype = int)"
   ]
  },
  {
   "cell_type": "code",
   "execution_count": 41,
   "id": "d02b302c",
   "metadata": {},
   "outputs": [],
   "source": [
    "train_set = pd.get_dummies(train_set, columns = ['TypeName'], dtype = int)\n",
    "test_set= pd.get_dummies(test_set, columns = ['TypeName'], dtype = int)"
   ]
  },
  {
   "cell_type": "code",
   "execution_count": 42,
   "id": "a3029f13",
   "metadata": {},
   "outputs": [],
   "source": [
    "train_set = pd.get_dummies(train_set, columns = ['Company'], dtype = int)\n",
    "test_set= pd.get_dummies(test_set, columns = ['Company'], dtype = int)"
   ]
  },
  {
   "cell_type": "code",
   "execution_count": 43,
   "id": "ebaa566e",
   "metadata": {},
   "outputs": [],
   "source": [
    "train_set = pd.get_dummies(train_set, columns = ['Cpu_new'], dtype = int)\n",
    "test_set= pd.get_dummies(test_set, columns = ['Cpu_new'], dtype = int)"
   ]
  },
  {
   "cell_type": "code",
   "execution_count": 44,
   "id": "d029a7b2",
   "metadata": {},
   "outputs": [],
   "source": [
    "train_set = pd.get_dummies(train_set, columns = ['OpSys'], dtype = int)\n",
    "test_set= pd.get_dummies(test_set, columns = ['OpSys'], dtype = int)"
   ]
  },
  {
   "cell_type": "code",
   "execution_count": 68,
   "id": "f887812f",
   "metadata": {},
   "outputs": [],
   "source": [
    "target = 'Price_in_euros'"
   ]
  },
  {
   "cell_type": "code",
   "execution_count": null,
   "id": "e320da2e",
   "metadata": {},
   "outputs": [],
   "source": [
    "feat_num = train_set.describe().columns.to_list()\n",
    "feat_num"
   ]
  },
  {
   "cell_type": "code",
   "execution_count": 48,
   "id": "3b2985fe",
   "metadata": {},
   "outputs": [],
   "source": [
    "feat_num.remove(target)\n",
    "feat_num.remove('OpSys_Mac OS X')"
   ]
  },
  {
   "cell_type": "code",
   "execution_count": 54,
   "id": "3bfbedc9",
   "metadata": {},
   "outputs": [
    {
     "name": "stdout",
     "output_type": "stream",
     "text": [
      "36\n",
      "36\n"
     ]
    }
   ],
   "source": [
    "feat_test = test_set.describe().columns.to_list()\n",
    "feat_test.remove(target)\n",
    "print(len(feat_test))\n",
    "print(len(feat_num))"
   ]
  },
  {
   "cell_type": "markdown",
   "id": "018b5dc1",
   "metadata": {},
   "source": [
    "- Selección de features"
   ]
  },
  {
   "cell_type": "markdown",
   "id": "a2e9c9bf",
   "metadata": {},
   "source": [
    "ANOVA para las columnas categoricas One Hot Encoding"
   ]
  },
  {
   "cell_type": "code",
   "execution_count": 64,
   "id": "720f3b9b",
   "metadata": {},
   "outputs": [
    {
     "name": "stderr",
     "output_type": "stream",
     "text": [
      "c:\\Users\\MARTA\\AppData\\Local\\Programs\\Python\\Python312\\Lib\\site-packages\\sklearn\\feature_selection\\_univariate_selection.py:112: RuntimeWarning: divide by zero encountered in divide\n",
      "  f = msb / msw\n"
     ]
    }
   ],
   "source": [
    "from sklearn.feature_selection import SelectKBest, f_classif\n",
    "\n",
    "X = train_set[feat_num[4:]]\n",
    "Y = train_set[target]\n",
    "selector = SelectKBest(f_classif, k=25)\n",
    "x_data_kbest = selector.fit_transform(X, Y)\n",
    "X_train_kbest = pd.DataFrame(x_data_kbest, columns = selector.get_feature_names_out())\n",
    "lista_ANOVA = X_train_kbest.columns.to_list()\n"
   ]
  },
  {
   "cell_type": "markdown",
   "id": "9ce70bed",
   "metadata": {},
   "source": [
    "Pearson para las columnas numéricas"
   ]
  },
  {
   "cell_type": "code",
   "execution_count": 69,
   "id": "6dde68c7",
   "metadata": {},
   "outputs": [
    {
     "data": {
      "text/plain": [
       "Price_in_euros    1.000000\n",
       "ram_GB            0.744023\n",
       "pixel             0.497508\n",
       "weight_kg         0.200713\n",
       "Inches            0.047853\n",
       "Name: Price_in_euros, dtype: float64"
      ]
     },
     "execution_count": 69,
     "metadata": {},
     "output_type": "execute_result"
    }
   ],
   "source": [
    "feat_num.append('Price_in_euros')\n",
    "corr= train_set[feat_num[:4] + [target]].corr()\n",
    "serie_corr = np.abs(corr[target])\n",
    "serie_corr.sort_values(ascending = False)"
   ]
  },
  {
   "cell_type": "code",
   "execution_count": 70,
   "id": "c715680b",
   "metadata": {},
   "outputs": [],
   "source": [
    "lista_ANOVA.append('ram_GB')\n",
    "lista_ANOVA.append('pixel')\n",
    "lista_ANOVA.append('weight_kg')"
   ]
  },
  {
   "cell_type": "code",
   "execution_count": 71,
   "id": "30f2bf20",
   "metadata": {},
   "outputs": [],
   "source": [
    "feat_num.remove(target)"
   ]
  },
  {
   "cell_type": "markdown",
   "id": "39d1927c",
   "metadata": {},
   "source": [
    "Seleccion por eliminación recursiva de features"
   ]
  },
  {
   "cell_type": "code",
   "execution_count": 73,
   "id": "a0f9d3b5",
   "metadata": {},
   "outputs": [
    {
     "name": "stdout",
     "output_type": "stream",
     "text": [
      "[ 1  1  1  1  1  6  1  1  2 12  1  1  1 10 13  1  1  1  1  3  1  5  8  7\n",
      "  1  1  1 14  4 16 11  9  1 17  1 15]\n"
     ]
    }
   ],
   "source": [
    "from sklearn.feature_selection import RFE\n",
    "from sklearn.ensemble import RandomForestRegressor\n",
    "\n",
    "X_train_recur = train_set[feat_num].copy()\n",
    "y_train_recur = train_set[target]\n",
    "\n",
    "rf_RFE = RandomForestRegressor(random_state= 42) \n",
    "\n",
    "rfe = RFE(estimator = rf_RFE,\n",
    "          n_features_to_select= 20, # Iterará hasta quedarse con 5\n",
    "          step = 1) # Elimina de una en una, pero es configurable\n",
    "\n",
    "rfe.fit(X_train_recur, y_train_recur)\n",
    "print(rfe.ranking_)\n",
    "X_train_rfe = pd.DataFrame(rfe.transform(X_train_recur), columns = rfe.get_feature_names_out())\n",
    "lista_RFE = X_train_rfe.columns.to_list()"
   ]
  },
  {
   "cell_type": "markdown",
   "id": "2c4426ad",
   "metadata": {},
   "source": [
    "Seleccion secuencial de Features"
   ]
  },
  {
   "cell_type": "code",
   "execution_count": 76,
   "id": "2d0b471c",
   "metadata": {},
   "outputs": [
    {
     "name": "stdout",
     "output_type": "stream",
     "text": [
      "Elegidasd SFS: ['Inches' 'ram_GB' 'weight_kg' 'pixel' 'TypeName_2 in 1 Convertible'\n",
      " 'TypeName_Notebook' 'TypeName_Ultrabook' 'TypeName_Workstation'\n",
      " 'Company_Acer' 'Company_Apple' 'Company_Asus' 'Company_Lenovo'\n",
      " 'Company_Otros' 'Cpu_new_Intel Core i3' 'Cpu_new_Intel Core i5'\n",
      " 'Cpu_new_Intel Core i7' 'Cpu_new_Intel Pentium Quad' 'OpSys_Chrome OS'\n",
      " 'OpSys_No OS' 'OpSys_Windows 10 S']\n"
     ]
    }
   ],
   "source": [
    "from sklearn.feature_selection import SequentialFeatureSelector\n",
    "\n",
    "rf_SFS = RandomForestRegressor(random_state = 42)\n",
    "\n",
    "sfs_forward = SequentialFeatureSelector(rf_SFS,\n",
    "                                        n_features_to_select = 20,\n",
    "                                        cv = 4,\n",
    "                                        scoring = \"neg_mean_squared_error\")\n",
    "\n",
    "\n",
    "sfs_forward.fit(X_train_recur, y_train_recur)\n",
    "\n",
    "X_train_sfs = pd.DataFrame(sfs_forward.transform(X_train_recur), columns = sfs_forward.get_feature_names_out())\n",
    "lista_SFS = X_train_sfs.columns.to_list()\n",
    "print(\"Elegidasd SFS:\", sfs_forward.get_feature_names_out())\n"
   ]
  },
  {
   "cell_type": "code",
   "execution_count": null,
   "id": "e54cef1a",
   "metadata": {},
   "outputs": [],
   "source": [
    "listas = {}\n",
    "listas['Todas'] = feat_num\n",
    "listas['ANOVA_corr'] = lista_ANOVA\n",
    "listas['RFE'] = lista_RFE\n",
    "listas['SFS'] = lista_SFS"
   ]
  },
  {
   "cell_type": "code",
   "execution_count": 90,
   "id": "529fb33c",
   "metadata": {},
   "outputs": [
    {
     "data": {
      "text/plain": [
       "{'Todas': np.float64(-97043.74433245696),\n",
       " 'ANOVA_corr': np.float64(-99241.38027172245),\n",
       " 'RFE': np.float64(-98993.89322913598),\n",
       " 'SFS': np.float64(-96664.55799566733)}"
      ]
     },
     "execution_count": 90,
     "metadata": {},
     "output_type": "execute_result"
    }
   ],
   "source": [
    "from sklearn.model_selection import cross_val_score\n",
    "rf_reg = RandomForestRegressor( random_state= 42)\n",
    "\n",
    "puntuaciones = {}\n",
    "for x,y in listas.items():\n",
    "    score = np.mean(cross_val_score(rf_reg, train_set[y], train_set[target], cv = 5, scoring='neg_mean_squared_error'))\n",
    "    puntuaciones[x] = score\n",
    "\n",
    "puntuaciones"
   ]
  },
  {
   "cell_type": "code",
   "execution_count": 91,
   "id": "4fe3cb57",
   "metadata": {},
   "outputs": [
    {
     "name": "stdout",
     "output_type": "stream",
     "text": [
      "Model <Todas>, RMSE_CV: 311.51844942548263\n",
      "Model <ANOVA_corr>, RMSE_CV: 315.0259993583426\n",
      "Model <RFE>, RMSE_CV: 314.63295000545634\n",
      "Model <SFS>, RMSE_CV: 310.9092439855517\n"
     ]
    }
   ],
   "source": [
    "for model, valores in puntuaciones.items():\n",
    "    print(f\"Model <{model}>, RMSE_CV: {np.sqrt(-np.mean(valores))}\")\n"
   ]
  },
  {
   "cell_type": "code",
   "execution_count": 88,
   "id": "30722f63",
   "metadata": {},
   "outputs": [
    {
     "data": {
      "text/plain": [
       "{'Todas': np.float64(-86454.7272262659),\n",
       " 'ANOVA_corr': np.float64(-92041.57017824326),\n",
       " 'RFE': np.float64(-86343.65896306661),\n",
       " 'SFS': np.float64(-85891.47978657702)}"
      ]
     },
     "execution_count": 88,
     "metadata": {},
     "output_type": "execute_result"
    }
   ],
   "source": [
    "from catboost import CatBoostRegressor\n",
    "cat_reg = CatBoostRegressor(random_state= 42, verbose = False)\n",
    "\n",
    "puntuaciones_cat = {}\n",
    "for x,y in listas.items():\n",
    "    score = np.mean(cross_val_score(cat_reg, train_set[y], train_set[target], cv = 5, scoring='neg_mean_squared_error'))\n",
    "    puntuaciones_cat[x] = score\n",
    "\n",
    "puntuaciones_cat"
   ]
  },
  {
   "cell_type": "code",
   "execution_count": 89,
   "id": "8c29505e",
   "metadata": {},
   "outputs": [
    {
     "name": "stdout",
     "output_type": "stream",
     "text": [
      "Model <Todas>, RMSE_CV: 294.03184729934594\n",
      "Model <ANOVA_corr>, RMSE_CV: 303.3835364324229\n",
      "Model <RFE>, RMSE_CV: 293.8429154549529\n",
      "Model <SFS>, RMSE_CV: 293.0724821380831\n"
     ]
    }
   ],
   "source": [
    "for model, valores in puntuaciones_cat.items():\n",
    "    print(f\"Model <{model}>, RMSE_CV: {np.sqrt(-np.mean(valores))}\")"
   ]
  },
  {
   "cell_type": "code",
   "execution_count": 92,
   "id": "676fee51",
   "metadata": {},
   "outputs": [
    {
     "name": "stdout",
     "output_type": "stream",
     "text": [
      "Model <Todas>, RMSE_CV: 324.44907788920085\n",
      "Model <ANOVA_corr>, RMSE_CV: 337.4710109847912\n",
      "Model <RFE>, RMSE_CV: 328.2216094534935\n",
      "Model <SFS>, RMSE_CV: 329.4154098147236\n"
     ]
    }
   ],
   "source": [
    "from lightgbm import LGBMRegressor\n",
    "lgb_reg = LGBMRegressor(random_state= 42, verbose = -100)\n",
    "\n",
    "puntuaciones_lgb = {}\n",
    "for x,y in listas.items():\n",
    "    score = np.mean(cross_val_score(lgb_reg, train_set[y], train_set[target], cv = 5, scoring='neg_mean_squared_error'))\n",
    "    puntuaciones_lgb[x] = score\n",
    "\n",
    "for model, valores in puntuaciones_lgb.items():\n",
    "    print(f\"Model <{model}>, RMSE_CV: {np.sqrt(-np.mean(valores))}\")"
   ]
  },
  {
   "cell_type": "code",
   "execution_count": 93,
   "id": "dacf75ca",
   "metadata": {},
   "outputs": [],
   "source": [
    "X_train = train_set[feat_num]\n",
    "y_train = train_set[target]\n",
    "X_test = test_set[feat_num]\n",
    "y_test = test_set[target]\n"
   ]
  },
  {
   "cell_type": "code",
   "execution_count": 94,
   "id": "cad62979",
   "metadata": {},
   "outputs": [],
   "source": [
    "X_train_SFS = train_set[lista_SFS]\n",
    "y_train = train_set[target]\n",
    "X_test_SFS = test_set[lista_SFS]\n",
    "y_test = test_set[target]\n"
   ]
  },
  {
   "cell_type": "code",
   "execution_count": 95,
   "id": "7312e29b",
   "metadata": {},
   "outputs": [],
   "source": [
    "from sklearn.model_selection import GridSearchCV, RandomizedSearchCV\n",
    "from sklearn.metrics import r2_score, mean_absolute_error, mean_squared_error, mean_absolute_percentage_error"
   ]
  },
  {
   "cell_type": "code",
   "execution_count": 96,
   "id": "e0ee5982",
   "metadata": {},
   "outputs": [
    {
     "name": "stdout",
     "output_type": "stream",
     "text": [
      "CatBoost best_score: 298.9496293116841\n"
     ]
    }
   ],
   "source": [
    "\n",
    "\n",
    "param_grid= {'depth': [3, 6, 12],\n",
    "          'learning_rate': [0.1, 0.2, 0.3, 0.4],\n",
    "          #'bagging_fraction': [0.3,0.6,1], No hay hiperparámetro equivalente\n",
    "          'colsample_bylevel': [0.5,1],\n",
    "          'iterations': [100, 250, 500, 750],\n",
    "          \"border_count\": [125,250]\n",
    "          }\n",
    "\n",
    "\n",
    "cat_ran = RandomizedSearchCV(cat_reg, \n",
    "                               cv = 3,\n",
    "                               n_iter = 3,\n",
    "                               param_distributions= param_grid, \n",
    "                               scoring = \"neg_mean_squared_error\")\n",
    "\n",
    "\n",
    "cat_ran.fit(X_train, y_train)\n",
    "print(\"CatBoost best_score:\", np.sqrt(-cat_ran.best_score_))\n"
   ]
  },
  {
   "cell_type": "code",
   "execution_count": 97,
   "id": "449d8c6c",
   "metadata": {},
   "outputs": [
    {
     "name": "stdout",
     "output_type": "stream",
     "text": [
      "MAE: 211.07266428106894\n",
      "MAPE: 0.18431063781822069\n",
      "RMSE: 329.0850619759376\n"
     ]
    }
   ],
   "source": [
    "y_pred_random = cat_ran.best_estimator_.predict(X_test)\n",
    "print(\"MAE:\", mean_absolute_error(y_test,y_pred_random))\n",
    "print(\"MAPE:\", mean_absolute_percentage_error(y_test,y_pred_random))\n",
    "print(\"RMSE:\", np.sqrt(mean_squared_error(y_test, y_pred_random)))"
   ]
  },
  {
   "cell_type": "code",
   "execution_count": 98,
   "id": "31128b38",
   "metadata": {},
   "outputs": [
    {
     "name": "stdout",
     "output_type": "stream",
     "text": [
      "Catboost best_score: 292.6827174394581\n"
     ]
    }
   ],
   "source": [
    "param_grid= {'depth': [3, 6, 12],\n",
    "          'learning_rate': [0.1, 0.2, 0.3, 0.4],\n",
    "          #'bagging_fraction': [0.3,0.6,1], No hay hiperparámetro equivalente\n",
    "          'colsample_bylevel': [0.5,1],\n",
    "          'iterations': [100, 250, 500, 750],\n",
    "          \"border_count\": [125,250]\n",
    "          }\n",
    "cat_grid = GridSearchCV(cat_reg, \n",
    "                            cv = 3,\n",
    "                            param_grid= param_grid, \n",
    "                            scoring = \"neg_mean_squared_error\",\n",
    "                            n_jobs=-1)\n",
    "\n",
    "\n",
    "cat_grid.fit(X_train, y_train)\n",
    "print(\"Catboost best_score:\", np.sqrt(-cat_grid.best_score_))"
   ]
  },
  {
   "cell_type": "code",
   "execution_count": 99,
   "id": "543e7fa5",
   "metadata": {},
   "outputs": [
    {
     "data": {
      "text/plain": [
       "{'border_count': 125,\n",
       " 'colsample_bylevel': 0.5,\n",
       " 'depth': 3,\n",
       " 'iterations': 750,\n",
       " 'learning_rate': 0.1}"
      ]
     },
     "execution_count": 99,
     "metadata": {},
     "output_type": "execute_result"
    }
   ],
   "source": [
    "cat_grid.best_params_"
   ]
  },
  {
   "cell_type": "code",
   "execution_count": 100,
   "id": "414a0f72",
   "metadata": {},
   "outputs": [
    {
     "name": "stdout",
     "output_type": "stream",
     "text": [
      "MAE: 211.3835329272711\n",
      "MAPE: 0.18814625607040358\n",
      "RMSE: 324.58933488875357\n"
     ]
    }
   ],
   "source": [
    "y_pred = cat_grid.best_estimator_.predict(X_test)\n",
    "print(\"MAE:\", mean_absolute_error(y_test,y_pred))\n",
    "print(\"MAPE:\", mean_absolute_percentage_error(y_test,y_pred))\n",
    "print(\"RMSE:\", np.sqrt(mean_squared_error(y_test, y_pred)))"
   ]
  },
  {
   "cell_type": "code",
   "execution_count": 101,
   "id": "c28407b8",
   "metadata": {},
   "outputs": [
    {
     "name": "stdout",
     "output_type": "stream",
     "text": [
      "Catboost best_score: 300.958952695309\n"
     ]
    }
   ],
   "source": [
    "param_grid= {'depth': [3, 6, 12],\n",
    "          'learning_rate': [0.1, 0.2, 0.3, 0.4],\n",
    "          #'bagging_fraction': [0.3,0.6,1], No hay hiperparámetro equivalente\n",
    "          'colsample_bylevel': [0.5,1],\n",
    "          'iterations': [100, 250, 500, 750],\n",
    "          \"border_count\": [125,250]\n",
    "          }\n",
    "cat_grid_SFS = GridSearchCV(cat_reg, \n",
    "                            cv = 3,\n",
    "                            param_grid= param_grid, \n",
    "                            scoring = \"neg_mean_squared_error\",\n",
    "                            n_jobs=-1)\n",
    "\n",
    "\n",
    "cat_grid_SFS.fit(X_train_SFS, y_train)\n",
    "print(\"Catboost best_score:\", np.sqrt(-cat_grid_SFS.best_score_))"
   ]
  },
  {
   "cell_type": "code",
   "execution_count": 102,
   "id": "b765c441",
   "metadata": {},
   "outputs": [
    {
     "name": "stdout",
     "output_type": "stream",
     "text": [
      "MAE: 205.59404227519408\n",
      "MAPE: 0.19154078455875254\n",
      "RMSE: 309.9487673579557\n"
     ]
    }
   ],
   "source": [
    "y_pred = cat_grid_SFS.best_estimator_.predict(X_test_SFS)\n",
    "print(\"MAE:\", mean_absolute_error(y_test,y_pred))\n",
    "print(\"MAPE:\", mean_absolute_percentage_error(y_test,y_pred))\n",
    "print(\"RMSE:\", np.sqrt(mean_squared_error(y_test, y_pred)))"
   ]
  },
  {
   "cell_type": "markdown",
   "id": "5856f309",
   "metadata": {},
   "source": [
    "## Preparamos el X_pred "
   ]
  },
  {
   "cell_type": "code",
   "execution_count": 103,
   "id": "cd37adba",
   "metadata": {},
   "outputs": [
    {
     "data": {
      "text/html": [
       "<div>\n",
       "<style scoped>\n",
       "    .dataframe tbody tr th:only-of-type {\n",
       "        vertical-align: middle;\n",
       "    }\n",
       "\n",
       "    .dataframe tbody tr th {\n",
       "        vertical-align: top;\n",
       "    }\n",
       "\n",
       "    .dataframe thead th {\n",
       "        text-align: right;\n",
       "    }\n",
       "</style>\n",
       "<table border=\"1\" class=\"dataframe\">\n",
       "  <thead>\n",
       "    <tr style=\"text-align: right;\">\n",
       "      <th></th>\n",
       "      <th>Company</th>\n",
       "      <th>Product</th>\n",
       "      <th>TypeName</th>\n",
       "      <th>Inches</th>\n",
       "      <th>ScreenResolution</th>\n",
       "      <th>Cpu</th>\n",
       "      <th>Ram</th>\n",
       "      <th>Memory</th>\n",
       "      <th>Gpu</th>\n",
       "      <th>OpSys</th>\n",
       "      <th>Weight</th>\n",
       "    </tr>\n",
       "    <tr>\n",
       "      <th>laptop_ID</th>\n",
       "      <th></th>\n",
       "      <th></th>\n",
       "      <th></th>\n",
       "      <th></th>\n",
       "      <th></th>\n",
       "      <th></th>\n",
       "      <th></th>\n",
       "      <th></th>\n",
       "      <th></th>\n",
       "      <th></th>\n",
       "      <th></th>\n",
       "    </tr>\n",
       "  </thead>\n",
       "  <tbody>\n",
       "    <tr>\n",
       "      <th>209</th>\n",
       "      <td>Lenovo</td>\n",
       "      <td>Legion Y520-15IKBN</td>\n",
       "      <td>Gaming</td>\n",
       "      <td>15.6</td>\n",
       "      <td>Full HD 1920x1080</td>\n",
       "      <td>Intel Core i7 7700HQ 2.8GHz</td>\n",
       "      <td>16GB</td>\n",
       "      <td>512GB SSD</td>\n",
       "      <td>Nvidia GeForce GTX 1060</td>\n",
       "      <td>No OS</td>\n",
       "      <td>2.4kg</td>\n",
       "    </tr>\n",
       "    <tr>\n",
       "      <th>1281</th>\n",
       "      <td>Acer</td>\n",
       "      <td>Aspire ES1-531</td>\n",
       "      <td>Notebook</td>\n",
       "      <td>15.6</td>\n",
       "      <td>1366x768</td>\n",
       "      <td>Intel Celeron Dual Core N3060 1.6GHz</td>\n",
       "      <td>4GB</td>\n",
       "      <td>500GB HDD</td>\n",
       "      <td>Intel HD Graphics 400</td>\n",
       "      <td>Linux</td>\n",
       "      <td>2.4kg</td>\n",
       "    </tr>\n",
       "    <tr>\n",
       "      <th>1168</th>\n",
       "      <td>Lenovo</td>\n",
       "      <td>V110-15ISK (i3-6006U/4GB/1TB/No</td>\n",
       "      <td>Notebook</td>\n",
       "      <td>15.6</td>\n",
       "      <td>1366x768</td>\n",
       "      <td>Intel Core i3 6006U 2.0GHz</td>\n",
       "      <td>4GB</td>\n",
       "      <td>1TB HDD</td>\n",
       "      <td>Intel HD Graphics 520</td>\n",
       "      <td>No OS</td>\n",
       "      <td>1.9kg</td>\n",
       "    </tr>\n",
       "    <tr>\n",
       "      <th>1231</th>\n",
       "      <td>Dell</td>\n",
       "      <td>Inspiron 7579</td>\n",
       "      <td>2 in 1 Convertible</td>\n",
       "      <td>15.6</td>\n",
       "      <td>IPS Panel Full HD / Touchscreen 1920x1080</td>\n",
       "      <td>Intel Core i5 7200U 2.5GHz</td>\n",
       "      <td>8GB</td>\n",
       "      <td>256GB SSD</td>\n",
       "      <td>Intel HD Graphics 620</td>\n",
       "      <td>Windows 10</td>\n",
       "      <td>2.191kg</td>\n",
       "    </tr>\n",
       "    <tr>\n",
       "      <th>1020</th>\n",
       "      <td>HP</td>\n",
       "      <td>ProBook 640</td>\n",
       "      <td>Notebook</td>\n",
       "      <td>14.0</td>\n",
       "      <td>Full HD 1920x1080</td>\n",
       "      <td>Intel Core i5 7200U 2.5GHz</td>\n",
       "      <td>4GB</td>\n",
       "      <td>256GB SSD</td>\n",
       "      <td>Intel HD Graphics 620</td>\n",
       "      <td>Windows 10</td>\n",
       "      <td>1.95kg</td>\n",
       "    </tr>\n",
       "  </tbody>\n",
       "</table>\n",
       "</div>"
      ],
      "text/plain": [
       "          Company                          Product            TypeName  \\\n",
       "laptop_ID                                                                \n",
       "209        Lenovo               Legion Y520-15IKBN              Gaming   \n",
       "1281         Acer                   Aspire ES1-531            Notebook   \n",
       "1168       Lenovo  V110-15ISK (i3-6006U/4GB/1TB/No            Notebook   \n",
       "1231         Dell                    Inspiron 7579  2 in 1 Convertible   \n",
       "1020           HP                      ProBook 640            Notebook   \n",
       "\n",
       "           Inches                           ScreenResolution  \\\n",
       "laptop_ID                                                      \n",
       "209          15.6                          Full HD 1920x1080   \n",
       "1281         15.6                                   1366x768   \n",
       "1168         15.6                                   1366x768   \n",
       "1231         15.6  IPS Panel Full HD / Touchscreen 1920x1080   \n",
       "1020         14.0                          Full HD 1920x1080   \n",
       "\n",
       "                                            Cpu   Ram     Memory  \\\n",
       "laptop_ID                                                          \n",
       "209                 Intel Core i7 7700HQ 2.8GHz  16GB  512GB SSD   \n",
       "1281       Intel Celeron Dual Core N3060 1.6GHz   4GB  500GB HDD   \n",
       "1168                 Intel Core i3 6006U 2.0GHz   4GB    1TB HDD   \n",
       "1231                 Intel Core i5 7200U 2.5GHz   8GB  256GB SSD   \n",
       "1020                 Intel Core i5 7200U 2.5GHz   4GB  256GB SSD   \n",
       "\n",
       "                               Gpu       OpSys   Weight  \n",
       "laptop_ID                                                \n",
       "209        Nvidia GeForce GTX 1060       No OS    2.4kg  \n",
       "1281         Intel HD Graphics 400       Linux    2.4kg  \n",
       "1168         Intel HD Graphics 520       No OS    1.9kg  \n",
       "1231         Intel HD Graphics 620  Windows 10  2.191kg  \n",
       "1020         Intel HD Graphics 620  Windows 10   1.95kg  "
      ]
     },
     "execution_count": 103,
     "metadata": {},
     "output_type": "execute_result"
    }
   ],
   "source": [
    "X_pred = pd.read_csv(\"./data/test.csv\", index_col = 'laptop_ID')\n",
    "X_pred.head()"
   ]
  },
  {
   "cell_type": "markdown",
   "id": "b54d8da8",
   "metadata": {},
   "source": [
    "- Tratamiento columnas Ram y Weight"
   ]
  },
  {
   "cell_type": "code",
   "execution_count": 104,
   "id": "5c326ca3",
   "metadata": {},
   "outputs": [],
   "source": [
    "X_pred['ram_GB']=X_pred.Ram.str.replace(\"GB\", \"\").astype(int)\n",
    "X_pred['weight_kg']=X_pred.Weight.str.replace(\"kg\", \"\").astype(float)"
   ]
  },
  {
   "cell_type": "markdown",
   "id": "c78c74b1",
   "metadata": {},
   "source": [
    "- Tratamiento columna ScreenResolution"
   ]
  },
  {
   "cell_type": "code",
   "execution_count": 105,
   "id": "01b0cf2d",
   "metadata": {},
   "outputs": [],
   "source": [
    "lista = []\n",
    "for x in X_pred['ScreenResolution']:\n",
    "    a = x.split(\" \")\n",
    "    b = a[-1].split('x')\n",
    "    c = int(b[0])*int(b[1])\n",
    "    lista.append(c)\n",
    "\n",
    "X_pred['pixel'] = lista"
   ]
  },
  {
   "cell_type": "markdown",
   "id": "28e043b3",
   "metadata": {},
   "source": [
    "- Tratamiento columna Company"
   ]
  },
  {
   "cell_type": "code",
   "execution_count": 106,
   "id": "54ade0e1",
   "metadata": {},
   "outputs": [],
   "source": [
    "X_pred.loc[X_pred['Company'] == 'Samsung', 'Company'] = 'Otros'"
   ]
  },
  {
   "cell_type": "code",
   "execution_count": 107,
   "id": "021fe6d2",
   "metadata": {},
   "outputs": [],
   "source": [
    "a = X_pred.Company.unique()\n",
    "lista_company_pred = []\n",
    "for x in a:\n",
    "    lista_company_pred.append(x)"
   ]
  },
  {
   "cell_type": "code",
   "execution_count": 108,
   "id": "73516000",
   "metadata": {},
   "outputs": [
    {
     "data": {
      "text/plain": [
       "Company\n",
       "Dell         100\n",
       "Lenovo        95\n",
       "HP            80\n",
       "Asus          37\n",
       "Acer          29\n",
       "MSI           17\n",
       "Toshiba       14\n",
       "Otros          4\n",
       "Apple          4\n",
       "Vero           2\n",
       "LG             2\n",
       "Mediacom       1\n",
       "Razer          1\n",
       "Fujitsu        1\n",
       "Google         1\n",
       "Xiaomi         1\n",
       "Chuwi          1\n",
       "Microsoft      1\n",
       "Name: count, dtype: int64"
      ]
     },
     "execution_count": 108,
     "metadata": {},
     "output_type": "execute_result"
    }
   ],
   "source": [
    "X_pred.Company.value_counts()"
   ]
  },
  {
   "cell_type": "code",
   "execution_count": 109,
   "id": "e0fc6797",
   "metadata": {},
   "outputs": [
    {
     "name": "stderr",
     "output_type": "stream",
     "text": [
      "C:\\Users\\MARTA\\AppData\\Local\\Temp\\ipykernel_15896\\585093429.py:3: FutureWarning: Series.__getitem__ treating keys as positions is deprecated. In a future version, integer keys will always be treated as labels (consistent with DataFrame behavior). To access a value by position, use `ser.iloc[pos]`\n",
      "  if X_pred.loc[X_pred['Company'] == company, 'Company'].value_counts()[0] < 4:\n",
      "C:\\Users\\MARTA\\AppData\\Local\\Temp\\ipykernel_15896\\585093429.py:3: FutureWarning: Series.__getitem__ treating keys as positions is deprecated. In a future version, integer keys will always be treated as labels (consistent with DataFrame behavior). To access a value by position, use `ser.iloc[pos]`\n",
      "  if X_pred.loc[X_pred['Company'] == company, 'Company'].value_counts()[0] < 4:\n",
      "C:\\Users\\MARTA\\AppData\\Local\\Temp\\ipykernel_15896\\585093429.py:3: FutureWarning: Series.__getitem__ treating keys as positions is deprecated. In a future version, integer keys will always be treated as labels (consistent with DataFrame behavior). To access a value by position, use `ser.iloc[pos]`\n",
      "  if X_pred.loc[X_pred['Company'] == company, 'Company'].value_counts()[0] < 4:\n",
      "C:\\Users\\MARTA\\AppData\\Local\\Temp\\ipykernel_15896\\585093429.py:3: FutureWarning: Series.__getitem__ treating keys as positions is deprecated. In a future version, integer keys will always be treated as labels (consistent with DataFrame behavior). To access a value by position, use `ser.iloc[pos]`\n",
      "  if X_pred.loc[X_pred['Company'] == company, 'Company'].value_counts()[0] < 4:\n",
      "C:\\Users\\MARTA\\AppData\\Local\\Temp\\ipykernel_15896\\585093429.py:3: FutureWarning: Series.__getitem__ treating keys as positions is deprecated. In a future version, integer keys will always be treated as labels (consistent with DataFrame behavior). To access a value by position, use `ser.iloc[pos]`\n",
      "  if X_pred.loc[X_pred['Company'] == company, 'Company'].value_counts()[0] < 4:\n",
      "C:\\Users\\MARTA\\AppData\\Local\\Temp\\ipykernel_15896\\585093429.py:3: FutureWarning: Series.__getitem__ treating keys as positions is deprecated. In a future version, integer keys will always be treated as labels (consistent with DataFrame behavior). To access a value by position, use `ser.iloc[pos]`\n",
      "  if X_pred.loc[X_pred['Company'] == company, 'Company'].value_counts()[0] < 4:\n",
      "C:\\Users\\MARTA\\AppData\\Local\\Temp\\ipykernel_15896\\585093429.py:3: FutureWarning: Series.__getitem__ treating keys as positions is deprecated. In a future version, integer keys will always be treated as labels (consistent with DataFrame behavior). To access a value by position, use `ser.iloc[pos]`\n",
      "  if X_pred.loc[X_pred['Company'] == company, 'Company'].value_counts()[0] < 4:\n",
      "C:\\Users\\MARTA\\AppData\\Local\\Temp\\ipykernel_15896\\585093429.py:3: FutureWarning: Series.__getitem__ treating keys as positions is deprecated. In a future version, integer keys will always be treated as labels (consistent with DataFrame behavior). To access a value by position, use `ser.iloc[pos]`\n",
      "  if X_pred.loc[X_pred['Company'] == company, 'Company'].value_counts()[0] < 4:\n",
      "C:\\Users\\MARTA\\AppData\\Local\\Temp\\ipykernel_15896\\585093429.py:3: FutureWarning: Series.__getitem__ treating keys as positions is deprecated. In a future version, integer keys will always be treated as labels (consistent with DataFrame behavior). To access a value by position, use `ser.iloc[pos]`\n",
      "  if X_pred.loc[X_pred['Company'] == company, 'Company'].value_counts()[0] < 4:\n",
      "C:\\Users\\MARTA\\AppData\\Local\\Temp\\ipykernel_15896\\585093429.py:3: FutureWarning: Series.__getitem__ treating keys as positions is deprecated. In a future version, integer keys will always be treated as labels (consistent with DataFrame behavior). To access a value by position, use `ser.iloc[pos]`\n",
      "  if X_pred.loc[X_pred['Company'] == company, 'Company'].value_counts()[0] < 4:\n",
      "C:\\Users\\MARTA\\AppData\\Local\\Temp\\ipykernel_15896\\585093429.py:3: FutureWarning: Series.__getitem__ treating keys as positions is deprecated. In a future version, integer keys will always be treated as labels (consistent with DataFrame behavior). To access a value by position, use `ser.iloc[pos]`\n",
      "  if X_pred.loc[X_pred['Company'] == company, 'Company'].value_counts()[0] < 4:\n",
      "C:\\Users\\MARTA\\AppData\\Local\\Temp\\ipykernel_15896\\585093429.py:3: FutureWarning: Series.__getitem__ treating keys as positions is deprecated. In a future version, integer keys will always be treated as labels (consistent with DataFrame behavior). To access a value by position, use `ser.iloc[pos]`\n",
      "  if X_pred.loc[X_pred['Company'] == company, 'Company'].value_counts()[0] < 4:\n",
      "C:\\Users\\MARTA\\AppData\\Local\\Temp\\ipykernel_15896\\585093429.py:3: FutureWarning: Series.__getitem__ treating keys as positions is deprecated. In a future version, integer keys will always be treated as labels (consistent with DataFrame behavior). To access a value by position, use `ser.iloc[pos]`\n",
      "  if X_pred.loc[X_pred['Company'] == company, 'Company'].value_counts()[0] < 4:\n",
      "C:\\Users\\MARTA\\AppData\\Local\\Temp\\ipykernel_15896\\585093429.py:3: FutureWarning: Series.__getitem__ treating keys as positions is deprecated. In a future version, integer keys will always be treated as labels (consistent with DataFrame behavior). To access a value by position, use `ser.iloc[pos]`\n",
      "  if X_pred.loc[X_pred['Company'] == company, 'Company'].value_counts()[0] < 4:\n",
      "C:\\Users\\MARTA\\AppData\\Local\\Temp\\ipykernel_15896\\585093429.py:3: FutureWarning: Series.__getitem__ treating keys as positions is deprecated. In a future version, integer keys will always be treated as labels (consistent with DataFrame behavior). To access a value by position, use `ser.iloc[pos]`\n",
      "  if X_pred.loc[X_pred['Company'] == company, 'Company'].value_counts()[0] < 4:\n",
      "C:\\Users\\MARTA\\AppData\\Local\\Temp\\ipykernel_15896\\585093429.py:3: FutureWarning: Series.__getitem__ treating keys as positions is deprecated. In a future version, integer keys will always be treated as labels (consistent with DataFrame behavior). To access a value by position, use `ser.iloc[pos]`\n",
      "  if X_pred.loc[X_pred['Company'] == company, 'Company'].value_counts()[0] < 4:\n",
      "C:\\Users\\MARTA\\AppData\\Local\\Temp\\ipykernel_15896\\585093429.py:3: FutureWarning: Series.__getitem__ treating keys as positions is deprecated. In a future version, integer keys will always be treated as labels (consistent with DataFrame behavior). To access a value by position, use `ser.iloc[pos]`\n",
      "  if X_pred.loc[X_pred['Company'] == company, 'Company'].value_counts()[0] < 4:\n",
      "C:\\Users\\MARTA\\AppData\\Local\\Temp\\ipykernel_15896\\585093429.py:3: FutureWarning: Series.__getitem__ treating keys as positions is deprecated. In a future version, integer keys will always be treated as labels (consistent with DataFrame behavior). To access a value by position, use `ser.iloc[pos]`\n",
      "  if X_pred.loc[X_pred['Company'] == company, 'Company'].value_counts()[0] < 4:\n"
     ]
    }
   ],
   "source": [
    "otros = []\n",
    "for company in lista_company_pred:\n",
    "    if X_pred.loc[X_pred['Company'] == company, 'Company'].value_counts()[0] < 4:\n",
    "        otros.append(company)"
   ]
  },
  {
   "cell_type": "code",
   "execution_count": 110,
   "id": "2baa9a2d",
   "metadata": {},
   "outputs": [],
   "source": [
    "for x in otros:\n",
    "    if x in X_pred['Company'].unique():\n",
    "        X_pred.loc[X_pred['Company'] == x, 'Company'] = 'Otros'"
   ]
  },
  {
   "cell_type": "code",
   "execution_count": 111,
   "id": "78686165",
   "metadata": {},
   "outputs": [
    {
     "data": {
      "text/plain": [
       "Company\n",
       "Dell       100\n",
       "Lenovo      95\n",
       "HP          80\n",
       "Asus        37\n",
       "Acer        29\n",
       "MSI         17\n",
       "Otros       15\n",
       "Toshiba     14\n",
       "Apple        4\n",
       "Name: count, dtype: int64"
      ]
     },
     "execution_count": 111,
     "metadata": {},
     "output_type": "execute_result"
    }
   ],
   "source": [
    "X_pred.Company.value_counts()"
   ]
  },
  {
   "cell_type": "markdown",
   "id": "9e74b244",
   "metadata": {},
   "source": [
    "- Tratamiento GPU"
   ]
  },
  {
   "cell_type": "code",
   "execution_count": 112,
   "id": "6a769830",
   "metadata": {},
   "outputs": [
    {
     "data": {
      "text/plain": [
       "Gpu_new\n",
       "Intel     213\n",
       "Nvidia    116\n",
       "AMD        61\n",
       "ARM         1\n",
       "Name: count, dtype: int64"
      ]
     },
     "execution_count": 112,
     "metadata": {},
     "output_type": "execute_result"
    }
   ],
   "source": [
    "lista = []\n",
    "for x in X_pred['Gpu']:\n",
    "    a = x.split(\" \")[0]\n",
    "    lista.append(a)\n",
    "\n",
    "X_pred['Gpu_new'] = lista\n",
    "X_pred.Gpu_new.value_counts()"
   ]
  },
  {
   "cell_type": "code",
   "execution_count": 113,
   "id": "f9c030c8",
   "metadata": {},
   "outputs": [
    {
     "data": {
      "text/plain": [
       "Gpu_new\n",
       "Intel     213\n",
       "Nvidia    117\n",
       "AMD        61\n",
       "Name: count, dtype: int64"
      ]
     },
     "execution_count": 113,
     "metadata": {},
     "output_type": "execute_result"
    }
   ],
   "source": [
    "X_pred.loc[X_pred['Gpu_new'] == 'ARM', 'Gpu_new'] = 'Nvidia'\n",
    "X_pred.Gpu_new.value_counts()"
   ]
  },
  {
   "cell_type": "code",
   "execution_count": 67,
   "id": "3325ddc1",
   "metadata": {},
   "outputs": [
    {
     "data": {
      "text/plain": [
       "TypeName\n",
       "Notebook              218\n",
       "Gaming                 62\n",
       "Ultrabook              55\n",
       "2 in 1 Convertible     41\n",
       "Workstation             9\n",
       "Netbook                 6\n",
       "Name: count, dtype: int64"
      ]
     },
     "execution_count": 67,
     "metadata": {},
     "output_type": "execute_result"
    }
   ],
   "source": [
    "X_pred.TypeName.value_counts()"
   ]
  },
  {
   "cell_type": "code",
   "execution_count": 69,
   "id": "c8ad0a6f",
   "metadata": {},
   "outputs": [
    {
     "data": {
      "text/plain": [
       "OpSys\n",
       "Windows 10      331\n",
       "No OS            22\n",
       "Windows 7        16\n",
       "Linux            14\n",
       "Chrome OS         3\n",
       "macOS             2\n",
       "Mac OS X          2\n",
       "Windows 10 S      1\n",
       "Name: count, dtype: int64"
      ]
     },
     "execution_count": 69,
     "metadata": {},
     "output_type": "execute_result"
    }
   ],
   "source": [
    "X_pred.OpSys.value_counts()"
   ]
  },
  {
   "cell_type": "code",
   "execution_count": 114,
   "id": "13727d47",
   "metadata": {},
   "outputs": [
    {
     "data": {
      "text/plain": [
       "OpSys\n",
       "Windows 10      331\n",
       "No OS            22\n",
       "Windows 7        16\n",
       "Linux            14\n",
       "macOS             4\n",
       "Chrome OS         3\n",
       "Windows 10 S      1\n",
       "Name: count, dtype: int64"
      ]
     },
     "execution_count": 114,
     "metadata": {},
     "output_type": "execute_result"
    }
   ],
   "source": [
    "X_pred.loc[X_pred['OpSys'] == 'Mac OS X', 'OpSys'] = 'macOS'\n",
    "X_pred.OpSys.value_counts()"
   ]
  },
  {
   "cell_type": "markdown",
   "id": "612bf3c7",
   "metadata": {},
   "source": [
    "- Tratamiento columna Cpu"
   ]
  },
  {
   "cell_type": "code",
   "execution_count": 117,
   "id": "1ce37a64",
   "metadata": {},
   "outputs": [
    {
     "data": {
      "text/plain": [
       "Cpu_new\n",
       "Intel Core i7             153\n",
       "Intel Core i5             141\n",
       "Intel Core i3              43\n",
       "Intel Celeron Dual         15\n",
       "Intel Pentium Quad          6\n",
       "AMD A9-Series 9420          5\n",
       "Intel Core M                4\n",
       "Intel Celeron Quad          3\n",
       "AMD A8-Series 7410          2\n",
       "AMD A6-Series 9220          2\n",
       "Intel Atom x5-Z8550         2\n",
       "AMD A12-Series 9720P        2\n",
       "Intel Atom X5-Z8350         1\n",
       "AMD FX 8800P                1\n",
       "Samsung Cortex A72&A53      1\n",
       "AMD A10-Series 9620P        1\n",
       "AMD A9-Series 9410          1\n",
       "Intel Xeon E3-1505M         1\n",
       "AMD A10-Series 9600P        1\n",
       "AMD Ryzen 1700              1\n",
       "AMD A12-Series 9700P        1\n",
       "AMD E-Series 9000           1\n",
       "AMD E-Series 7110           1\n",
       "Intel Xeon E3-1535M         1\n",
       "AMD A4-Series 7210          1\n",
       "Name: count, dtype: int64"
      ]
     },
     "execution_count": 117,
     "metadata": {},
     "output_type": "execute_result"
    }
   ],
   "source": [
    "lista = []\n",
    "for x in X_pred['Cpu']:\n",
    "    a = tuple(x.split(\" \")[0:3])\n",
    "    union = \" \".join(a)\n",
    "    lista.append(union)\n",
    "\n",
    "X_pred['Cpu_new'] = lista\n",
    "X_pred.Cpu_new.value_counts()\n"
   ]
  },
  {
   "cell_type": "code",
   "execution_count": 118,
   "id": "126f7cae",
   "metadata": {},
   "outputs": [],
   "source": [
    "a = X_pred.Cpu_new.unique()\n",
    "lista_company = []\n",
    "for x in a:\n",
    "    lista_company.append(x)"
   ]
  },
  {
   "cell_type": "code",
   "execution_count": 120,
   "id": "4bd09167",
   "metadata": {},
   "outputs": [
    {
     "name": "stderr",
     "output_type": "stream",
     "text": [
      "C:\\Users\\MARTA\\AppData\\Local\\Temp\\ipykernel_15896\\365776222.py:4: FutureWarning: Series.__getitem__ treating keys as positions is deprecated. In a future version, integer keys will always be treated as labels (consistent with DataFrame behavior). To access a value by position, use `ser.iloc[pos]`\n",
      "  if X_pred.loc[X_pred['Cpu_new'] == company, 'Cpu_new'].value_counts()[0] < 6:\n",
      "C:\\Users\\MARTA\\AppData\\Local\\Temp\\ipykernel_15896\\365776222.py:4: FutureWarning: Series.__getitem__ treating keys as positions is deprecated. In a future version, integer keys will always be treated as labels (consistent with DataFrame behavior). To access a value by position, use `ser.iloc[pos]`\n",
      "  if X_pred.loc[X_pred['Cpu_new'] == company, 'Cpu_new'].value_counts()[0] < 6:\n",
      "C:\\Users\\MARTA\\AppData\\Local\\Temp\\ipykernel_15896\\365776222.py:4: FutureWarning: Series.__getitem__ treating keys as positions is deprecated. In a future version, integer keys will always be treated as labels (consistent with DataFrame behavior). To access a value by position, use `ser.iloc[pos]`\n",
      "  if X_pred.loc[X_pred['Cpu_new'] == company, 'Cpu_new'].value_counts()[0] < 6:\n",
      "C:\\Users\\MARTA\\AppData\\Local\\Temp\\ipykernel_15896\\365776222.py:4: FutureWarning: Series.__getitem__ treating keys as positions is deprecated. In a future version, integer keys will always be treated as labels (consistent with DataFrame behavior). To access a value by position, use `ser.iloc[pos]`\n",
      "  if X_pred.loc[X_pred['Cpu_new'] == company, 'Cpu_new'].value_counts()[0] < 6:\n",
      "C:\\Users\\MARTA\\AppData\\Local\\Temp\\ipykernel_15896\\365776222.py:4: FutureWarning: Series.__getitem__ treating keys as positions is deprecated. In a future version, integer keys will always be treated as labels (consistent with DataFrame behavior). To access a value by position, use `ser.iloc[pos]`\n",
      "  if X_pred.loc[X_pred['Cpu_new'] == company, 'Cpu_new'].value_counts()[0] < 6:\n",
      "C:\\Users\\MARTA\\AppData\\Local\\Temp\\ipykernel_15896\\365776222.py:4: FutureWarning: Series.__getitem__ treating keys as positions is deprecated. In a future version, integer keys will always be treated as labels (consistent with DataFrame behavior). To access a value by position, use `ser.iloc[pos]`\n",
      "  if X_pred.loc[X_pred['Cpu_new'] == company, 'Cpu_new'].value_counts()[0] < 6:\n",
      "C:\\Users\\MARTA\\AppData\\Local\\Temp\\ipykernel_15896\\365776222.py:4: FutureWarning: Series.__getitem__ treating keys as positions is deprecated. In a future version, integer keys will always be treated as labels (consistent with DataFrame behavior). To access a value by position, use `ser.iloc[pos]`\n",
      "  if X_pred.loc[X_pred['Cpu_new'] == company, 'Cpu_new'].value_counts()[0] < 6:\n",
      "C:\\Users\\MARTA\\AppData\\Local\\Temp\\ipykernel_15896\\365776222.py:4: FutureWarning: Series.__getitem__ treating keys as positions is deprecated. In a future version, integer keys will always be treated as labels (consistent with DataFrame behavior). To access a value by position, use `ser.iloc[pos]`\n",
      "  if X_pred.loc[X_pred['Cpu_new'] == company, 'Cpu_new'].value_counts()[0] < 6:\n",
      "C:\\Users\\MARTA\\AppData\\Local\\Temp\\ipykernel_15896\\365776222.py:4: FutureWarning: Series.__getitem__ treating keys as positions is deprecated. In a future version, integer keys will always be treated as labels (consistent with DataFrame behavior). To access a value by position, use `ser.iloc[pos]`\n",
      "  if X_pred.loc[X_pred['Cpu_new'] == company, 'Cpu_new'].value_counts()[0] < 6:\n",
      "C:\\Users\\MARTA\\AppData\\Local\\Temp\\ipykernel_15896\\365776222.py:4: FutureWarning: Series.__getitem__ treating keys as positions is deprecated. In a future version, integer keys will always be treated as labels (consistent with DataFrame behavior). To access a value by position, use `ser.iloc[pos]`\n",
      "  if X_pred.loc[X_pred['Cpu_new'] == company, 'Cpu_new'].value_counts()[0] < 6:\n",
      "C:\\Users\\MARTA\\AppData\\Local\\Temp\\ipykernel_15896\\365776222.py:4: FutureWarning: Series.__getitem__ treating keys as positions is deprecated. In a future version, integer keys will always be treated as labels (consistent with DataFrame behavior). To access a value by position, use `ser.iloc[pos]`\n",
      "  if X_pred.loc[X_pred['Cpu_new'] == company, 'Cpu_new'].value_counts()[0] < 6:\n",
      "C:\\Users\\MARTA\\AppData\\Local\\Temp\\ipykernel_15896\\365776222.py:4: FutureWarning: Series.__getitem__ treating keys as positions is deprecated. In a future version, integer keys will always be treated as labels (consistent with DataFrame behavior). To access a value by position, use `ser.iloc[pos]`\n",
      "  if X_pred.loc[X_pred['Cpu_new'] == company, 'Cpu_new'].value_counts()[0] < 6:\n",
      "C:\\Users\\MARTA\\AppData\\Local\\Temp\\ipykernel_15896\\365776222.py:4: FutureWarning: Series.__getitem__ treating keys as positions is deprecated. In a future version, integer keys will always be treated as labels (consistent with DataFrame behavior). To access a value by position, use `ser.iloc[pos]`\n",
      "  if X_pred.loc[X_pred['Cpu_new'] == company, 'Cpu_new'].value_counts()[0] < 6:\n",
      "C:\\Users\\MARTA\\AppData\\Local\\Temp\\ipykernel_15896\\365776222.py:4: FutureWarning: Series.__getitem__ treating keys as positions is deprecated. In a future version, integer keys will always be treated as labels (consistent with DataFrame behavior). To access a value by position, use `ser.iloc[pos]`\n",
      "  if X_pred.loc[X_pred['Cpu_new'] == company, 'Cpu_new'].value_counts()[0] < 6:\n",
      "C:\\Users\\MARTA\\AppData\\Local\\Temp\\ipykernel_15896\\365776222.py:4: FutureWarning: Series.__getitem__ treating keys as positions is deprecated. In a future version, integer keys will always be treated as labels (consistent with DataFrame behavior). To access a value by position, use `ser.iloc[pos]`\n",
      "  if X_pred.loc[X_pred['Cpu_new'] == company, 'Cpu_new'].value_counts()[0] < 6:\n",
      "C:\\Users\\MARTA\\AppData\\Local\\Temp\\ipykernel_15896\\365776222.py:4: FutureWarning: Series.__getitem__ treating keys as positions is deprecated. In a future version, integer keys will always be treated as labels (consistent with DataFrame behavior). To access a value by position, use `ser.iloc[pos]`\n",
      "  if X_pred.loc[X_pred['Cpu_new'] == company, 'Cpu_new'].value_counts()[0] < 6:\n",
      "C:\\Users\\MARTA\\AppData\\Local\\Temp\\ipykernel_15896\\365776222.py:4: FutureWarning: Series.__getitem__ treating keys as positions is deprecated. In a future version, integer keys will always be treated as labels (consistent with DataFrame behavior). To access a value by position, use `ser.iloc[pos]`\n",
      "  if X_pred.loc[X_pred['Cpu_new'] == company, 'Cpu_new'].value_counts()[0] < 6:\n",
      "C:\\Users\\MARTA\\AppData\\Local\\Temp\\ipykernel_15896\\365776222.py:4: FutureWarning: Series.__getitem__ treating keys as positions is deprecated. In a future version, integer keys will always be treated as labels (consistent with DataFrame behavior). To access a value by position, use `ser.iloc[pos]`\n",
      "  if X_pred.loc[X_pred['Cpu_new'] == company, 'Cpu_new'].value_counts()[0] < 6:\n",
      "C:\\Users\\MARTA\\AppData\\Local\\Temp\\ipykernel_15896\\365776222.py:4: FutureWarning: Series.__getitem__ treating keys as positions is deprecated. In a future version, integer keys will always be treated as labels (consistent with DataFrame behavior). To access a value by position, use `ser.iloc[pos]`\n",
      "  if X_pred.loc[X_pred['Cpu_new'] == company, 'Cpu_new'].value_counts()[0] < 6:\n",
      "C:\\Users\\MARTA\\AppData\\Local\\Temp\\ipykernel_15896\\365776222.py:4: FutureWarning: Series.__getitem__ treating keys as positions is deprecated. In a future version, integer keys will always be treated as labels (consistent with DataFrame behavior). To access a value by position, use `ser.iloc[pos]`\n",
      "  if X_pred.loc[X_pred['Cpu_new'] == company, 'Cpu_new'].value_counts()[0] < 6:\n",
      "C:\\Users\\MARTA\\AppData\\Local\\Temp\\ipykernel_15896\\365776222.py:4: FutureWarning: Series.__getitem__ treating keys as positions is deprecated. In a future version, integer keys will always be treated as labels (consistent with DataFrame behavior). To access a value by position, use `ser.iloc[pos]`\n",
      "  if X_pred.loc[X_pred['Cpu_new'] == company, 'Cpu_new'].value_counts()[0] < 6:\n",
      "C:\\Users\\MARTA\\AppData\\Local\\Temp\\ipykernel_15896\\365776222.py:4: FutureWarning: Series.__getitem__ treating keys as positions is deprecated. In a future version, integer keys will always be treated as labels (consistent with DataFrame behavior). To access a value by position, use `ser.iloc[pos]`\n",
      "  if X_pred.loc[X_pred['Cpu_new'] == company, 'Cpu_new'].value_counts()[0] < 6:\n",
      "C:\\Users\\MARTA\\AppData\\Local\\Temp\\ipykernel_15896\\365776222.py:4: FutureWarning: Series.__getitem__ treating keys as positions is deprecated. In a future version, integer keys will always be treated as labels (consistent with DataFrame behavior). To access a value by position, use `ser.iloc[pos]`\n",
      "  if X_pred.loc[X_pred['Cpu_new'] == company, 'Cpu_new'].value_counts()[0] < 6:\n",
      "C:\\Users\\MARTA\\AppData\\Local\\Temp\\ipykernel_15896\\365776222.py:4: FutureWarning: Series.__getitem__ treating keys as positions is deprecated. In a future version, integer keys will always be treated as labels (consistent with DataFrame behavior). To access a value by position, use `ser.iloc[pos]`\n",
      "  if X_pred.loc[X_pred['Cpu_new'] == company, 'Cpu_new'].value_counts()[0] < 6:\n"
     ]
    }
   ],
   "source": [
    "otros = []\n",
    "for company in lista_company:\n",
    "    if company != 'Intel Core M':\n",
    "        if X_pred.loc[X_pred['Cpu_new'] == company, 'Cpu_new'].value_counts()[0] < 6:\n",
    "            otros.append(company)"
   ]
  },
  {
   "cell_type": "code",
   "execution_count": 121,
   "id": "d83d9410",
   "metadata": {},
   "outputs": [],
   "source": [
    "for x in otros:\n",
    "    if x in X_pred['Cpu_new'].unique():\n",
    "        X_pred.loc[X_pred['Cpu_new'] == x, 'Cpu_new'] = 'Otros'"
   ]
  },
  {
   "cell_type": "code",
   "execution_count": 122,
   "id": "9131571b",
   "metadata": {},
   "outputs": [
    {
     "data": {
      "text/plain": [
       "Cpu_new\n",
       "Intel Core i7         153\n",
       "Intel Core i5         141\n",
       "Intel Core i3          43\n",
       "Otros                  29\n",
       "Intel Celeron Dual     15\n",
       "Intel Pentium Quad      6\n",
       "Intel Core M            4\n",
       "Name: count, dtype: int64"
      ]
     },
     "execution_count": 122,
     "metadata": {},
     "output_type": "execute_result"
    }
   ],
   "source": [
    "X_pred.Cpu_new.value_counts()"
   ]
  },
  {
   "cell_type": "markdown",
   "id": "6c5ff0f2",
   "metadata": {},
   "source": [
    "- OneHot Encoding para las columnas Company, TypeName y OpSys"
   ]
  },
  {
   "cell_type": "code",
   "execution_count": 123,
   "id": "6803acf2",
   "metadata": {},
   "outputs": [],
   "source": [
    "X_pred = pd.get_dummies(X_pred, columns = ['Company'], dtype = int)\n",
    "X_pred = pd.get_dummies(X_pred, columns = ['TypeName'], dtype = int)\n",
    "X_pred = pd.get_dummies(X_pred, columns = ['OpSys'], dtype = int)\n",
    "X_pred = pd.get_dummies(X_pred, columns = ['Gpu_new'], dtype = int)\n",
    "X_pred = pd.get_dummies(X_pred, columns = ['Cpu_new'], dtype = int)"
   ]
  },
  {
   "cell_type": "markdown",
   "id": "7edc3e6e",
   "metadata": {},
   "source": [
    "- Seleccion de features"
   ]
  },
  {
   "cell_type": "code",
   "execution_count": 124,
   "id": "1390026e",
   "metadata": {},
   "outputs": [
    {
     "data": {
      "text/plain": [
       "['Inches',\n",
       " 'ram_GB',\n",
       " 'weight_kg',\n",
       " 'pixel',\n",
       " 'Company_Acer',\n",
       " 'Company_Apple',\n",
       " 'Company_Asus',\n",
       " 'Company_Dell',\n",
       " 'Company_HP',\n",
       " 'Company_Lenovo',\n",
       " 'Company_MSI',\n",
       " 'Company_Otros',\n",
       " 'Company_Toshiba',\n",
       " 'TypeName_2 in 1 Convertible',\n",
       " 'TypeName_Gaming',\n",
       " 'TypeName_Netbook',\n",
       " 'TypeName_Notebook',\n",
       " 'TypeName_Ultrabook',\n",
       " 'TypeName_Workstation',\n",
       " 'OpSys_Chrome OS',\n",
       " 'OpSys_Linux',\n",
       " 'OpSys_No OS',\n",
       " 'OpSys_Windows 10',\n",
       " 'OpSys_Windows 10 S',\n",
       " 'OpSys_Windows 7',\n",
       " 'OpSys_macOS',\n",
       " 'Gpu_new_AMD',\n",
       " 'Gpu_new_Intel',\n",
       " 'Gpu_new_Nvidia',\n",
       " 'Cpu_new_Intel Celeron Dual',\n",
       " 'Cpu_new_Intel Core M',\n",
       " 'Cpu_new_Intel Core i3',\n",
       " 'Cpu_new_Intel Core i5',\n",
       " 'Cpu_new_Intel Core i7',\n",
       " 'Cpu_new_Intel Pentium Quad',\n",
       " 'Cpu_new_Otros']"
      ]
     },
     "execution_count": 124,
     "metadata": {},
     "output_type": "execute_result"
    }
   ],
   "source": [
    "feat_num = X_pred.describe().columns.to_list()\n",
    "feat_num"
   ]
  },
  {
   "cell_type": "code",
   "execution_count": 125,
   "id": "056daf9d",
   "metadata": {},
   "outputs": [
    {
     "data": {
      "text/plain": [
       "36"
      ]
     },
     "execution_count": 125,
     "metadata": {},
     "output_type": "execute_result"
    }
   ],
   "source": [
    "len(feat_num)"
   ]
  },
  {
   "cell_type": "code",
   "execution_count": 126,
   "id": "c01412cb",
   "metadata": {},
   "outputs": [
    {
     "data": {
      "text/plain": [
       "array([1376.66443498,  301.18682052,  346.75786575,  888.46475674,\n",
       "        986.42049913,  335.90096675,  848.14862985,  847.10877205,\n",
       "       1235.25346439,  398.91405917, 2335.22410597, 1360.72562514,\n",
       "        597.74861334, 1500.3884615 ,  776.14782324,  763.36261166,\n",
       "       2563.06194099, 1409.7329468 , 2093.22843824,  681.59706121,\n",
       "       1337.12184013,  281.21990827,  853.62687948,  917.698297  ,\n",
       "        461.86880507,  810.72604081,  690.46544269, 1279.3234132 ,\n",
       "       2774.10471463, 1125.89701353, 2063.79911207,  445.4117184 ,\n",
       "        843.83906054, 3110.29245694, 1947.65053367, 1935.51026389,\n",
       "        671.66083303, 1404.5312111 ,  923.47301709, 1760.9941373 ,\n",
       "        751.46180291,  820.94769318,  474.19668867, 1372.83309796,\n",
       "       1543.23361966, 1052.27306564, 1056.32512814,  512.3981101 ,\n",
       "        715.87721667,  392.7900047 , 1602.18729752,  868.16529627,\n",
       "       1125.84951864,  499.4738101 , 2013.20298568, 1769.48608293,\n",
       "        708.14563991, 1039.28691782,  973.12245951,  600.6341291 ,\n",
       "       2318.66524415, 1975.12604429,  447.60094091, 2112.31280707,\n",
       "       1108.53517576, 1448.50740919, 1038.73673053, 1094.09652394,\n",
       "       1691.12549117, 2081.32834679,  762.4494274 ,  568.73374175,\n",
       "       1029.9338543 , 1565.07788081,  965.49136118, 1000.91634116,\n",
       "       1155.55881123, 1849.47290623, 1470.85146983, 1316.37060546,\n",
       "       1108.2275237 , 1089.27191483, 2297.16131554, 1713.52547109,\n",
       "       1455.4450485 , 1935.62449407,  510.43307402,  862.88825395,\n",
       "        702.09149444,  876.13685626,  621.58664377, 1729.07756348,\n",
       "       1149.69146268, 3958.79092459, 2021.26984202, 1370.08835074,\n",
       "        620.19952065,  643.4697057 ,  955.29868067,  992.8739314 ,\n",
       "       1852.12839183,  716.20052474, 1726.38259824, 1149.69146268,\n",
       "        265.42527163, 1760.07182096, 2196.19729155,  553.81740673,\n",
       "        338.97593144, 1144.63081363, 1460.06133189,  702.83820243,\n",
       "        742.96140345,  683.90873044,  890.99501454,  808.81970767,\n",
       "        466.44318291, 1111.4563421 , 2342.96532479, 1285.75108871,\n",
       "        868.16529627,  670.94509332, 1094.85599123, 1598.54271692,\n",
       "       1748.87545673,  499.71154314, 1643.63944923,  965.49136118,\n",
       "        544.42016762,  832.9651968 , 1923.52881152, 1699.0254505 ,\n",
       "       1529.86166979, 1716.93259401,  743.63235559, 2663.01561104,\n",
       "       1162.06623777,  859.40070905, 1673.0355648 ,  694.99856306,\n",
       "       1524.22359466,  688.49330745, 1294.88501312,  888.35473866,\n",
       "       1911.60773451, 1285.75108871, 1822.81289015,  705.78148046,\n",
       "       1560.3860087 ,  878.51010593,  815.65114181,  937.92071971,\n",
       "        458.19275937, 1223.67581812,  734.93375272,  920.315179  ,\n",
       "        965.49136118,  836.42767435,  781.18404898,  312.73313954,\n",
       "        581.45130349, 2306.80646179, 1180.61151041,  607.57399617,\n",
       "       1016.72419295, 1160.26007126, 2243.93586163,  287.79944787,\n",
       "        806.54387985,  971.21050553, 1325.5902698 ,  581.45130349,\n",
       "        328.03292029,  624.20173309, 1688.16372912,  658.5065788 ,\n",
       "        965.49136118,  494.02040075, 1407.60171333, 1372.83999136,\n",
       "        526.16732886, 5939.48765088, 1044.71980281,  979.33269772,\n",
       "       1163.32384516, 1927.89214298,  381.61462162,  958.34969819,\n",
       "       1229.57190889,  965.41435746,  661.95831656, 1380.32049821,\n",
       "        387.16384052,  806.97155086,  653.85587094,  346.01055814,\n",
       "       1455.51131241,  995.94138409, 1061.07413889,  371.97362379,\n",
       "       1094.85599123, 2291.24036761, 1547.34693923,  670.29457713,\n",
       "        620.70096316,  397.52238241, 2098.08786344,  337.32456215,\n",
       "       1524.18974125,  376.79791974, 1300.03433101,  865.40867376,\n",
       "        705.32728143, 1052.36725486,  578.05171622, 1496.87918278,\n",
       "       1081.12026312,  658.86027029,  700.97479031,  534.79268522,\n",
       "        396.83350535, 1294.88501312, 1155.55881123, 1332.43244628,\n",
       "        629.63792877,  917.09603327,  210.66428389, 1180.61151041,\n",
       "        788.44596414, 1943.12786929,  409.4534984 ,  355.28516577,\n",
       "        836.42767435, 1195.23730824,  340.14926639,  705.78148046,\n",
       "       2783.05000614,  959.75219757, 1219.81376841, 1102.32580572,\n",
       "       1813.57349198,  587.02227884, 1178.3830749 , 1204.29657117,\n",
       "        882.0908152 , 2209.67885973, 1064.05424591,  983.14941457,\n",
       "        965.41435746, 1943.12786929, 1407.90251594,  568.05811898,\n",
       "       1944.77752759,  972.57796892, 1944.77752759, 2657.82869289,\n",
       "        652.00803094,  334.69161612, 1450.74313826, 1174.21120724,\n",
       "        477.83336404,  494.15858991, 1218.5075868 ,  488.45072369,\n",
       "       2244.64677629, 2165.27368534, 1067.12513958,  369.43334772,\n",
       "       1528.77933487, 1560.6965284 ,  385.35569165,  628.98019261,\n",
       "        966.50472943, 1438.21975657, 1483.67374245,  944.06792049,\n",
       "        547.962357  ,  627.66951593, 1125.90390693,  595.22435036,\n",
       "        625.43311441, 1016.01938861, 1187.33544649,  578.66375406,\n",
       "        361.49082045, 1232.67626609,  967.32279697, 2310.94560542,\n",
       "       3110.29245694,  867.99334629, 1108.2275237 , 1260.98559508,\n",
       "       1518.60730059, 1033.24656046,  882.82312852, 1566.52299345,\n",
       "       1195.30526349, 1149.69146268, 3534.76979028,  996.92932919,\n",
       "       1610.17979537,  550.48195487,  369.17628321,  488.45072369,\n",
       "        692.81259353, 1973.1790093 , 1763.24298553,  875.29350925,\n",
       "       1744.35230157, 1676.40484883,  333.3516604 ,  748.37187959,\n",
       "        536.14106744,  461.86880507,  914.36575513,  783.93804265,\n",
       "       2417.23071373,  844.95416004, 1032.20333587,  786.48189264,\n",
       "       1597.72524701, 1552.8071304 , 1226.08412987, 1006.87424948,\n",
       "       1413.83655879, 1994.78279874, 2102.46943719,  485.95672535,\n",
       "        433.86804361, 2265.7498419 ,  340.14926639, 1074.7340214 ,\n",
       "       1995.24175776,  686.7693357 ,  224.91328814,  992.8739314 ,\n",
       "        519.17649029,  867.99334629, 1221.32780071, 1121.09586379,\n",
       "        480.17869679,  569.53268033, 1632.88221163, 1327.28058796,\n",
       "       1813.57349198,  856.3760005 ,  359.79856711, 1000.91634116,\n",
       "        786.48684069,  714.85506801, 1120.44624819,  769.39644959,\n",
       "        674.85131869,  568.51479195,  715.13231044,  195.86093178,\n",
       "       1758.16135393,  571.77918975, 1597.12057901, 1972.51944588,\n",
       "        517.39677318,  777.43601328,  781.15848143,  835.09321735,\n",
       "       1234.4460359 , 1868.72583075, 1805.67827614, 3910.23750529,\n",
       "        665.23781191, 1884.67567077, 1865.98628694, 1478.545401  ,\n",
       "        455.10088431, 1240.45161234,  951.06719031, 2040.76678993,\n",
       "        625.43311441, 1117.42478589,  366.48516317,  768.33559758,\n",
       "        339.81773318,  891.51867252, 1364.99683108,  337.32456215,\n",
       "       1769.91508993, 1008.73014769, 2028.15939965, 1090.39364206,\n",
       "       2107.68618597,  821.96010078, 1402.73685551])"
      ]
     },
     "execution_count": 126,
     "metadata": {},
     "output_type": "execute_result"
    }
   ],
   "source": [
    "predictions_submit = cat_grid.best_estimator_.predict(X_pred[feat_num])\n",
    "predictions_submit"
   ]
  },
  {
   "cell_type": "code",
   "execution_count": 127,
   "id": "0a674999",
   "metadata": {},
   "outputs": [],
   "source": [
    "submission = pd.DataFrame({'laptop_ID': X_pred.index, 'Price_in_euros': predictions_submit})"
   ]
  },
  {
   "cell_type": "code",
   "execution_count": 128,
   "id": "6d366963",
   "metadata": {},
   "outputs": [
    {
     "data": {
      "text/html": [
       "<div>\n",
       "<style scoped>\n",
       "    .dataframe tbody tr th:only-of-type {\n",
       "        vertical-align: middle;\n",
       "    }\n",
       "\n",
       "    .dataframe tbody tr th {\n",
       "        vertical-align: top;\n",
       "    }\n",
       "\n",
       "    .dataframe thead th {\n",
       "        text-align: right;\n",
       "    }\n",
       "</style>\n",
       "<table border=\"1\" class=\"dataframe\">\n",
       "  <thead>\n",
       "    <tr style=\"text-align: right;\">\n",
       "      <th></th>\n",
       "      <th>laptop_ID</th>\n",
       "      <th>Price_in_euros</th>\n",
       "    </tr>\n",
       "  </thead>\n",
       "  <tbody>\n",
       "    <tr>\n",
       "      <th>0</th>\n",
       "      <td>209</td>\n",
       "      <td>1376.664435</td>\n",
       "    </tr>\n",
       "    <tr>\n",
       "      <th>1</th>\n",
       "      <td>1281</td>\n",
       "      <td>301.186821</td>\n",
       "    </tr>\n",
       "    <tr>\n",
       "      <th>2</th>\n",
       "      <td>1168</td>\n",
       "      <td>346.757866</td>\n",
       "    </tr>\n",
       "    <tr>\n",
       "      <th>3</th>\n",
       "      <td>1231</td>\n",
       "      <td>888.464757</td>\n",
       "    </tr>\n",
       "    <tr>\n",
       "      <th>4</th>\n",
       "      <td>1020</td>\n",
       "      <td>986.420499</td>\n",
       "    </tr>\n",
       "  </tbody>\n",
       "</table>\n",
       "</div>"
      ],
      "text/plain": [
       "   laptop_ID  Price_in_euros\n",
       "0        209     1376.664435\n",
       "1       1281      301.186821\n",
       "2       1168      346.757866\n",
       "3       1231      888.464757\n",
       "4       1020      986.420499"
      ]
     },
     "execution_count": 128,
     "metadata": {},
     "output_type": "execute_result"
    }
   ],
   "source": [
    "submission.head()"
   ]
  },
  {
   "cell_type": "code",
   "execution_count": 129,
   "id": "592e91cb",
   "metadata": {},
   "outputs": [
    {
     "data": {
      "text/plain": [
       "(391, 2)"
      ]
     },
     "execution_count": 129,
     "metadata": {},
     "output_type": "execute_result"
    }
   ],
   "source": [
    "submission.shape"
   ]
  },
  {
   "cell_type": "code",
   "execution_count": 130,
   "id": "f90cd3c3",
   "metadata": {},
   "outputs": [],
   "source": [
    "sample = pd.read_csv(\"data/sample_submission.csv\")"
   ]
  },
  {
   "cell_type": "code",
   "execution_count": 131,
   "id": "99e2d652",
   "metadata": {},
   "outputs": [],
   "source": [
    "def chequeador(df_to_submit):\n",
    "    \"\"\"\n",
    "    Esta función se asegura de que tu submission tenga la forma requerida por Kaggle.\n",
    "    \n",
    "    Si es así, se guardará el dataframe en un `csv` y estará listo para subir a Kaggle.\n",
    "    \n",
    "    Si no, LEE EL MENSAJE Y HAZLE CASO.\n",
    "    \n",
    "    Si aún no:\n",
    "    - apaga tu ordenador, \n",
    "    - date una vuelta, \n",
    "    - enciendelo otra vez, \n",
    "    - abre este notebook y \n",
    "    - leelo todo de nuevo. \n",
    "    Todos nos merecemos una segunda oportunidad. También tú.\n",
    "    \"\"\"\n",
    "    if df_to_submit.shape == sample.shape:\n",
    "        if df_to_submit.columns.all() == sample.columns.all():\n",
    "            if df_to_submit.laptop_ID.all() == sample.laptop_ID.all():\n",
    "                print(\"You're ready to submit!\")\n",
    "                df_to_submit.to_csv(\"submission.csv\", index = False) #muy importante el index = False\n",
    "                urllib.request.urlretrieve(\"https://www.mihaileric.com/static/evaluation-meme-e0a350f278a36346e6d46b139b1d0da0-ed51e.jpg\", \"gfg.png\")     \n",
    "                img = Image.open(\"gfg.png\")\n",
    "                img.show()   \n",
    "            else:\n",
    "                print(\"Check the ids and try again\")\n",
    "        else:\n",
    "            print(\"Check the names of the columns and try again\")\n",
    "    else:\n",
    "        print(\"Check the number of rows and/or columns and try again\")\n",
    "        print(\"\\nMensaje secreto del TA: No me puedo creer que después de todo este notebook hayas hecho algún cambio en las filas de `test.csv`. Lloro.\")"
   ]
  },
  {
   "cell_type": "code",
   "execution_count": 132,
   "id": "2fe62259",
   "metadata": {},
   "outputs": [
    {
     "name": "stdout",
     "output_type": "stream",
     "text": [
      "You're ready to submit!\n"
     ]
    }
   ],
   "source": [
    "chequeador(submission)"
   ]
  }
 ],
 "metadata": {
  "kernelspec": {
   "display_name": "Python 3",
   "language": "python",
   "name": "python3"
  },
  "language_info": {
   "codemirror_mode": {
    "name": "ipython",
    "version": 3
   },
   "file_extension": ".py",
   "mimetype": "text/x-python",
   "name": "python",
   "nbconvert_exporter": "python",
   "pygments_lexer": "ipython3",
   "version": "3.12.10"
  }
 },
 "nbformat": 4,
 "nbformat_minor": 5
}
