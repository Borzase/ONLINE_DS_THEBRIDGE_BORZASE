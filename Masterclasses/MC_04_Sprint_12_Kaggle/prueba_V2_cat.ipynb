{
 "cells": [
  {
   "cell_type": "code",
   "execution_count": 1,
   "id": "501e3d16",
   "metadata": {},
   "outputs": [],
   "source": [
    "import numpy as np\n",
    "import pandas as pd\n",
    "from PIL import Image\n",
    "from sklearn.model_selection import train_test_split\n",
    "from sklearn.metrics import root_mean_squared_error\n",
    "from sklearn.ensemble import RandomForestRegressor, VotingRegressor\n",
    "from sklearn.svm import SVR\n",
    "import urllib.request\n",
    "import tool_box as tb"
   ]
  },
  {
   "cell_type": "code",
   "execution_count": 2,
   "id": "02e4c8e3",
   "metadata": {},
   "outputs": [],
   "source": [
    "df = pd.read_csv(\"./data/train.csv\", index_col = 'laptop_ID')"
   ]
  },
  {
   "cell_type": "code",
   "execution_count": 3,
   "id": "a48f11fe",
   "metadata": {},
   "outputs": [
    {
     "name": "stdout",
     "output_type": "stream",
     "text": [
      "<class 'pandas.core.frame.DataFrame'>\n",
      "Index: 912 entries, 755 to 229\n",
      "Data columns (total 12 columns):\n",
      " #   Column            Non-Null Count  Dtype  \n",
      "---  ------            --------------  -----  \n",
      " 0   Company           912 non-null    object \n",
      " 1   Product           912 non-null    object \n",
      " 2   TypeName          912 non-null    object \n",
      " 3   Inches            912 non-null    float64\n",
      " 4   ScreenResolution  912 non-null    object \n",
      " 5   Cpu               912 non-null    object \n",
      " 6   Ram               912 non-null    object \n",
      " 7   Memory            912 non-null    object \n",
      " 8   Gpu               912 non-null    object \n",
      " 9   OpSys             912 non-null    object \n",
      " 10  Weight            912 non-null    object \n",
      " 11  Price_in_euros    912 non-null    float64\n",
      "dtypes: float64(2), object(10)\n",
      "memory usage: 92.6+ KB\n"
     ]
    }
   ],
   "source": [
    "df.info()"
   ]
  },
  {
   "cell_type": "code",
   "execution_count": 4,
   "id": "5338aa96",
   "metadata": {},
   "outputs": [
    {
     "data": {
      "text/plain": [
       "OpSys\n",
       "Windows 10      741\n",
       "Linux            48\n",
       "No OS            44\n",
       "Windows 7        29\n",
       "Chrome OS        24\n",
       "macOS            11\n",
       "Windows 10 S      7\n",
       "Mac OS X          6\n",
       "Android           2\n",
       "Name: count, dtype: int64"
      ]
     },
     "execution_count": 4,
     "metadata": {},
     "output_type": "execute_result"
    }
   ],
   "source": [
    "df.OpSys.value_counts()"
   ]
  },
  {
   "cell_type": "code",
   "execution_count": 5,
   "id": "7be8c1fb",
   "metadata": {},
   "outputs": [
    {
     "data": {
      "text/plain": [
       "Company\n",
       "Lenovo       202\n",
       "Dell         197\n",
       "HP           194\n",
       "Asus         121\n",
       "Acer          74\n",
       "MSI           37\n",
       "Toshiba       34\n",
       "Apple         17\n",
       "Razer          6\n",
       "Mediacom       6\n",
       "Samsung        5\n",
       "Microsoft      5\n",
       "Xiaomi         3\n",
       "Huawei         2\n",
       "Chuwi          2\n",
       "Google         2\n",
       "Vero           2\n",
       "Fujitsu        2\n",
       "LG             1\n",
       "Name: count, dtype: int64"
      ]
     },
     "execution_count": 5,
     "metadata": {},
     "output_type": "execute_result"
    }
   ],
   "source": [
    "df.Company.value_counts()"
   ]
  },
  {
   "cell_type": "code",
   "execution_count": 6,
   "id": "c6a4853b",
   "metadata": {},
   "outputs": [
    {
     "data": {
      "text/html": [
       "<div>\n",
       "<style scoped>\n",
       "    .dataframe tbody tr th:only-of-type {\n",
       "        vertical-align: middle;\n",
       "    }\n",
       "\n",
       "    .dataframe tbody tr th {\n",
       "        vertical-align: top;\n",
       "    }\n",
       "\n",
       "    .dataframe thead th {\n",
       "        text-align: right;\n",
       "    }\n",
       "</style>\n",
       "<table border=\"1\" class=\"dataframe\">\n",
       "  <thead>\n",
       "    <tr style=\"text-align: right;\">\n",
       "      <th></th>\n",
       "      <th>Company</th>\n",
       "      <th>Product</th>\n",
       "      <th>TypeName</th>\n",
       "      <th>Inches</th>\n",
       "      <th>ScreenResolution</th>\n",
       "      <th>Cpu</th>\n",
       "      <th>Ram</th>\n",
       "      <th>Memory</th>\n",
       "      <th>Gpu</th>\n",
       "      <th>OpSys</th>\n",
       "      <th>Weight</th>\n",
       "      <th>Price_in_euros</th>\n",
       "    </tr>\n",
       "    <tr>\n",
       "      <th>laptop_ID</th>\n",
       "      <th></th>\n",
       "      <th></th>\n",
       "      <th></th>\n",
       "      <th></th>\n",
       "      <th></th>\n",
       "      <th></th>\n",
       "      <th></th>\n",
       "      <th></th>\n",
       "      <th></th>\n",
       "      <th></th>\n",
       "      <th></th>\n",
       "      <th></th>\n",
       "    </tr>\n",
       "  </thead>\n",
       "  <tbody>\n",
       "    <tr>\n",
       "      <th>401</th>\n",
       "      <td>Dell</td>\n",
       "      <td>Inspiron 5567</td>\n",
       "      <td>Notebook</td>\n",
       "      <td>15.6</td>\n",
       "      <td>Full HD 1920x1080</td>\n",
       "      <td>Intel Core i7 7500U 2.7GHz</td>\n",
       "      <td>8GB</td>\n",
       "      <td>256GB SSD</td>\n",
       "      <td>AMD Radeon R7 M445</td>\n",
       "      <td>Linux</td>\n",
       "      <td>2.33kg</td>\n",
       "      <td>778.87</td>\n",
       "    </tr>\n",
       "    <tr>\n",
       "      <th>119</th>\n",
       "      <td>HP</td>\n",
       "      <td>Probook 440</td>\n",
       "      <td>Notebook</td>\n",
       "      <td>14.0</td>\n",
       "      <td>Full HD 1920x1080</td>\n",
       "      <td>Intel Core i7 8550U 1.8GHz</td>\n",
       "      <td>8GB</td>\n",
       "      <td>512GB SSD</td>\n",
       "      <td>Intel UHD Graphics 620</td>\n",
       "      <td>Windows 10</td>\n",
       "      <td>1.63kg</td>\n",
       "      <td>1084.00</td>\n",
       "    </tr>\n",
       "    <tr>\n",
       "      <th>1283</th>\n",
       "      <td>Lenovo</td>\n",
       "      <td>IdeaPad Y700-15ISK</td>\n",
       "      <td>Notebook</td>\n",
       "      <td>15.6</td>\n",
       "      <td>IPS Panel Full HD 1920x1080</td>\n",
       "      <td>Intel Core i7 6700HQ 2.6GHz</td>\n",
       "      <td>8GB</td>\n",
       "      <td>1TB HDD</td>\n",
       "      <td>Nvidia GeForce GTX 960M</td>\n",
       "      <td>Windows 10</td>\n",
       "      <td>2.6kg</td>\n",
       "      <td>899.00</td>\n",
       "    </tr>\n",
       "    <tr>\n",
       "      <th>63</th>\n",
       "      <td>Lenovo</td>\n",
       "      <td>IdeaPad 520S-14IKB</td>\n",
       "      <td>Notebook</td>\n",
       "      <td>14.0</td>\n",
       "      <td>IPS Panel Full HD 1920x1080</td>\n",
       "      <td>Intel Core i3 7130U 2.7GHz</td>\n",
       "      <td>8GB</td>\n",
       "      <td>256GB SSD</td>\n",
       "      <td>Intel HD Graphics 620</td>\n",
       "      <td>No OS</td>\n",
       "      <td>1.7kg</td>\n",
       "      <td>599.00</td>\n",
       "    </tr>\n",
       "    <tr>\n",
       "      <th>709</th>\n",
       "      <td>Lenovo</td>\n",
       "      <td>IdeaPad 320-15AST</td>\n",
       "      <td>Notebook</td>\n",
       "      <td>15.6</td>\n",
       "      <td>Full HD 1920x1080</td>\n",
       "      <td>AMD A9-Series 9420 2.9GHz</td>\n",
       "      <td>4GB</td>\n",
       "      <td>256GB SSD</td>\n",
       "      <td>AMD Radeon 530</td>\n",
       "      <td>Windows 10</td>\n",
       "      <td>2.2kg</td>\n",
       "      <td>399.00</td>\n",
       "    </tr>\n",
       "    <tr>\n",
       "      <th>114</th>\n",
       "      <td>Dell</td>\n",
       "      <td>XPS 13</td>\n",
       "      <td>Ultrabook</td>\n",
       "      <td>13.3</td>\n",
       "      <td>Quad HD+ / Touchscreen 3200x1800</td>\n",
       "      <td>Intel Core i7 7560U 2.4GHz</td>\n",
       "      <td>8GB</td>\n",
       "      <td>256GB SSD</td>\n",
       "      <td>Intel Iris Plus Graphics 640</td>\n",
       "      <td>Windows 10</td>\n",
       "      <td>1.23kg</td>\n",
       "      <td>1379.00</td>\n",
       "    </tr>\n",
       "    <tr>\n",
       "      <th>1177</th>\n",
       "      <td>HP</td>\n",
       "      <td>Spectre Pro</td>\n",
       "      <td>2 in 1 Convertible</td>\n",
       "      <td>13.3</td>\n",
       "      <td>Touchscreen 2560x1440</td>\n",
       "      <td>Intel Core i7 6600U 2.6GHz</td>\n",
       "      <td>8GB</td>\n",
       "      <td>512GB SSD</td>\n",
       "      <td>Intel HD Graphics 520</td>\n",
       "      <td>Windows 10</td>\n",
       "      <td>1.48kg</td>\n",
       "      <td>2041.00</td>\n",
       "    </tr>\n",
       "    <tr>\n",
       "      <th>1108</th>\n",
       "      <td>Dell</td>\n",
       "      <td>Inspiron 5370</td>\n",
       "      <td>Ultrabook</td>\n",
       "      <td>13.3</td>\n",
       "      <td>IPS Panel Full HD 1920x1080</td>\n",
       "      <td>Intel Core i5 8250U 1.6GHz</td>\n",
       "      <td>4GB</td>\n",
       "      <td>256GB SSD</td>\n",
       "      <td>AMD Radeon 530</td>\n",
       "      <td>Windows 10</td>\n",
       "      <td>1.4kg</td>\n",
       "      <td>818.35</td>\n",
       "    </tr>\n",
       "    <tr>\n",
       "      <th>1268</th>\n",
       "      <td>Dell</td>\n",
       "      <td>Inspiron 3552</td>\n",
       "      <td>Notebook</td>\n",
       "      <td>15.6</td>\n",
       "      <td>1366x768</td>\n",
       "      <td>Intel Pentium Quad Core N3710 1.6GHz</td>\n",
       "      <td>4GB</td>\n",
       "      <td>500GB HDD</td>\n",
       "      <td>Intel HD Graphics</td>\n",
       "      <td>Linux</td>\n",
       "      <td>2.2kg</td>\n",
       "      <td>324.00</td>\n",
       "    </tr>\n",
       "    <tr>\n",
       "      <th>796</th>\n",
       "      <td>Lenovo</td>\n",
       "      <td>Legion Y520-15IKBN</td>\n",
       "      <td>Gaming</td>\n",
       "      <td>15.6</td>\n",
       "      <td>IPS Panel Full HD 1920x1080</td>\n",
       "      <td>Intel Core i7 7700HQ 2.8GHz</td>\n",
       "      <td>4GB</td>\n",
       "      <td>1TB HDD</td>\n",
       "      <td>Nvidia GeForce GTX 1050</td>\n",
       "      <td>Windows 10</td>\n",
       "      <td>2.4kg</td>\n",
       "      <td>999.00</td>\n",
       "    </tr>\n",
       "    <tr>\n",
       "      <th>836</th>\n",
       "      <td>Dell</td>\n",
       "      <td>Latitude 3480</td>\n",
       "      <td>Notebook</td>\n",
       "      <td>14.0</td>\n",
       "      <td>1366x768</td>\n",
       "      <td>Intel Core i3 6006U 2GHz</td>\n",
       "      <td>4GB</td>\n",
       "      <td>500GB HDD</td>\n",
       "      <td>Intel HD Graphics 520</td>\n",
       "      <td>Windows 10</td>\n",
       "      <td>1.76kg</td>\n",
       "      <td>585.00</td>\n",
       "    </tr>\n",
       "    <tr>\n",
       "      <th>805</th>\n",
       "      <td>Asus</td>\n",
       "      <td>R417NA-RS01 (N3350/4GB/32GB/W10)</td>\n",
       "      <td>Notebook</td>\n",
       "      <td>14.0</td>\n",
       "      <td>1366x768</td>\n",
       "      <td>Intel Celeron Dual Core N3350 1.1GHz</td>\n",
       "      <td>4GB</td>\n",
       "      <td>32GB Flash Storage</td>\n",
       "      <td>Intel HD Graphics 500</td>\n",
       "      <td>Windows 10</td>\n",
       "      <td>1.63kg</td>\n",
       "      <td>299.00</td>\n",
       "    </tr>\n",
       "    <tr>\n",
       "      <th>1243</th>\n",
       "      <td>Asus</td>\n",
       "      <td>X540SA-RBPDN09 (N3710/4GB/1TB/W10)</td>\n",
       "      <td>Notebook</td>\n",
       "      <td>15.6</td>\n",
       "      <td>1366x768</td>\n",
       "      <td>Intel Pentium Quad Core N3710 1.6GHz</td>\n",
       "      <td>4GB</td>\n",
       "      <td>1TB HDD</td>\n",
       "      <td>Intel HD Graphics 405</td>\n",
       "      <td>Windows 10</td>\n",
       "      <td>2.65kg</td>\n",
       "      <td>309.00</td>\n",
       "    </tr>\n",
       "    <tr>\n",
       "      <th>845</th>\n",
       "      <td>Asus</td>\n",
       "      <td>Rog GL702VS-BA023T</td>\n",
       "      <td>Gaming</td>\n",
       "      <td>17.3</td>\n",
       "      <td>Full HD 1920x1080</td>\n",
       "      <td>Intel Core i7 7700HQ 2.8GHz</td>\n",
       "      <td>16GB</td>\n",
       "      <td>256GB SSD +  1TB HDD</td>\n",
       "      <td>Nvidia GeForce GTX 1070</td>\n",
       "      <td>Windows 10</td>\n",
       "      <td>2.9kg</td>\n",
       "      <td>2419.00</td>\n",
       "    </tr>\n",
       "    <tr>\n",
       "      <th>66</th>\n",
       "      <td>HP</td>\n",
       "      <td>250 G6</td>\n",
       "      <td>Notebook</td>\n",
       "      <td>15.6</td>\n",
       "      <td>Full HD 1920x1080</td>\n",
       "      <td>Intel Core i5 7200U 2.5GHz</td>\n",
       "      <td>8GB</td>\n",
       "      <td>256GB SSD</td>\n",
       "      <td>Intel HD Graphics 620</td>\n",
       "      <td>Windows 10</td>\n",
       "      <td>1.86kg</td>\n",
       "      <td>690.00</td>\n",
       "    </tr>\n",
       "    <tr>\n",
       "      <th>346</th>\n",
       "      <td>Dell</td>\n",
       "      <td>Inspiron 3552</td>\n",
       "      <td>Notebook</td>\n",
       "      <td>15.6</td>\n",
       "      <td>1366x768</td>\n",
       "      <td>Intel Celeron Dual Core N3060 1.6GHz</td>\n",
       "      <td>4GB</td>\n",
       "      <td>500GB HDD</td>\n",
       "      <td>Intel HD Graphics</td>\n",
       "      <td>Linux</td>\n",
       "      <td>2.2kg</td>\n",
       "      <td>274.90</td>\n",
       "    </tr>\n",
       "    <tr>\n",
       "      <th>1165</th>\n",
       "      <td>Dell</td>\n",
       "      <td>Vostro 5568</td>\n",
       "      <td>Notebook</td>\n",
       "      <td>15.6</td>\n",
       "      <td>Full HD 1920x1080</td>\n",
       "      <td>Intel Core i7 7500U 2.7GHz</td>\n",
       "      <td>8GB</td>\n",
       "      <td>256GB SSD</td>\n",
       "      <td>Nvidia GeForce 940MX</td>\n",
       "      <td>Windows 10</td>\n",
       "      <td>2.18kg</td>\n",
       "      <td>1009.90</td>\n",
       "    </tr>\n",
       "    <tr>\n",
       "      <th>828</th>\n",
       "      <td>Dell</td>\n",
       "      <td>Latitude 3480</td>\n",
       "      <td>Notebook</td>\n",
       "      <td>14.0</td>\n",
       "      <td>1366x768</td>\n",
       "      <td>Intel Core i5 6200U 2.3GHz</td>\n",
       "      <td>4GB</td>\n",
       "      <td>500GB HDD</td>\n",
       "      <td>Intel HD Graphics 520</td>\n",
       "      <td>Windows 10</td>\n",
       "      <td>1.76kg</td>\n",
       "      <td>755.00</td>\n",
       "    </tr>\n",
       "    <tr>\n",
       "      <th>281</th>\n",
       "      <td>Dell</td>\n",
       "      <td>Inspiron 5770</td>\n",
       "      <td>Notebook</td>\n",
       "      <td>17.3</td>\n",
       "      <td>Full HD 1920x1080</td>\n",
       "      <td>Intel Core i7 8550U 1.8GHz</td>\n",
       "      <td>8GB</td>\n",
       "      <td>128GB SSD +  1TB HDD</td>\n",
       "      <td>AMD Radeon 530</td>\n",
       "      <td>Linux</td>\n",
       "      <td>2.8kg</td>\n",
       "      <td>1099.00</td>\n",
       "    </tr>\n",
       "    <tr>\n",
       "      <th>81</th>\n",
       "      <td>HP</td>\n",
       "      <td>ProBook 470</td>\n",
       "      <td>Notebook</td>\n",
       "      <td>17.3</td>\n",
       "      <td>Full HD 1920x1080</td>\n",
       "      <td>Intel Core i5 8250U 1.6GHz</td>\n",
       "      <td>8GB</td>\n",
       "      <td>128GB SSD +  1TB HDD</td>\n",
       "      <td>Nvidia GeForce 930MX</td>\n",
       "      <td>Windows 10</td>\n",
       "      <td>2.5kg</td>\n",
       "      <td>977.00</td>\n",
       "    </tr>\n",
       "  </tbody>\n",
       "</table>\n",
       "</div>"
      ],
      "text/plain": [
       "          Company                             Product            TypeName  \\\n",
       "laptop_ID                                                                   \n",
       "401          Dell                       Inspiron 5567            Notebook   \n",
       "119            HP                         Probook 440            Notebook   \n",
       "1283       Lenovo                  IdeaPad Y700-15ISK            Notebook   \n",
       "63         Lenovo                  IdeaPad 520S-14IKB            Notebook   \n",
       "709        Lenovo                   IdeaPad 320-15AST            Notebook   \n",
       "114          Dell                              XPS 13           Ultrabook   \n",
       "1177           HP                         Spectre Pro  2 in 1 Convertible   \n",
       "1108         Dell                       Inspiron 5370           Ultrabook   \n",
       "1268         Dell                       Inspiron 3552            Notebook   \n",
       "796        Lenovo                  Legion Y520-15IKBN              Gaming   \n",
       "836          Dell                       Latitude 3480            Notebook   \n",
       "805          Asus    R417NA-RS01 (N3350/4GB/32GB/W10)            Notebook   \n",
       "1243         Asus  X540SA-RBPDN09 (N3710/4GB/1TB/W10)            Notebook   \n",
       "845          Asus                  Rog GL702VS-BA023T              Gaming   \n",
       "66             HP                              250 G6            Notebook   \n",
       "346          Dell                       Inspiron 3552            Notebook   \n",
       "1165         Dell                         Vostro 5568            Notebook   \n",
       "828          Dell                       Latitude 3480            Notebook   \n",
       "281          Dell                       Inspiron 5770            Notebook   \n",
       "81             HP                         ProBook 470            Notebook   \n",
       "\n",
       "           Inches                  ScreenResolution  \\\n",
       "laptop_ID                                             \n",
       "401          15.6                 Full HD 1920x1080   \n",
       "119          14.0                 Full HD 1920x1080   \n",
       "1283         15.6       IPS Panel Full HD 1920x1080   \n",
       "63           14.0       IPS Panel Full HD 1920x1080   \n",
       "709          15.6                 Full HD 1920x1080   \n",
       "114          13.3  Quad HD+ / Touchscreen 3200x1800   \n",
       "1177         13.3             Touchscreen 2560x1440   \n",
       "1108         13.3       IPS Panel Full HD 1920x1080   \n",
       "1268         15.6                          1366x768   \n",
       "796          15.6       IPS Panel Full HD 1920x1080   \n",
       "836          14.0                          1366x768   \n",
       "805          14.0                          1366x768   \n",
       "1243         15.6                          1366x768   \n",
       "845          17.3                 Full HD 1920x1080   \n",
       "66           15.6                 Full HD 1920x1080   \n",
       "346          15.6                          1366x768   \n",
       "1165         15.6                 Full HD 1920x1080   \n",
       "828          14.0                          1366x768   \n",
       "281          17.3                 Full HD 1920x1080   \n",
       "81           17.3                 Full HD 1920x1080   \n",
       "\n",
       "                                            Cpu   Ram                Memory  \\\n",
       "laptop_ID                                                                     \n",
       "401                  Intel Core i7 7500U 2.7GHz   8GB             256GB SSD   \n",
       "119                  Intel Core i7 8550U 1.8GHz   8GB             512GB SSD   \n",
       "1283                Intel Core i7 6700HQ 2.6GHz   8GB               1TB HDD   \n",
       "63                   Intel Core i3 7130U 2.7GHz   8GB             256GB SSD   \n",
       "709                   AMD A9-Series 9420 2.9GHz   4GB             256GB SSD   \n",
       "114                  Intel Core i7 7560U 2.4GHz   8GB             256GB SSD   \n",
       "1177                 Intel Core i7 6600U 2.6GHz   8GB             512GB SSD   \n",
       "1108                 Intel Core i5 8250U 1.6GHz   4GB             256GB SSD   \n",
       "1268       Intel Pentium Quad Core N3710 1.6GHz   4GB             500GB HDD   \n",
       "796                 Intel Core i7 7700HQ 2.8GHz   4GB               1TB HDD   \n",
       "836                    Intel Core i3 6006U 2GHz   4GB             500GB HDD   \n",
       "805        Intel Celeron Dual Core N3350 1.1GHz   4GB    32GB Flash Storage   \n",
       "1243       Intel Pentium Quad Core N3710 1.6GHz   4GB               1TB HDD   \n",
       "845                 Intel Core i7 7700HQ 2.8GHz  16GB  256GB SSD +  1TB HDD   \n",
       "66                   Intel Core i5 7200U 2.5GHz   8GB             256GB SSD   \n",
       "346        Intel Celeron Dual Core N3060 1.6GHz   4GB             500GB HDD   \n",
       "1165                 Intel Core i7 7500U 2.7GHz   8GB             256GB SSD   \n",
       "828                  Intel Core i5 6200U 2.3GHz   4GB             500GB HDD   \n",
       "281                  Intel Core i7 8550U 1.8GHz   8GB  128GB SSD +  1TB HDD   \n",
       "81                   Intel Core i5 8250U 1.6GHz   8GB  128GB SSD +  1TB HDD   \n",
       "\n",
       "                                    Gpu       OpSys  Weight  Price_in_euros  \n",
       "laptop_ID                                                                    \n",
       "401                  AMD Radeon R7 M445       Linux  2.33kg          778.87  \n",
       "119              Intel UHD Graphics 620  Windows 10  1.63kg         1084.00  \n",
       "1283            Nvidia GeForce GTX 960M  Windows 10   2.6kg          899.00  \n",
       "63                Intel HD Graphics 620       No OS   1.7kg          599.00  \n",
       "709                      AMD Radeon 530  Windows 10   2.2kg          399.00  \n",
       "114        Intel Iris Plus Graphics 640  Windows 10  1.23kg         1379.00  \n",
       "1177              Intel HD Graphics 520  Windows 10  1.48kg         2041.00  \n",
       "1108                     AMD Radeon 530  Windows 10   1.4kg          818.35  \n",
       "1268                  Intel HD Graphics       Linux   2.2kg          324.00  \n",
       "796             Nvidia GeForce GTX 1050  Windows 10   2.4kg          999.00  \n",
       "836               Intel HD Graphics 520  Windows 10  1.76kg          585.00  \n",
       "805               Intel HD Graphics 500  Windows 10  1.63kg          299.00  \n",
       "1243              Intel HD Graphics 405  Windows 10  2.65kg          309.00  \n",
       "845             Nvidia GeForce GTX 1070  Windows 10   2.9kg         2419.00  \n",
       "66                Intel HD Graphics 620  Windows 10  1.86kg          690.00  \n",
       "346                   Intel HD Graphics       Linux   2.2kg          274.90  \n",
       "1165               Nvidia GeForce 940MX  Windows 10  2.18kg         1009.90  \n",
       "828               Intel HD Graphics 520  Windows 10  1.76kg          755.00  \n",
       "281                      AMD Radeon 530       Linux   2.8kg         1099.00  \n",
       "81                 Nvidia GeForce 930MX  Windows 10   2.5kg          977.00  "
      ]
     },
     "execution_count": 6,
     "metadata": {},
     "output_type": "execute_result"
    }
   ],
   "source": [
    "df.sample(20)"
   ]
  },
  {
   "cell_type": "code",
   "execution_count": 78,
   "id": "1e820831",
   "metadata": {},
   "outputs": [
    {
     "data": {
      "text/plain": [
       "Gpu\n",
       "Intel HD Graphics 620       185\n",
       "Intel HD Graphics 520       125\n",
       "Intel UHD Graphics 620       52\n",
       "Nvidia GeForce GTX 1050      48\n",
       "Nvidia GeForce 940MX         31\n",
       "                           ... \n",
       "AMD Radeon RX 540             1\n",
       "Nvidia Quadro M2000M          1\n",
       "Nvidia GeForce GTX 940M       1\n",
       "AMD Radeon R5 520             1\n",
       "Nvidia GeForce GTX 1070M      1\n",
       "Name: count, Length: 93, dtype: int64"
      ]
     },
     "execution_count": 78,
     "metadata": {},
     "output_type": "execute_result"
    }
   ],
   "source": [
    "df.Gpu.value_counts()"
   ]
  },
  {
   "cell_type": "code",
   "execution_count": null,
   "id": "6bcc0cad",
   "metadata": {},
   "outputs": [],
   "source": []
  },
  {
   "cell_type": "code",
   "execution_count": 7,
   "id": "1027d40f",
   "metadata": {},
   "outputs": [],
   "source": [
    "import tool_box as tb"
   ]
  },
  {
   "cell_type": "code",
   "execution_count": 8,
   "id": "678cfec1",
   "metadata": {},
   "outputs": [
    {
     "data": {
      "text/html": [
       "<div>\n",
       "<style scoped>\n",
       "    .dataframe tbody tr th:only-of-type {\n",
       "        vertical-align: middle;\n",
       "    }\n",
       "\n",
       "    .dataframe tbody tr th {\n",
       "        vertical-align: top;\n",
       "    }\n",
       "\n",
       "    .dataframe thead th {\n",
       "        text-align: right;\n",
       "    }\n",
       "</style>\n",
       "<table border=\"1\" class=\"dataframe\">\n",
       "  <thead>\n",
       "    <tr style=\"text-align: right;\">\n",
       "      <th></th>\n",
       "      <th>Company</th>\n",
       "      <th>Product</th>\n",
       "      <th>TypeName</th>\n",
       "      <th>Inches</th>\n",
       "      <th>ScreenResolution</th>\n",
       "      <th>Cpu</th>\n",
       "      <th>Ram</th>\n",
       "      <th>Memory</th>\n",
       "      <th>Gpu</th>\n",
       "      <th>OpSys</th>\n",
       "      <th>Weight</th>\n",
       "      <th>Price_in_euros</th>\n",
       "    </tr>\n",
       "  </thead>\n",
       "  <tbody>\n",
       "    <tr>\n",
       "      <th>DATA_TYPE</th>\n",
       "      <td>object</td>\n",
       "      <td>object</td>\n",
       "      <td>object</td>\n",
       "      <td>float64</td>\n",
       "      <td>object</td>\n",
       "      <td>object</td>\n",
       "      <td>object</td>\n",
       "      <td>object</td>\n",
       "      <td>object</td>\n",
       "      <td>object</td>\n",
       "      <td>object</td>\n",
       "      <td>float64</td>\n",
       "    </tr>\n",
       "    <tr>\n",
       "      <th>MISSINGS (%)</th>\n",
       "      <td>0.0</td>\n",
       "      <td>0.0</td>\n",
       "      <td>0.0</td>\n",
       "      <td>0.0</td>\n",
       "      <td>0.0</td>\n",
       "      <td>0.0</td>\n",
       "      <td>0.0</td>\n",
       "      <td>0.0</td>\n",
       "      <td>0.0</td>\n",
       "      <td>0.0</td>\n",
       "      <td>0.0</td>\n",
       "      <td>0.0</td>\n",
       "    </tr>\n",
       "    <tr>\n",
       "      <th>UNIQUE_VALUES</th>\n",
       "      <td>19</td>\n",
       "      <td>480</td>\n",
       "      <td>6</td>\n",
       "      <td>17</td>\n",
       "      <td>36</td>\n",
       "      <td>107</td>\n",
       "      <td>9</td>\n",
       "      <td>37</td>\n",
       "      <td>93</td>\n",
       "      <td>9</td>\n",
       "      <td>165</td>\n",
       "      <td>603</td>\n",
       "    </tr>\n",
       "    <tr>\n",
       "      <th>CARDIN (%)</th>\n",
       "      <td>2.08</td>\n",
       "      <td>52.63</td>\n",
       "      <td>0.66</td>\n",
       "      <td>1.86</td>\n",
       "      <td>3.95</td>\n",
       "      <td>11.73</td>\n",
       "      <td>0.99</td>\n",
       "      <td>4.06</td>\n",
       "      <td>10.2</td>\n",
       "      <td>0.99</td>\n",
       "      <td>18.09</td>\n",
       "      <td>66.12</td>\n",
       "    </tr>\n",
       "  </tbody>\n",
       "</table>\n",
       "</div>"
      ],
      "text/plain": [
       "              Company Product TypeName   Inches ScreenResolution     Cpu  \\\n",
       "DATA_TYPE      object  object   object  float64           object  object   \n",
       "MISSINGS (%)      0.0     0.0      0.0      0.0              0.0     0.0   \n",
       "UNIQUE_VALUES      19     480        6       17               36     107   \n",
       "CARDIN (%)       2.08   52.63     0.66     1.86             3.95   11.73   \n",
       "\n",
       "                  Ram  Memory     Gpu   OpSys  Weight Price_in_euros  \n",
       "DATA_TYPE      object  object  object  object  object        float64  \n",
       "MISSINGS (%)      0.0     0.0     0.0     0.0     0.0            0.0  \n",
       "UNIQUE_VALUES       9      37      93       9     165            603  \n",
       "CARDIN (%)       0.99    4.06    10.2    0.99   18.09          66.12  "
      ]
     },
     "execution_count": 8,
     "metadata": {},
     "output_type": "execute_result"
    }
   ],
   "source": [
    "tb.describe_df(df)"
   ]
  },
  {
   "cell_type": "code",
   "execution_count": 3,
   "id": "8d306fd5",
   "metadata": {},
   "outputs": [],
   "source": [
    "train_set, test_set = train_test_split(df, test_size = 0.20, random_state = 42)"
   ]
  },
  {
   "cell_type": "markdown",
   "id": "7277e126",
   "metadata": {},
   "source": [
    "- Elimino las filas que cointienen en la columna OpSys el nombre Mac Os X, porque al hacer el split no se encuentra en ambos sets. Se ha intentado hacer varios splits estratificados pero me entorpece en otras columnas asique elimino 6 instancias del dataset con la variable Mac Os X"
   ]
  },
  {
   "cell_type": "code",
   "execution_count": 4,
   "id": "f7e6849c",
   "metadata": {},
   "outputs": [],
   "source": [
    "train_set = train_set[train_set.Company != 'Huawey']"
   ]
  },
  {
   "cell_type": "code",
   "execution_count": 5,
   "id": "4c139e4a",
   "metadata": {},
   "outputs": [],
   "source": [
    "test_set = test_set[test_set.Company != 'Huawey']"
   ]
  },
  {
   "cell_type": "code",
   "execution_count": null,
   "id": "9ebc3503",
   "metadata": {},
   "outputs": [],
   "source": [
    "#onehot_company = train_set.Company.value_counts().index.to_list()"
   ]
  },
  {
   "cell_type": "code",
   "execution_count": null,
   "id": "85a6aab0",
   "metadata": {},
   "outputs": [],
   "source": [
    "#onehot_company_test = test_set.Company.value_counts().index.to_list()"
   ]
  },
  {
   "cell_type": "code",
   "execution_count": 6,
   "id": "f31a1cb0",
   "metadata": {},
   "outputs": [],
   "source": [
    "train_set = train_set[train_set.OpSys != 'Android']"
   ]
  },
  {
   "cell_type": "code",
   "execution_count": 7,
   "id": "d270ca9f",
   "metadata": {},
   "outputs": [],
   "source": [
    "test_set = test_set[test_set.OpSys != 'Android']"
   ]
  },
  {
   "cell_type": "code",
   "execution_count": null,
   "id": "648567d8",
   "metadata": {},
   "outputs": [],
   "source": [
    "#onehot_Opsys = train_set.OpSys.value_counts().index.to_list()"
   ]
  },
  {
   "cell_type": "code",
   "execution_count": null,
   "id": "1a214fe2",
   "metadata": {},
   "outputs": [],
   "source": [
    "#onehot_Opsys_test = test_set.OpSys.value_counts().index.to_list()"
   ]
  },
  {
   "cell_type": "code",
   "execution_count": 8,
   "id": "f973b771",
   "metadata": {},
   "outputs": [],
   "source": [
    "target = 'Price_in_euros'"
   ]
  },
  {
   "cell_type": "code",
   "execution_count": 9,
   "id": "f7f42143",
   "metadata": {},
   "outputs": [],
   "source": [
    "train_set['ram_GB']=train_set.Ram.str.replace(\"GB\", \"\").astype(int)\n",
    "train_set['weight_kg']=train_set.Weight.str.replace(\"kg\", \"\").astype(float)\n",
    "test_set['ram_GB']=test_set.Ram.str.replace(\"GB\", \"\").astype(int)\n",
    "test_set['weight_kg']=test_set.Weight.str.replace(\"kg\", \"\").astype(float)"
   ]
  },
  {
   "cell_type": "code",
   "execution_count": 16,
   "id": "e6e0cd88",
   "metadata": {},
   "outputs": [
    {
     "data": {
      "text/html": [
       "<div>\n",
       "<style scoped>\n",
       "    .dataframe tbody tr th:only-of-type {\n",
       "        vertical-align: middle;\n",
       "    }\n",
       "\n",
       "    .dataframe tbody tr th {\n",
       "        vertical-align: top;\n",
       "    }\n",
       "\n",
       "    .dataframe thead th {\n",
       "        text-align: right;\n",
       "    }\n",
       "</style>\n",
       "<table border=\"1\" class=\"dataframe\">\n",
       "  <thead>\n",
       "    <tr style=\"text-align: right;\">\n",
       "      <th></th>\n",
       "      <th>Company</th>\n",
       "      <th>Product</th>\n",
       "      <th>TypeName</th>\n",
       "      <th>Inches</th>\n",
       "      <th>ScreenResolution</th>\n",
       "      <th>Cpu</th>\n",
       "      <th>Ram</th>\n",
       "      <th>Memory</th>\n",
       "      <th>Gpu</th>\n",
       "      <th>OpSys</th>\n",
       "      <th>Weight</th>\n",
       "      <th>Price_in_euros</th>\n",
       "      <th>ram_GB</th>\n",
       "      <th>weight_kg</th>\n",
       "    </tr>\n",
       "  </thead>\n",
       "  <tbody>\n",
       "    <tr>\n",
       "      <th>DATA_TYPE</th>\n",
       "      <td>object</td>\n",
       "      <td>object</td>\n",
       "      <td>object</td>\n",
       "      <td>float64</td>\n",
       "      <td>object</td>\n",
       "      <td>object</td>\n",
       "      <td>object</td>\n",
       "      <td>object</td>\n",
       "      <td>object</td>\n",
       "      <td>object</td>\n",
       "      <td>object</td>\n",
       "      <td>float64</td>\n",
       "      <td>int64</td>\n",
       "      <td>float64</td>\n",
       "    </tr>\n",
       "    <tr>\n",
       "      <th>MISSINGS (%)</th>\n",
       "      <td>0.0</td>\n",
       "      <td>0.0</td>\n",
       "      <td>0.0</td>\n",
       "      <td>0.0</td>\n",
       "      <td>0.0</td>\n",
       "      <td>0.0</td>\n",
       "      <td>0.0</td>\n",
       "      <td>0.0</td>\n",
       "      <td>0.0</td>\n",
       "      <td>0.0</td>\n",
       "      <td>0.0</td>\n",
       "      <td>0.0</td>\n",
       "      <td>0.0</td>\n",
       "      <td>0.0</td>\n",
       "    </tr>\n",
       "    <tr>\n",
       "      <th>UNIQUE_VALUES</th>\n",
       "      <td>17</td>\n",
       "      <td>407</td>\n",
       "      <td>6</td>\n",
       "      <td>14</td>\n",
       "      <td>32</td>\n",
       "      <td>92</td>\n",
       "      <td>8</td>\n",
       "      <td>33</td>\n",
       "      <td>84</td>\n",
       "      <td>8</td>\n",
       "      <td>147</td>\n",
       "      <td>504</td>\n",
       "      <td>8</td>\n",
       "      <td>141</td>\n",
       "    </tr>\n",
       "    <tr>\n",
       "      <th>CARDIN (%)</th>\n",
       "      <td>2.34</td>\n",
       "      <td>55.91</td>\n",
       "      <td>0.82</td>\n",
       "      <td>1.92</td>\n",
       "      <td>4.4</td>\n",
       "      <td>12.64</td>\n",
       "      <td>1.1</td>\n",
       "      <td>4.53</td>\n",
       "      <td>11.54</td>\n",
       "      <td>1.1</td>\n",
       "      <td>20.19</td>\n",
       "      <td>69.23</td>\n",
       "      <td>1.1</td>\n",
       "      <td>19.37</td>\n",
       "    </tr>\n",
       "  </tbody>\n",
       "</table>\n",
       "</div>"
      ],
      "text/plain": [
       "              Company Product TypeName   Inches ScreenResolution     Cpu  \\\n",
       "DATA_TYPE      object  object   object  float64           object  object   \n",
       "MISSINGS (%)      0.0     0.0      0.0      0.0              0.0     0.0   \n",
       "UNIQUE_VALUES      17     407        6       14               32      92   \n",
       "CARDIN (%)       2.34   55.91     0.82     1.92              4.4   12.64   \n",
       "\n",
       "                  Ram  Memory     Gpu   OpSys  Weight Price_in_euros ram_GB  \\\n",
       "DATA_TYPE      object  object  object  object  object        float64  int64   \n",
       "MISSINGS (%)      0.0     0.0     0.0     0.0     0.0            0.0    0.0   \n",
       "UNIQUE_VALUES       8      33      84       8     147            504      8   \n",
       "CARDIN (%)        1.1    4.53   11.54     1.1   20.19          69.23    1.1   \n",
       "\n",
       "              weight_kg  \n",
       "DATA_TYPE       float64  \n",
       "MISSINGS (%)        0.0  \n",
       "UNIQUE_VALUES       141  \n",
       "CARDIN (%)        19.37  "
      ]
     },
     "execution_count": 16,
     "metadata": {},
     "output_type": "execute_result"
    }
   ],
   "source": [
    "tb.describe_df(train_set)"
   ]
  },
  {
   "cell_type": "code",
   "execution_count": 79,
   "id": "fc7a074d",
   "metadata": {},
   "outputs": [
    {
     "data": {
      "text/plain": [
       "Gpu\n",
       "Intel HD Graphics 620       185\n",
       "Intel HD Graphics 520       125\n",
       "Intel UHD Graphics 620       52\n",
       "Nvidia GeForce GTX 1050      48\n",
       "Nvidia GeForce 940MX         31\n",
       "                           ... \n",
       "AMD Radeon RX 540             1\n",
       "Nvidia Quadro M2000M          1\n",
       "Nvidia GeForce GTX 940M       1\n",
       "AMD Radeon R5 520             1\n",
       "Nvidia GeForce GTX 1070M      1\n",
       "Name: count, Length: 93, dtype: int64"
      ]
     },
     "execution_count": 79,
     "metadata": {},
     "output_type": "execute_result"
    }
   ],
   "source": [
    "df.Gpu.value_counts()"
   ]
  },
  {
   "cell_type": "code",
   "execution_count": 82,
   "id": "f3ee1bce",
   "metadata": {},
   "outputs": [
    {
     "data": {
      "text/plain": [
       "'Intel'"
      ]
     },
     "execution_count": 82,
     "metadata": {},
     "output_type": "execute_result"
    }
   ],
   "source": [
    "a = 'Intel HD Graphics 620'\n",
    "b = a.split(' ')[0]\n",
    "b"
   ]
  },
  {
   "cell_type": "code",
   "execution_count": 10,
   "id": "9d5978e4",
   "metadata": {},
   "outputs": [],
   "source": [
    "lista = []\n",
    "for x in train_set['Gpu']:\n",
    "    a = x.split(\" \")[0]\n",
    "    lista.append(a)"
   ]
  },
  {
   "cell_type": "code",
   "execution_count": 11,
   "id": "efdb7d3d",
   "metadata": {},
   "outputs": [
    {
     "data": {
      "text/plain": [
       "Gpu_new\n",
       "Intel     416\n",
       "Nvidia    220\n",
       "AMD        92\n",
       "Name: count, dtype: int64"
      ]
     },
     "execution_count": 11,
     "metadata": {},
     "output_type": "execute_result"
    }
   ],
   "source": [
    "train_set['Gpu_new'] = lista\n",
    "train_set.Gpu_new.value_counts()"
   ]
  },
  {
   "cell_type": "code",
   "execution_count": 12,
   "id": "a4a9a4d0",
   "metadata": {},
   "outputs": [],
   "source": [
    "lista_test = []\n",
    "for x in test_set['Gpu']:\n",
    "    a = x.split(\" \")[0]\n",
    "    lista_test.append(a)"
   ]
  },
  {
   "cell_type": "code",
   "execution_count": 13,
   "id": "f9c79dc6",
   "metadata": {},
   "outputs": [
    {
     "data": {
      "text/plain": [
       "Gpu_new\n",
       "Intel     91\n",
       "Nvidia    64\n",
       "AMD       27\n",
       "Name: count, dtype: int64"
      ]
     },
     "execution_count": 13,
     "metadata": {},
     "output_type": "execute_result"
    }
   ],
   "source": [
    "test_set['Gpu_new'] = lista_test\n",
    "test_set.Gpu_new.value_counts()"
   ]
  },
  {
   "cell_type": "code",
   "execution_count": 14,
   "id": "650e2250",
   "metadata": {},
   "outputs": [
    {
     "data": {
      "text/html": [
       "<div>\n",
       "<style scoped>\n",
       "    .dataframe tbody tr th:only-of-type {\n",
       "        vertical-align: middle;\n",
       "    }\n",
       "\n",
       "    .dataframe tbody tr th {\n",
       "        vertical-align: top;\n",
       "    }\n",
       "\n",
       "    .dataframe thead th {\n",
       "        text-align: right;\n",
       "    }\n",
       "</style>\n",
       "<table border=\"1\" class=\"dataframe\">\n",
       "  <thead>\n",
       "    <tr style=\"text-align: right;\">\n",
       "      <th></th>\n",
       "      <th>Inches</th>\n",
       "      <th>Price_in_euros</th>\n",
       "      <th>ram_GB</th>\n",
       "      <th>weight_kg</th>\n",
       "    </tr>\n",
       "  </thead>\n",
       "  <tbody>\n",
       "    <tr>\n",
       "      <th>count</th>\n",
       "      <td>728.000000</td>\n",
       "      <td>728.000000</td>\n",
       "      <td>728.000000</td>\n",
       "      <td>728.000000</td>\n",
       "    </tr>\n",
       "    <tr>\n",
       "      <th>mean</th>\n",
       "      <td>15.009615</td>\n",
       "      <td>1104.551387</td>\n",
       "      <td>8.239011</td>\n",
       "      <td>2.035598</td>\n",
       "    </tr>\n",
       "    <tr>\n",
       "      <th>std</th>\n",
       "      <td>1.418066</td>\n",
       "      <td>672.925790</td>\n",
       "      <td>4.987248</td>\n",
       "      <td>0.666705</td>\n",
       "    </tr>\n",
       "    <tr>\n",
       "      <th>min</th>\n",
       "      <td>11.300000</td>\n",
       "      <td>191.900000</td>\n",
       "      <td>2.000000</td>\n",
       "      <td>0.810000</td>\n",
       "    </tr>\n",
       "    <tr>\n",
       "      <th>25%</th>\n",
       "      <td>14.000000</td>\n",
       "      <td>598.742500</td>\n",
       "      <td>4.000000</td>\n",
       "      <td>1.500000</td>\n",
       "    </tr>\n",
       "    <tr>\n",
       "      <th>50%</th>\n",
       "      <td>15.600000</td>\n",
       "      <td>985.000000</td>\n",
       "      <td>8.000000</td>\n",
       "      <td>2.040000</td>\n",
       "    </tr>\n",
       "    <tr>\n",
       "      <th>75%</th>\n",
       "      <td>15.600000</td>\n",
       "      <td>1462.000000</td>\n",
       "      <td>8.000000</td>\n",
       "      <td>2.300000</td>\n",
       "    </tr>\n",
       "    <tr>\n",
       "      <th>max</th>\n",
       "      <td>17.300000</td>\n",
       "      <td>6099.000000</td>\n",
       "      <td>64.000000</td>\n",
       "      <td>4.700000</td>\n",
       "    </tr>\n",
       "  </tbody>\n",
       "</table>\n",
       "</div>"
      ],
      "text/plain": [
       "           Inches  Price_in_euros      ram_GB   weight_kg\n",
       "count  728.000000      728.000000  728.000000  728.000000\n",
       "mean    15.009615     1104.551387    8.239011    2.035598\n",
       "std      1.418066      672.925790    4.987248    0.666705\n",
       "min     11.300000      191.900000    2.000000    0.810000\n",
       "25%     14.000000      598.742500    4.000000    1.500000\n",
       "50%     15.600000      985.000000    8.000000    2.040000\n",
       "75%     15.600000     1462.000000    8.000000    2.300000\n",
       "max     17.300000     6099.000000   64.000000    4.700000"
      ]
     },
     "execution_count": 14,
     "metadata": {},
     "output_type": "execute_result"
    }
   ],
   "source": [
    "train_set.describe()"
   ]
  },
  {
   "cell_type": "code",
   "execution_count": 14,
   "id": "27f2318a",
   "metadata": {},
   "outputs": [],
   "source": [
    "lista = []\n",
    "for x in train_set['ScreenResolution']:\n",
    "    a = x.split(\" \")\n",
    "    b = a[-1].split('x')\n",
    "    c = int(b[0])*int(b[1])\n",
    "    lista.append(c)"
   ]
  },
  {
   "cell_type": "code",
   "execution_count": 15,
   "id": "6b8d407c",
   "metadata": {},
   "outputs": [],
   "source": [
    "train_set['pixel'] = lista\n",
    "\n"
   ]
  },
  {
   "cell_type": "code",
   "execution_count": 17,
   "id": "78fbf6f3",
   "metadata": {},
   "outputs": [
    {
     "data": {
      "text/html": [
       "<div>\n",
       "<style scoped>\n",
       "    .dataframe tbody tr th:only-of-type {\n",
       "        vertical-align: middle;\n",
       "    }\n",
       "\n",
       "    .dataframe tbody tr th {\n",
       "        vertical-align: top;\n",
       "    }\n",
       "\n",
       "    .dataframe thead th {\n",
       "        text-align: right;\n",
       "    }\n",
       "</style>\n",
       "<table border=\"1\" class=\"dataframe\">\n",
       "  <thead>\n",
       "    <tr style=\"text-align: right;\">\n",
       "      <th></th>\n",
       "      <th>Inches</th>\n",
       "      <th>Price_in_euros</th>\n",
       "      <th>ram_GB</th>\n",
       "      <th>weight_kg</th>\n",
       "      <th>pixel</th>\n",
       "    </tr>\n",
       "  </thead>\n",
       "  <tbody>\n",
       "    <tr>\n",
       "      <th>count</th>\n",
       "      <td>728.000000</td>\n",
       "      <td>728.000000</td>\n",
       "      <td>728.000000</td>\n",
       "      <td>728.000000</td>\n",
       "      <td>7.280000e+02</td>\n",
       "    </tr>\n",
       "    <tr>\n",
       "      <th>mean</th>\n",
       "      <td>15.009615</td>\n",
       "      <td>1104.551387</td>\n",
       "      <td>8.239011</td>\n",
       "      <td>2.035598</td>\n",
       "      <td>2.147054e+06</td>\n",
       "    </tr>\n",
       "    <tr>\n",
       "      <th>std</th>\n",
       "      <td>1.418066</td>\n",
       "      <td>672.925790</td>\n",
       "      <td>4.987248</td>\n",
       "      <td>0.666705</td>\n",
       "      <td>1.366725e+06</td>\n",
       "    </tr>\n",
       "    <tr>\n",
       "      <th>min</th>\n",
       "      <td>11.300000</td>\n",
       "      <td>191.900000</td>\n",
       "      <td>2.000000</td>\n",
       "      <td>0.810000</td>\n",
       "      <td>1.049088e+06</td>\n",
       "    </tr>\n",
       "    <tr>\n",
       "      <th>25%</th>\n",
       "      <td>14.000000</td>\n",
       "      <td>598.742500</td>\n",
       "      <td>4.000000</td>\n",
       "      <td>1.500000</td>\n",
       "      <td>1.296000e+06</td>\n",
       "    </tr>\n",
       "    <tr>\n",
       "      <th>50%</th>\n",
       "      <td>15.600000</td>\n",
       "      <td>985.000000</td>\n",
       "      <td>8.000000</td>\n",
       "      <td>2.040000</td>\n",
       "      <td>2.073600e+06</td>\n",
       "    </tr>\n",
       "    <tr>\n",
       "      <th>75%</th>\n",
       "      <td>15.600000</td>\n",
       "      <td>1462.000000</td>\n",
       "      <td>8.000000</td>\n",
       "      <td>2.300000</td>\n",
       "      <td>2.073600e+06</td>\n",
       "    </tr>\n",
       "    <tr>\n",
       "      <th>max</th>\n",
       "      <td>17.300000</td>\n",
       "      <td>6099.000000</td>\n",
       "      <td>64.000000</td>\n",
       "      <td>4.700000</td>\n",
       "      <td>8.294400e+06</td>\n",
       "    </tr>\n",
       "  </tbody>\n",
       "</table>\n",
       "</div>"
      ],
      "text/plain": [
       "           Inches  Price_in_euros      ram_GB   weight_kg         pixel\n",
       "count  728.000000      728.000000  728.000000  728.000000  7.280000e+02\n",
       "mean    15.009615     1104.551387    8.239011    2.035598  2.147054e+06\n",
       "std      1.418066      672.925790    4.987248    0.666705  1.366725e+06\n",
       "min     11.300000      191.900000    2.000000    0.810000  1.049088e+06\n",
       "25%     14.000000      598.742500    4.000000    1.500000  1.296000e+06\n",
       "50%     15.600000      985.000000    8.000000    2.040000  2.073600e+06\n",
       "75%     15.600000     1462.000000    8.000000    2.300000  2.073600e+06\n",
       "max     17.300000     6099.000000   64.000000    4.700000  8.294400e+06"
      ]
     },
     "execution_count": 17,
     "metadata": {},
     "output_type": "execute_result"
    }
   ],
   "source": [
    "train_set.describe()"
   ]
  },
  {
   "cell_type": "code",
   "execution_count": 16,
   "id": "7dea1433",
   "metadata": {},
   "outputs": [],
   "source": [
    "lista_test = []\n",
    "for x in test_set['ScreenResolution']:\n",
    "    a = x.split(\" \")\n",
    "    b = a[-1].split('x')\n",
    "    c = int(b[0])*int(b[1])\n",
    "    lista_test.append(c)\n",
    "\n",
    "test_set['pixel'] = lista_test"
   ]
  },
  {
   "cell_type": "code",
   "execution_count": 17,
   "id": "9628e67a",
   "metadata": {},
   "outputs": [
    {
     "name": "stdout",
     "output_type": "stream",
     "text": [
      "<class 'pandas.core.frame.DataFrame'>\n",
      "Index: 728 entries, 1118 to 418\n",
      "Data columns (total 16 columns):\n",
      " #   Column            Non-Null Count  Dtype  \n",
      "---  ------            --------------  -----  \n",
      " 0   Company           728 non-null    object \n",
      " 1   Product           728 non-null    object \n",
      " 2   TypeName          728 non-null    object \n",
      " 3   Inches            728 non-null    float64\n",
      " 4   ScreenResolution  728 non-null    object \n",
      " 5   Cpu               728 non-null    object \n",
      " 6   Ram               728 non-null    object \n",
      " 7   Memory            728 non-null    object \n",
      " 8   Gpu               728 non-null    object \n",
      " 9   OpSys             728 non-null    object \n",
      " 10  Weight            728 non-null    object \n",
      " 11  Price_in_euros    728 non-null    float64\n",
      " 12  ram_GB            728 non-null    int64  \n",
      " 13  weight_kg         728 non-null    float64\n",
      " 14  Gpu_new           728 non-null    object \n",
      " 15  pixel             728 non-null    int64  \n",
      "dtypes: float64(3), int64(2), object(11)\n",
      "memory usage: 96.7+ KB\n"
     ]
    }
   ],
   "source": [
    "train_set.info()"
   ]
  },
  {
   "cell_type": "code",
   "execution_count": 37,
   "id": "bf9c9a1e",
   "metadata": {},
   "outputs": [],
   "source": [
    "feat_num = ['Inches', 'ram_GB', 'weight_kg', 'pixel']"
   ]
  },
  {
   "cell_type": "code",
   "execution_count": 38,
   "id": "f8d1e13c",
   "metadata": {},
   "outputs": [
    {
     "data": {
      "text/plain": [
       "Company\n",
       "Lenovo       202\n",
       "Dell         197\n",
       "HP           194\n",
       "Asus         121\n",
       "Acer          74\n",
       "MSI           37\n",
       "Toshiba       34\n",
       "Apple         17\n",
       "Razer          6\n",
       "Mediacom       6\n",
       "Samsung        5\n",
       "Microsoft      5\n",
       "Xiaomi         3\n",
       "Huawei         2\n",
       "Chuwi          2\n",
       "Google         2\n",
       "Vero           2\n",
       "Fujitsu        2\n",
       "LG             1\n",
       "Name: count, dtype: int64"
      ]
     },
     "execution_count": 38,
     "metadata": {},
     "output_type": "execute_result"
    }
   ],
   "source": [
    "df.Company.value_counts()"
   ]
  },
  {
   "cell_type": "code",
   "execution_count": null,
   "id": "475babb3",
   "metadata": {},
   "outputs": [],
   "source": [
    "#from sklearn.preprocessing import OrdinalEncoder\n",
    "\n",
    "#categories = [onehot_company]\n",
    "#ordinal_encoder = OrdinalEncoder(categories= categories)\n",
    "#train_set[\"Company\"] = ordinal_encoder.fit_transform(train_set[[\"Company\"]])"
   ]
  },
  {
   "cell_type": "code",
   "execution_count": null,
   "id": "aaf43d5b",
   "metadata": {},
   "outputs": [],
   "source": [
    "#categories = [onehot_company_test]\n",
    "#ordinal_encoder = OrdinalEncoder(categories= categories)\n",
    "#test_set[\"Company\"] = ordinal_encoder.fit_transform(test_set[[\"Company\"]])"
   ]
  },
  {
   "cell_type": "code",
   "execution_count": null,
   "id": "af9e9991",
   "metadata": {},
   "outputs": [],
   "source": [
    "#categories = [onehot_Opsys]\n",
    "#ordinal_encoder = OrdinalEncoder(categories= categories)\n",
    "#train_set[\"OpSys\"] = ordinal_encoder.fit_transform(train_set[[\"OpSys\"]])"
   ]
  },
  {
   "cell_type": "code",
   "execution_count": null,
   "id": "678eb98e",
   "metadata": {},
   "outputs": [],
   "source": [
    "#categories = [onehot_Opsys_test]\n",
    "#ordinal_encoder = OrdinalEncoder(categories= categories)\n",
    "#test_set[\"OpSys\"] = ordinal_encoder.fit_transform(test_set[[\"OpSys\"]])"
   ]
  },
  {
   "cell_type": "code",
   "execution_count": null,
   "id": "61ae7801",
   "metadata": {},
   "outputs": [],
   "source": [
    "#feat_num.append('Company')\n",
    "#feat_num.append('OpSys')"
   ]
  },
  {
   "cell_type": "code",
   "execution_count": 44,
   "id": "a3c4f0ca",
   "metadata": {},
   "outputs": [
    {
     "data": {
      "text/plain": [
       "['Inches', 'ram_GB', 'weight_kg', 'pixel', 'Company', 'OpSys']"
      ]
     },
     "execution_count": 44,
     "metadata": {},
     "output_type": "execute_result"
    }
   ],
   "source": [
    "feat_num"
   ]
  },
  {
   "cell_type": "code",
   "execution_count": 18,
   "id": "feade630",
   "metadata": {},
   "outputs": [],
   "source": [
    "a = df.Company.unique()\n",
    "lista_company = []\n",
    "for x in a:\n",
    "    lista_company.append(x)"
   ]
  },
  {
   "cell_type": "code",
   "execution_count": 19,
   "id": "d10bdff2",
   "metadata": {},
   "outputs": [
    {
     "name": "stderr",
     "output_type": "stream",
     "text": [
      "C:\\Users\\MARTA\\AppData\\Local\\Temp\\ipykernel_18792\\1552707568.py:3: FutureWarning: Series.__getitem__ treating keys as positions is deprecated. In a future version, integer keys will always be treated as labels (consistent with DataFrame behavior). To access a value by position, use `ser.iloc[pos]`\n",
      "  if df.loc[df['Company'] == company, 'Company'].value_counts()[0] < 7:\n",
      "C:\\Users\\MARTA\\AppData\\Local\\Temp\\ipykernel_18792\\1552707568.py:3: FutureWarning: Series.__getitem__ treating keys as positions is deprecated. In a future version, integer keys will always be treated as labels (consistent with DataFrame behavior). To access a value by position, use `ser.iloc[pos]`\n",
      "  if df.loc[df['Company'] == company, 'Company'].value_counts()[0] < 7:\n",
      "C:\\Users\\MARTA\\AppData\\Local\\Temp\\ipykernel_18792\\1552707568.py:3: FutureWarning: Series.__getitem__ treating keys as positions is deprecated. In a future version, integer keys will always be treated as labels (consistent with DataFrame behavior). To access a value by position, use `ser.iloc[pos]`\n",
      "  if df.loc[df['Company'] == company, 'Company'].value_counts()[0] < 7:\n",
      "C:\\Users\\MARTA\\AppData\\Local\\Temp\\ipykernel_18792\\1552707568.py:3: FutureWarning: Series.__getitem__ treating keys as positions is deprecated. In a future version, integer keys will always be treated as labels (consistent with DataFrame behavior). To access a value by position, use `ser.iloc[pos]`\n",
      "  if df.loc[df['Company'] == company, 'Company'].value_counts()[0] < 7:\n",
      "C:\\Users\\MARTA\\AppData\\Local\\Temp\\ipykernel_18792\\1552707568.py:3: FutureWarning: Series.__getitem__ treating keys as positions is deprecated. In a future version, integer keys will always be treated as labels (consistent with DataFrame behavior). To access a value by position, use `ser.iloc[pos]`\n",
      "  if df.loc[df['Company'] == company, 'Company'].value_counts()[0] < 7:\n",
      "C:\\Users\\MARTA\\AppData\\Local\\Temp\\ipykernel_18792\\1552707568.py:3: FutureWarning: Series.__getitem__ treating keys as positions is deprecated. In a future version, integer keys will always be treated as labels (consistent with DataFrame behavior). To access a value by position, use `ser.iloc[pos]`\n",
      "  if df.loc[df['Company'] == company, 'Company'].value_counts()[0] < 7:\n",
      "C:\\Users\\MARTA\\AppData\\Local\\Temp\\ipykernel_18792\\1552707568.py:3: FutureWarning: Series.__getitem__ treating keys as positions is deprecated. In a future version, integer keys will always be treated as labels (consistent with DataFrame behavior). To access a value by position, use `ser.iloc[pos]`\n",
      "  if df.loc[df['Company'] == company, 'Company'].value_counts()[0] < 7:\n",
      "C:\\Users\\MARTA\\AppData\\Local\\Temp\\ipykernel_18792\\1552707568.py:3: FutureWarning: Series.__getitem__ treating keys as positions is deprecated. In a future version, integer keys will always be treated as labels (consistent with DataFrame behavior). To access a value by position, use `ser.iloc[pos]`\n",
      "  if df.loc[df['Company'] == company, 'Company'].value_counts()[0] < 7:\n",
      "C:\\Users\\MARTA\\AppData\\Local\\Temp\\ipykernel_18792\\1552707568.py:3: FutureWarning: Series.__getitem__ treating keys as positions is deprecated. In a future version, integer keys will always be treated as labels (consistent with DataFrame behavior). To access a value by position, use `ser.iloc[pos]`\n",
      "  if df.loc[df['Company'] == company, 'Company'].value_counts()[0] < 7:\n",
      "C:\\Users\\MARTA\\AppData\\Local\\Temp\\ipykernel_18792\\1552707568.py:3: FutureWarning: Series.__getitem__ treating keys as positions is deprecated. In a future version, integer keys will always be treated as labels (consistent with DataFrame behavior). To access a value by position, use `ser.iloc[pos]`\n",
      "  if df.loc[df['Company'] == company, 'Company'].value_counts()[0] < 7:\n",
      "C:\\Users\\MARTA\\AppData\\Local\\Temp\\ipykernel_18792\\1552707568.py:3: FutureWarning: Series.__getitem__ treating keys as positions is deprecated. In a future version, integer keys will always be treated as labels (consistent with DataFrame behavior). To access a value by position, use `ser.iloc[pos]`\n",
      "  if df.loc[df['Company'] == company, 'Company'].value_counts()[0] < 7:\n",
      "C:\\Users\\MARTA\\AppData\\Local\\Temp\\ipykernel_18792\\1552707568.py:3: FutureWarning: Series.__getitem__ treating keys as positions is deprecated. In a future version, integer keys will always be treated as labels (consistent with DataFrame behavior). To access a value by position, use `ser.iloc[pos]`\n",
      "  if df.loc[df['Company'] == company, 'Company'].value_counts()[0] < 7:\n",
      "C:\\Users\\MARTA\\AppData\\Local\\Temp\\ipykernel_18792\\1552707568.py:3: FutureWarning: Series.__getitem__ treating keys as positions is deprecated. In a future version, integer keys will always be treated as labels (consistent with DataFrame behavior). To access a value by position, use `ser.iloc[pos]`\n",
      "  if df.loc[df['Company'] == company, 'Company'].value_counts()[0] < 7:\n",
      "C:\\Users\\MARTA\\AppData\\Local\\Temp\\ipykernel_18792\\1552707568.py:3: FutureWarning: Series.__getitem__ treating keys as positions is deprecated. In a future version, integer keys will always be treated as labels (consistent with DataFrame behavior). To access a value by position, use `ser.iloc[pos]`\n",
      "  if df.loc[df['Company'] == company, 'Company'].value_counts()[0] < 7:\n",
      "C:\\Users\\MARTA\\AppData\\Local\\Temp\\ipykernel_18792\\1552707568.py:3: FutureWarning: Series.__getitem__ treating keys as positions is deprecated. In a future version, integer keys will always be treated as labels (consistent with DataFrame behavior). To access a value by position, use `ser.iloc[pos]`\n",
      "  if df.loc[df['Company'] == company, 'Company'].value_counts()[0] < 7:\n",
      "C:\\Users\\MARTA\\AppData\\Local\\Temp\\ipykernel_18792\\1552707568.py:3: FutureWarning: Series.__getitem__ treating keys as positions is deprecated. In a future version, integer keys will always be treated as labels (consistent with DataFrame behavior). To access a value by position, use `ser.iloc[pos]`\n",
      "  if df.loc[df['Company'] == company, 'Company'].value_counts()[0] < 7:\n",
      "C:\\Users\\MARTA\\AppData\\Local\\Temp\\ipykernel_18792\\1552707568.py:3: FutureWarning: Series.__getitem__ treating keys as positions is deprecated. In a future version, integer keys will always be treated as labels (consistent with DataFrame behavior). To access a value by position, use `ser.iloc[pos]`\n",
      "  if df.loc[df['Company'] == company, 'Company'].value_counts()[0] < 7:\n",
      "C:\\Users\\MARTA\\AppData\\Local\\Temp\\ipykernel_18792\\1552707568.py:3: FutureWarning: Series.__getitem__ treating keys as positions is deprecated. In a future version, integer keys will always be treated as labels (consistent with DataFrame behavior). To access a value by position, use `ser.iloc[pos]`\n",
      "  if df.loc[df['Company'] == company, 'Company'].value_counts()[0] < 7:\n",
      "C:\\Users\\MARTA\\AppData\\Local\\Temp\\ipykernel_18792\\1552707568.py:3: FutureWarning: Series.__getitem__ treating keys as positions is deprecated. In a future version, integer keys will always be treated as labels (consistent with DataFrame behavior). To access a value by position, use `ser.iloc[pos]`\n",
      "  if df.loc[df['Company'] == company, 'Company'].value_counts()[0] < 7:\n"
     ]
    }
   ],
   "source": [
    "otros = []\n",
    "for company in lista_company:\n",
    "    if df.loc[df['Company'] == company, 'Company'].value_counts()[0] < 7:\n",
    "        otros.append(company)"
   ]
  },
  {
   "cell_type": "code",
   "execution_count": 20,
   "id": "67d056b3",
   "metadata": {},
   "outputs": [],
   "source": [
    "for x in otros:\n",
    "    if x in train_set['Company'].unique():\n",
    "        train_set.loc[train_set['Company'] == x, 'Company'] = 'Otros'"
   ]
  },
  {
   "cell_type": "code",
   "execution_count": 21,
   "id": "dde638e7",
   "metadata": {},
   "outputs": [],
   "source": [
    "for x in otros:\n",
    "    if x in test_set['Company'].unique():\n",
    "        test_set.loc[test_set['Company'] == x, 'Company'] = 'Otros'"
   ]
  },
  {
   "cell_type": "code",
   "execution_count": 22,
   "id": "95d5455d",
   "metadata": {},
   "outputs": [
    {
     "data": {
      "text/plain": [
       "Company\n",
       "Lenovo     161\n",
       "Dell       158\n",
       "HP         155\n",
       "Asus       101\n",
       "Acer        55\n",
       "Toshiba     31\n",
       "MSI         30\n",
       "Otros       24\n",
       "Apple       13\n",
       "Name: count, dtype: int64"
      ]
     },
     "execution_count": 22,
     "metadata": {},
     "output_type": "execute_result"
    }
   ],
   "source": [
    "train_set.Company.value_counts()"
   ]
  },
  {
   "cell_type": "code",
   "execution_count": 23,
   "id": "502ba437",
   "metadata": {},
   "outputs": [
    {
     "data": {
      "text/plain": [
       "Company\n",
       "HP         39\n",
       "Lenovo     39\n",
       "Dell       39\n",
       "Asus       20\n",
       "Acer       19\n",
       "Otros      12\n",
       "MSI         7\n",
       "Apple       4\n",
       "Toshiba     3\n",
       "Name: count, dtype: int64"
      ]
     },
     "execution_count": 23,
     "metadata": {},
     "output_type": "execute_result"
    }
   ],
   "source": [
    "test_set.Company.value_counts()"
   ]
  },
  {
   "cell_type": "code",
   "execution_count": 24,
   "id": "4937e693",
   "metadata": {},
   "outputs": [],
   "source": [
    "train_set = pd.get_dummies(train_set, columns = ['Gpu_new'], dtype = int)\n",
    "test_set= pd.get_dummies(test_set, columns = ['Gpu_new'], dtype = int)"
   ]
  },
  {
   "cell_type": "code",
   "execution_count": 25,
   "id": "d02b302c",
   "metadata": {},
   "outputs": [],
   "source": [
    "train_set = pd.get_dummies(train_set, columns = ['TypeName'], dtype = int)\n",
    "test_set= pd.get_dummies(test_set, columns = ['TypeName'], dtype = int)"
   ]
  },
  {
   "cell_type": "code",
   "execution_count": 26,
   "id": "a3029f13",
   "metadata": {},
   "outputs": [],
   "source": [
    "train_set = pd.get_dummies(train_set, columns = ['Company'], dtype = int)\n",
    "test_set= pd.get_dummies(test_set, columns = ['Company'], dtype = int)"
   ]
  },
  {
   "cell_type": "code",
   "execution_count": 90,
   "id": "0bb72012",
   "metadata": {},
   "outputs": [
    {
     "name": "stdout",
     "output_type": "stream",
     "text": [
      "<class 'pandas.core.frame.DataFrame'>\n",
      "Index: 728 entries, 1118 to 418\n",
      "Data columns (total 18 columns):\n",
      " #   Column            Non-Null Count  Dtype  \n",
      "---  ------            --------------  -----  \n",
      " 0   Company           728 non-null    float64\n",
      " 1   Product           728 non-null    object \n",
      " 2   TypeName          728 non-null    object \n",
      " 3   Inches            728 non-null    float64\n",
      " 4   ScreenResolution  728 non-null    object \n",
      " 5   Cpu               728 non-null    object \n",
      " 6   Ram               728 non-null    object \n",
      " 7   Memory            728 non-null    object \n",
      " 8   Gpu               728 non-null    object \n",
      " 9   OpSys             728 non-null    float64\n",
      " 10  Weight            728 non-null    object \n",
      " 11  Price_in_euros    728 non-null    float64\n",
      " 12  ram_GB            728 non-null    float64\n",
      " 13  weight_kg         728 non-null    float64\n",
      " 14  pixel             728 non-null    float64\n",
      " 15  Gpu_new_AMD       728 non-null    int64  \n",
      " 16  Gpu_new_Intel     728 non-null    int64  \n",
      " 17  Gpu_new_Nvidia    728 non-null    int64  \n",
      "dtypes: float64(7), int64(3), object(8)\n",
      "memory usage: 108.1+ KB\n"
     ]
    }
   ],
   "source": [
    "train_set.info()"
   ]
  },
  {
   "cell_type": "code",
   "execution_count": 92,
   "id": "b42b7867",
   "metadata": {},
   "outputs": [],
   "source": [
    "feat_num.append('Gpu_new_AMD')\n",
    "feat_num.append('Gpu_new_Intel')\n",
    "feat_num.append('Gpu_new_Nvidia')"
   ]
  },
  {
   "cell_type": "code",
   "execution_count": 93,
   "id": "135130b9",
   "metadata": {},
   "outputs": [
    {
     "data": {
      "text/plain": [
       "['Inches',\n",
       " 'ram_GB',\n",
       " 'weight_kg',\n",
       " 'pixel',\n",
       " 'Company',\n",
       " 'OpSys',\n",
       " 'Gpu_new_AMD',\n",
       " 'Gpu_new_Intel',\n",
       " 'Gpu_new_Nvidia']"
      ]
     },
     "execution_count": 93,
     "metadata": {},
     "output_type": "execute_result"
    }
   ],
   "source": [
    "feat_num"
   ]
  },
  {
   "cell_type": "code",
   "execution_count": 35,
   "id": "f887812f",
   "metadata": {},
   "outputs": [
    {
     "data": {
      "text/plain": [
       "'Price_in_euros'"
      ]
     },
     "execution_count": 35,
     "metadata": {},
     "output_type": "execute_result"
    }
   ],
   "source": [
    "target"
   ]
  },
  {
   "cell_type": "code",
   "execution_count": 94,
   "id": "720f3b9b",
   "metadata": {},
   "outputs": [
    {
     "data": {
      "text/plain": [
       "(['Inches',\n",
       "  'ram_GB',\n",
       "  'weight_kg',\n",
       "  'pixel',\n",
       "  'Company',\n",
       "  'OpSys',\n",
       "  'Gpu_new_AMD',\n",
       "  'Gpu_new_Intel',\n",
       "  'Gpu_new_Nvidia'],\n",
       " <Figure size 1000x1000 with 2 Axes>)"
      ]
     },
     "execution_count": 94,
     "metadata": {},
     "output_type": "execute_result"
    },
    {
     "data": {
      "image/png": "[encoded data removed]",
      "text/plain": [
       "<Figure size 1000x1000 with 2 Axes>"
      ]
     },
     "metadata": {},
     "output_type": "display_data"
    }
   ],
   "source": [
    "tb.get_features_num_regression(train_set[feat_num + [target]], target, 0.0)"
   ]
  },
  {
   "cell_type": "code",
   "execution_count": 27,
   "id": "d029a7b2",
   "metadata": {},
   "outputs": [],
   "source": [
    "train_set = pd.get_dummies(train_set, columns = ['OpSys'], dtype = int)\n",
    "test_set= pd.get_dummies(test_set, columns = ['OpSys'], dtype = int)"
   ]
  },
  {
   "cell_type": "code",
   "execution_count": 29,
   "id": "c56ffa45",
   "metadata": {},
   "outputs": [],
   "source": [
    "feat_num_train = train_set.describe().columns.to_list()"
   ]
  },
  {
   "cell_type": "code",
   "execution_count": 30,
   "id": "d869e27c",
   "metadata": {},
   "outputs": [],
   "source": [
    "feat_num_test = test_set.describe().columns.to_list()"
   ]
  },
  {
   "cell_type": "code",
   "execution_count": 31,
   "id": "d6feca6c",
   "metadata": {},
   "outputs": [
    {
     "name": "stdout",
     "output_type": "stream",
     "text": [
      "31\n",
      "30\n"
     ]
    }
   ],
   "source": [
    "print(len(feat_num_train))\n",
    "print(len(feat_num_test))"
   ]
  },
  {
   "cell_type": "code",
   "execution_count": 33,
   "id": "312144a2",
   "metadata": {},
   "outputs": [],
   "source": [
    "feat_num_train.remove(target)"
   ]
  },
  {
   "cell_type": "code",
   "execution_count": 57,
   "id": "08c427b1",
   "metadata": {},
   "outputs": [
    {
     "data": {
      "text/plain": [
       "['Inches',\n",
       " 'ram_GB',\n",
       " 'weight_kg',\n",
       " 'pixel',\n",
       " 'Gpu_new_AMD',\n",
       " 'Gpu_new_Intel',\n",
       " 'Gpu_new_Nvidia',\n",
       " 'TypeName_2 in 1 Convertible',\n",
       " 'TypeName_Gaming',\n",
       " 'TypeName_Netbook',\n",
       " 'TypeName_Notebook',\n",
       " 'TypeName_Ultrabook',\n",
       " 'TypeName_Workstation',\n",
       " 'Company_Acer',\n",
       " 'Company_Apple',\n",
       " 'Company_Asus',\n",
       " 'Company_Dell',\n",
       " 'Company_HP',\n",
       " 'Company_Lenovo',\n",
       " 'Company_MSI',\n",
       " 'Company_Otros',\n",
       " 'Company_Toshiba',\n",
       " 'OpSys_Chrome OS',\n",
       " 'OpSys_Linux',\n",
       " 'OpSys_No OS',\n",
       " 'OpSys_Windows 10',\n",
       " 'OpSys_Windows 10 S',\n",
       " 'OpSys_Windows 7',\n",
       " 'OpSys_macOS']"
      ]
     },
     "execution_count": 57,
     "metadata": {},
     "output_type": "execute_result"
    }
   ],
   "source": [
    "feat_num_train"
   ]
  },
  {
   "cell_type": "code",
   "execution_count": 38,
   "id": "0d08176e",
   "metadata": {},
   "outputs": [],
   "source": [
    "feat_num_test.remove(target)"
   ]
  },
  {
   "cell_type": "code",
   "execution_count": 37,
   "id": "5d971f6d",
   "metadata": {},
   "outputs": [],
   "source": [
    "feat_num_train.remove('OpSys_Mac OS X')"
   ]
  },
  {
   "cell_type": "code",
   "execution_count": 39,
   "id": "b845b5d0",
   "metadata": {},
   "outputs": [
    {
     "name": "stdout",
     "output_type": "stream",
     "text": [
      "29\n",
      "29\n"
     ]
    }
   ],
   "source": [
    "print(len(feat_num_train))\n",
    "print(len(feat_num_test))"
   ]
  },
  {
   "cell_type": "markdown",
   "id": "ed3e64a8",
   "metadata": {},
   "source": [
    "- feat_num contiene las columnas numericas transformadas de 'inches', 'pixel'(multiplicacion resolutionScreen), 'ram_gb, 'weight_kg', el one hot encoding de la categoriga OpSys."
   ]
  },
  {
   "cell_type": "code",
   "execution_count": 77,
   "id": "00382f49",
   "metadata": {},
   "outputs": [
    {
     "data": {
      "text/plain": [
       "array([[<Axes: title={'center': 'Inches'}>,\n",
       "        <Axes: title={'center': 'ram_GB'}>],\n",
       "       [<Axes: title={'center': 'weight_kg'}>,\n",
       "        <Axes: title={'center': 'pixel'}>],\n",
       "       [<Axes: title={'center': 'Company'}>,\n",
       "        <Axes: title={'center': 'OpSys'}>]], dtype=object)"
      ]
     },
     "execution_count": 77,
     "metadata": {},
     "output_type": "execute_result"
    },
    {
     "data": {
      "image/png": "[encoded data removed]",
      "text/plain": [
       "<Figure size 640x480 with 6 Axes>"
      ]
     },
     "metadata": {},
     "output_type": "display_data"
    }
   ],
   "source": [
    "train_set[feat_num].hist()"
   ]
  },
  {
   "cell_type": "code",
   "execution_count": 68,
   "id": "146c1a5c",
   "metadata": {},
   "outputs": [],
   "source": [
    "for x in feat_num:\n",
    "    train_set[x] = train_set[x].apply(np.log1p)\n",
    "    test_set[x] = test_set[x].apply(np.log1p)"
   ]
  },
  {
   "cell_type": "code",
   "execution_count": 40,
   "id": "dacf75ca",
   "metadata": {},
   "outputs": [],
   "source": [
    "X_train = train_set[feat_num_train]\n",
    "y_train = train_set[target]\n",
    "X_test = test_set[feat_num_train]\n",
    "y_test = test_set[target]\n"
   ]
  },
  {
   "cell_type": "code",
   "execution_count": 41,
   "id": "8997ca44",
   "metadata": {},
   "outputs": [],
   "source": [
    "from sklearn.tree import DecisionTreeRegressor\n",
    "from sklearn.ensemble import RandomForestRegressor\n",
    "from xgboost import XGBRegressor\n",
    "from lightgbm import LGBMRegressor\n",
    "from sklearn.model_selection import cross_val_score\n",
    "from catboost import CatBoostRegressor"
   ]
  },
  {
   "cell_type": "code",
   "execution_count": 42,
   "id": "3e258692",
   "metadata": {},
   "outputs": [],
   "source": [
    "model_names = [\"Arbol regresor\",\"Random Forest\",\"XGBoost\",\"LightGBM\", 'Catboost']\n",
    "dtr_reg = DecisionTreeRegressor(max_depth=10, random_state=42)\n",
    "rf_reg = RandomForestRegressor(max_depth=10, random_state= 42)\n",
    "xgb_reg = XGBRegressor(random_state = 42)\n",
    "lgb_reg = LGBMRegressor(random_state= 42, verbose = -100)\n",
    "cat_reg = CatBoostRegressor(random_state= 42, verbose = False)\n",
    "\n",
    "\n",
    "model_set = [dtr_reg, rf_reg, xgb_reg, lgb_reg, cat_reg]"
   ]
  },
  {
   "cell_type": "code",
   "execution_count": 43,
   "id": "5e8d8418",
   "metadata": {},
   "outputs": [
    {
     "name": "stdout",
     "output_type": "stream",
     "text": [
      "DecisionTreeRegressor(max_depth=10, random_state=42)\n",
      "RandomForestRegressor(max_depth=10, random_state=42)\n",
      "XGBRegressor(base_score=None, booster=None, callbacks=None,\n",
      "             colsample_bylevel=None, colsample_bynode=None,\n",
      "             colsample_bytree=None, device=None, early_stopping_rounds=None,\n",
      "             enable_categorical=False, eval_metric=None, feature_types=None,\n",
      "             feature_weights=None, gamma=None, grow_policy=None,\n",
      "             importance_type=None, interaction_constraints=None,\n",
      "             learning_rate=None, max_bin=None, max_cat_threshold=None,\n",
      "             max_cat_to_onehot=None, max_delta_step=None, max_depth=None,\n",
      "             max_leaves=None, min_child_weight=None, missing=nan,\n",
      "             monotone_constraints=None, multi_strategy=None, n_estimators=None,\n",
      "             n_jobs=None, num_parallel_tree=None, ...)\n",
      "LGBMRegressor(random_state=42, verbose=-100)\n",
      "<catboost.core.CatBoostRegressor object at 0x0000027CA12D8AD0>\n"
     ]
    }
   ],
   "source": [
    "metricas_cv = {}\n",
    "valores = []\n",
    "for nombre,modelo in zip(model_names, model_set):\n",
    "    print(modelo)\n",
    "    metricas_cv[nombre] = cross_val_score(modelo, X_train, y_train, cv = 3, scoring = \"neg_mean_squared_error\")\n",
    "    valores.append(np.mean(metricas_cv[nombre]))\n",
    "ganador = list(metricas_cv.keys())[np.argmax(valores)]"
   ]
  },
  {
   "cell_type": "code",
   "execution_count": 44,
   "id": "f77635f5",
   "metadata": {},
   "outputs": [
    {
     "name": "stdout",
     "output_type": "stream",
     "text": [
      "Model <Arbol regresor>, RMSE_CV: 378.20187199665935\n",
      "Model <Random Forest>, RMSE_CV: 333.74067086440687\n",
      "Model <XGBoost>, RMSE_CV: 341.5951554487556\n",
      "Model <LightGBM>, RMSE_CV: 341.72241656749145\n",
      "Model <Catboost>, RMSE_CV: 309.9536260138692\n",
      "El ganador es Catboost\n"
     ]
    }
   ],
   "source": [
    "for model_name, valores in metricas_cv.items():\n",
    "    print(f\"Model <{model_name}>, RMSE_CV: {np.sqrt(-np.mean(valores))}\")\n",
    "print(f\"El ganador es {ganador}\")"
   ]
  },
  {
   "cell_type": "code",
   "execution_count": 45,
   "id": "7312e29b",
   "metadata": {},
   "outputs": [],
   "source": [
    "from sklearn.model_selection import GridSearchCV, RandomizedSearchCV\n",
    "from sklearn.metrics import r2_score, mean_absolute_error, mean_squared_error, mean_absolute_percentage_error"
   ]
  },
  {
   "cell_type": "code",
   "execution_count": 46,
   "id": "e0ee5982",
   "metadata": {},
   "outputs": [
    {
     "name": "stdout",
     "output_type": "stream",
     "text": [
      "CatBoost best_score: 324.9287733238093\n"
     ]
    }
   ],
   "source": [
    "\n",
    "\n",
    "param_grid= {'depth': [3, 6, 12],\n",
    "          'learning_rate': [0.1, 0.2, 0.3, 0.4],\n",
    "          #'bagging_fraction': [0.3,0.6,1], No hay hiperparámetro equivalente\n",
    "          'colsample_bylevel': [0.5,1],\n",
    "          'iterations': [100, 250, 500, 750],\n",
    "          \"border_count\": [125,250]\n",
    "          }\n",
    "\n",
    "\n",
    "cat_ran = RandomizedSearchCV(cat_reg, \n",
    "                               cv = 3,\n",
    "                               n_iter = 3,\n",
    "                               param_distributions= param_grid, \n",
    "                               scoring = \"neg_mean_squared_error\")\n",
    "\n",
    "\n",
    "cat_ran.fit(X_train, y_train)\n",
    "print(\"CatBoost best_score:\", np.sqrt(-cat_ran.best_score_))\n"
   ]
  },
  {
   "cell_type": "code",
   "execution_count": 47,
   "id": "449d8c6c",
   "metadata": {},
   "outputs": [
    {
     "name": "stdout",
     "output_type": "stream",
     "text": [
      "MAE: 224.7471099684457\n",
      "MAPE: 0.2256674212650406\n",
      "RMSE: 336.3449131710213\n"
     ]
    }
   ],
   "source": [
    "y_pred_random = cat_ran.best_estimator_.predict(X_test)\n",
    "print(\"MAE:\", mean_absolute_error(y_test,y_pred_random))\n",
    "print(\"MAPE:\", mean_absolute_percentage_error(y_test,y_pred_random))\n",
    "print(\"RMSE:\", np.sqrt(mean_squared_error(y_test, y_pred_random)))"
   ]
  },
  {
   "cell_type": "code",
   "execution_count": 48,
   "id": "31128b38",
   "metadata": {},
   "outputs": [
    {
     "name": "stdout",
     "output_type": "stream",
     "text": [
      "Catboost best_score: 302.1216576822086\n"
     ]
    }
   ],
   "source": [
    "param_grid= {'depth': [3, 6, 12],\n",
    "          'learning_rate': [0.1, 0.2, 0.3, 0.4],\n",
    "          #'bagging_fraction': [0.3,0.6,1], No hay hiperparámetro equivalente\n",
    "          'colsample_bylevel': [0.5,1],\n",
    "          'iterations': [100, 250, 500, 750],\n",
    "          \"border_count\": [125,250]\n",
    "          }\n",
    "cat_grid = GridSearchCV(cat_reg, \n",
    "                            cv = 3,\n",
    "                            param_grid= param_grid, \n",
    "                            scoring = \"neg_mean_squared_error\",\n",
    "                            n_jobs=-1)\n",
    "\n",
    "\n",
    "cat_grid.fit(X_train, y_train)\n",
    "print(\"Catboost best_score:\", np.sqrt(-cat_grid.best_score_))"
   ]
  },
  {
   "cell_type": "code",
   "execution_count": 49,
   "id": "543e7fa5",
   "metadata": {},
   "outputs": [
    {
     "data": {
      "text/plain": [
       "{'border_count': 250,\n",
       " 'colsample_bylevel': 0.5,\n",
       " 'depth': 3,\n",
       " 'iterations': 500,\n",
       " 'learning_rate': 0.2}"
      ]
     },
     "execution_count": 49,
     "metadata": {},
     "output_type": "execute_result"
    }
   ],
   "source": [
    "cat_grid.best_params_"
   ]
  },
  {
   "cell_type": "code",
   "execution_count": 50,
   "id": "414a0f72",
   "metadata": {},
   "outputs": [
    {
     "name": "stdout",
     "output_type": "stream",
     "text": [
      "MAE: 215.86216832133513\n",
      "MAPE: 0.20100323842193243\n",
      "RMSE: 334.2023699204156\n"
     ]
    }
   ],
   "source": [
    "y_pred = cat_grid.best_estimator_.predict(X_test)\n",
    "print(\"MAE:\", mean_absolute_error(y_test,y_pred))\n",
    "print(\"MAPE:\", mean_absolute_percentage_error(y_test,y_pred))\n",
    "print(\"RMSE:\", np.sqrt(mean_squared_error(y_test, y_pred)))"
   ]
  },
  {
   "cell_type": "markdown",
   "id": "5856f309",
   "metadata": {},
   "source": [
    "## Preparamos el X_pred "
   ]
  },
  {
   "cell_type": "code",
   "execution_count": 51,
   "id": "cd37adba",
   "metadata": {},
   "outputs": [
    {
     "data": {
      "text/html": [
       "<div>\n",
       "<style scoped>\n",
       "    .dataframe tbody tr th:only-of-type {\n",
       "        vertical-align: middle;\n",
       "    }\n",
       "\n",
       "    .dataframe tbody tr th {\n",
       "        vertical-align: top;\n",
       "    }\n",
       "\n",
       "    .dataframe thead th {\n",
       "        text-align: right;\n",
       "    }\n",
       "</style>\n",
       "<table border=\"1\" class=\"dataframe\">\n",
       "  <thead>\n",
       "    <tr style=\"text-align: right;\">\n",
       "      <th></th>\n",
       "      <th>Company</th>\n",
       "      <th>Product</th>\n",
       "      <th>TypeName</th>\n",
       "      <th>Inches</th>\n",
       "      <th>ScreenResolution</th>\n",
       "      <th>Cpu</th>\n",
       "      <th>Ram</th>\n",
       "      <th>Memory</th>\n",
       "      <th>Gpu</th>\n",
       "      <th>OpSys</th>\n",
       "      <th>Weight</th>\n",
       "    </tr>\n",
       "    <tr>\n",
       "      <th>laptop_ID</th>\n",
       "      <th></th>\n",
       "      <th></th>\n",
       "      <th></th>\n",
       "      <th></th>\n",
       "      <th></th>\n",
       "      <th></th>\n",
       "      <th></th>\n",
       "      <th></th>\n",
       "      <th></th>\n",
       "      <th></th>\n",
       "      <th></th>\n",
       "    </tr>\n",
       "  </thead>\n",
       "  <tbody>\n",
       "    <tr>\n",
       "      <th>209</th>\n",
       "      <td>Lenovo</td>\n",
       "      <td>Legion Y520-15IKBN</td>\n",
       "      <td>Gaming</td>\n",
       "      <td>15.6</td>\n",
       "      <td>Full HD 1920x1080</td>\n",
       "      <td>Intel Core i7 7700HQ 2.8GHz</td>\n",
       "      <td>16GB</td>\n",
       "      <td>512GB SSD</td>\n",
       "      <td>Nvidia GeForce GTX 1060</td>\n",
       "      <td>No OS</td>\n",
       "      <td>2.4kg</td>\n",
       "    </tr>\n",
       "    <tr>\n",
       "      <th>1281</th>\n",
       "      <td>Acer</td>\n",
       "      <td>Aspire ES1-531</td>\n",
       "      <td>Notebook</td>\n",
       "      <td>15.6</td>\n",
       "      <td>1366x768</td>\n",
       "      <td>Intel Celeron Dual Core N3060 1.6GHz</td>\n",
       "      <td>4GB</td>\n",
       "      <td>500GB HDD</td>\n",
       "      <td>Intel HD Graphics 400</td>\n",
       "      <td>Linux</td>\n",
       "      <td>2.4kg</td>\n",
       "    </tr>\n",
       "    <tr>\n",
       "      <th>1168</th>\n",
       "      <td>Lenovo</td>\n",
       "      <td>V110-15ISK (i3-6006U/4GB/1TB/No</td>\n",
       "      <td>Notebook</td>\n",
       "      <td>15.6</td>\n",
       "      <td>1366x768</td>\n",
       "      <td>Intel Core i3 6006U 2.0GHz</td>\n",
       "      <td>4GB</td>\n",
       "      <td>1TB HDD</td>\n",
       "      <td>Intel HD Graphics 520</td>\n",
       "      <td>No OS</td>\n",
       "      <td>1.9kg</td>\n",
       "    </tr>\n",
       "    <tr>\n",
       "      <th>1231</th>\n",
       "      <td>Dell</td>\n",
       "      <td>Inspiron 7579</td>\n",
       "      <td>2 in 1 Convertible</td>\n",
       "      <td>15.6</td>\n",
       "      <td>IPS Panel Full HD / Touchscreen 1920x1080</td>\n",
       "      <td>Intel Core i5 7200U 2.5GHz</td>\n",
       "      <td>8GB</td>\n",
       "      <td>256GB SSD</td>\n",
       "      <td>Intel HD Graphics 620</td>\n",
       "      <td>Windows 10</td>\n",
       "      <td>2.191kg</td>\n",
       "    </tr>\n",
       "    <tr>\n",
       "      <th>1020</th>\n",
       "      <td>HP</td>\n",
       "      <td>ProBook 640</td>\n",
       "      <td>Notebook</td>\n",
       "      <td>14.0</td>\n",
       "      <td>Full HD 1920x1080</td>\n",
       "      <td>Intel Core i5 7200U 2.5GHz</td>\n",
       "      <td>4GB</td>\n",
       "      <td>256GB SSD</td>\n",
       "      <td>Intel HD Graphics 620</td>\n",
       "      <td>Windows 10</td>\n",
       "      <td>1.95kg</td>\n",
       "    </tr>\n",
       "  </tbody>\n",
       "</table>\n",
       "</div>"
      ],
      "text/plain": [
       "          Company                          Product            TypeName  \\\n",
       "laptop_ID                                                                \n",
       "209        Lenovo               Legion Y520-15IKBN              Gaming   \n",
       "1281         Acer                   Aspire ES1-531            Notebook   \n",
       "1168       Lenovo  V110-15ISK (i3-6006U/4GB/1TB/No            Notebook   \n",
       "1231         Dell                    Inspiron 7579  2 in 1 Convertible   \n",
       "1020           HP                      ProBook 640            Notebook   \n",
       "\n",
       "           Inches                           ScreenResolution  \\\n",
       "laptop_ID                                                      \n",
       "209          15.6                          Full HD 1920x1080   \n",
       "1281         15.6                                   1366x768   \n",
       "1168         15.6                                   1366x768   \n",
       "1231         15.6  IPS Panel Full HD / Touchscreen 1920x1080   \n",
       "1020         14.0                          Full HD 1920x1080   \n",
       "\n",
       "                                            Cpu   Ram     Memory  \\\n",
       "laptop_ID                                                          \n",
       "209                 Intel Core i7 7700HQ 2.8GHz  16GB  512GB SSD   \n",
       "1281       Intel Celeron Dual Core N3060 1.6GHz   4GB  500GB HDD   \n",
       "1168                 Intel Core i3 6006U 2.0GHz   4GB    1TB HDD   \n",
       "1231                 Intel Core i5 7200U 2.5GHz   8GB  256GB SSD   \n",
       "1020                 Intel Core i5 7200U 2.5GHz   4GB  256GB SSD   \n",
       "\n",
       "                               Gpu       OpSys   Weight  \n",
       "laptop_ID                                                \n",
       "209        Nvidia GeForce GTX 1060       No OS    2.4kg  \n",
       "1281         Intel HD Graphics 400       Linux    2.4kg  \n",
       "1168         Intel HD Graphics 520       No OS    1.9kg  \n",
       "1231         Intel HD Graphics 620  Windows 10  2.191kg  \n",
       "1020         Intel HD Graphics 620  Windows 10   1.95kg  "
      ]
     },
     "execution_count": 51,
     "metadata": {},
     "output_type": "execute_result"
    }
   ],
   "source": [
    "X_pred = pd.read_csv(\"./data/test.csv\", index_col = 'laptop_ID')\n",
    "X_pred.head()"
   ]
  },
  {
   "cell_type": "markdown",
   "id": "b54d8da8",
   "metadata": {},
   "source": [
    "- Tratamiento columnas Ram y Weight"
   ]
  },
  {
   "cell_type": "code",
   "execution_count": 52,
   "id": "5c326ca3",
   "metadata": {},
   "outputs": [],
   "source": [
    "X_pred['ram_GB']=X_pred.Ram.str.replace(\"GB\", \"\").astype(int)\n",
    "X_pred['weight_kg']=X_pred.Weight.str.replace(\"kg\", \"\").astype(float)"
   ]
  },
  {
   "cell_type": "markdown",
   "id": "c78c74b1",
   "metadata": {},
   "source": [
    "- Tratamiento columna ScreenResolution"
   ]
  },
  {
   "cell_type": "code",
   "execution_count": 53,
   "id": "01b0cf2d",
   "metadata": {},
   "outputs": [],
   "source": [
    "lista = []\n",
    "for x in X_pred['ScreenResolution']:\n",
    "    a = x.split(\" \")\n",
    "    b = a[-1].split('x')\n",
    "    c = int(b[0])*int(b[1])\n",
    "    lista.append(c)\n",
    "\n",
    "X_pred['pixel'] = lista"
   ]
  },
  {
   "cell_type": "markdown",
   "id": "28e043b3",
   "metadata": {},
   "source": [
    "- Tratamiento columna Company"
   ]
  },
  {
   "cell_type": "code",
   "execution_count": 58,
   "id": "54ade0e1",
   "metadata": {},
   "outputs": [],
   "source": [
    "X_pred.loc[X_pred['Company'] == 'Samsung', 'Company'] = 'Otros'"
   ]
  },
  {
   "cell_type": "code",
   "execution_count": 61,
   "id": "021fe6d2",
   "metadata": {},
   "outputs": [],
   "source": [
    "a = X_pred.Company.unique()\n",
    "lista_company_pred = []\n",
    "for x in a:\n",
    "    lista_company_pred.append(x)"
   ]
  },
  {
   "cell_type": "code",
   "execution_count": 59,
   "id": "73516000",
   "metadata": {},
   "outputs": [
    {
     "data": {
      "text/plain": [
       "Company\n",
       "Dell         100\n",
       "Lenovo        95\n",
       "HP            80\n",
       "Asus          37\n",
       "Acer          29\n",
       "MSI           17\n",
       "Toshiba       14\n",
       "Otros          4\n",
       "Apple          4\n",
       "Vero           2\n",
       "LG             2\n",
       "Mediacom       1\n",
       "Razer          1\n",
       "Fujitsu        1\n",
       "Google         1\n",
       "Xiaomi         1\n",
       "Chuwi          1\n",
       "Microsoft      1\n",
       "Name: count, dtype: int64"
      ]
     },
     "execution_count": 59,
     "metadata": {},
     "output_type": "execute_result"
    }
   ],
   "source": [
    "X_pred.Company.value_counts()"
   ]
  },
  {
   "cell_type": "code",
   "execution_count": 62,
   "id": "e0fc6797",
   "metadata": {},
   "outputs": [
    {
     "name": "stderr",
     "output_type": "stream",
     "text": [
      "C:\\Users\\MARTA\\AppData\\Local\\Temp\\ipykernel_18792\\585093429.py:3: FutureWarning: Series.__getitem__ treating keys as positions is deprecated. In a future version, integer keys will always be treated as labels (consistent with DataFrame behavior). To access a value by position, use `ser.iloc[pos]`\n",
      "  if X_pred.loc[X_pred['Company'] == company, 'Company'].value_counts()[0] < 4:\n",
      "C:\\Users\\MARTA\\AppData\\Local\\Temp\\ipykernel_18792\\585093429.py:3: FutureWarning: Series.__getitem__ treating keys as positions is deprecated. In a future version, integer keys will always be treated as labels (consistent with DataFrame behavior). To access a value by position, use `ser.iloc[pos]`\n",
      "  if X_pred.loc[X_pred['Company'] == company, 'Company'].value_counts()[0] < 4:\n",
      "C:\\Users\\MARTA\\AppData\\Local\\Temp\\ipykernel_18792\\585093429.py:3: FutureWarning: Series.__getitem__ treating keys as positions is deprecated. In a future version, integer keys will always be treated as labels (consistent with DataFrame behavior). To access a value by position, use `ser.iloc[pos]`\n",
      "  if X_pred.loc[X_pred['Company'] == company, 'Company'].value_counts()[0] < 4:\n",
      "C:\\Users\\MARTA\\AppData\\Local\\Temp\\ipykernel_18792\\585093429.py:3: FutureWarning: Series.__getitem__ treating keys as positions is deprecated. In a future version, integer keys will always be treated as labels (consistent with DataFrame behavior). To access a value by position, use `ser.iloc[pos]`\n",
      "  if X_pred.loc[X_pred['Company'] == company, 'Company'].value_counts()[0] < 4:\n",
      "C:\\Users\\MARTA\\AppData\\Local\\Temp\\ipykernel_18792\\585093429.py:3: FutureWarning: Series.__getitem__ treating keys as positions is deprecated. In a future version, integer keys will always be treated as labels (consistent with DataFrame behavior). To access a value by position, use `ser.iloc[pos]`\n",
      "  if X_pred.loc[X_pred['Company'] == company, 'Company'].value_counts()[0] < 4:\n",
      "C:\\Users\\MARTA\\AppData\\Local\\Temp\\ipykernel_18792\\585093429.py:3: FutureWarning: Series.__getitem__ treating keys as positions is deprecated. In a future version, integer keys will always be treated as labels (consistent with DataFrame behavior). To access a value by position, use `ser.iloc[pos]`\n",
      "  if X_pred.loc[X_pred['Company'] == company, 'Company'].value_counts()[0] < 4:\n",
      "C:\\Users\\MARTA\\AppData\\Local\\Temp\\ipykernel_18792\\585093429.py:3: FutureWarning: Series.__getitem__ treating keys as positions is deprecated. In a future version, integer keys will always be treated as labels (consistent with DataFrame behavior). To access a value by position, use `ser.iloc[pos]`\n",
      "  if X_pred.loc[X_pred['Company'] == company, 'Company'].value_counts()[0] < 4:\n",
      "C:\\Users\\MARTA\\AppData\\Local\\Temp\\ipykernel_18792\\585093429.py:3: FutureWarning: Series.__getitem__ treating keys as positions is deprecated. In a future version, integer keys will always be treated as labels (consistent with DataFrame behavior). To access a value by position, use `ser.iloc[pos]`\n",
      "  if X_pred.loc[X_pred['Company'] == company, 'Company'].value_counts()[0] < 4:\n",
      "C:\\Users\\MARTA\\AppData\\Local\\Temp\\ipykernel_18792\\585093429.py:3: FutureWarning: Series.__getitem__ treating keys as positions is deprecated. In a future version, integer keys will always be treated as labels (consistent with DataFrame behavior). To access a value by position, use `ser.iloc[pos]`\n",
      "  if X_pred.loc[X_pred['Company'] == company, 'Company'].value_counts()[0] < 4:\n",
      "C:\\Users\\MARTA\\AppData\\Local\\Temp\\ipykernel_18792\\585093429.py:3: FutureWarning: Series.__getitem__ treating keys as positions is deprecated. In a future version, integer keys will always be treated as labels (consistent with DataFrame behavior). To access a value by position, use `ser.iloc[pos]`\n",
      "  if X_pred.loc[X_pred['Company'] == company, 'Company'].value_counts()[0] < 4:\n",
      "C:\\Users\\MARTA\\AppData\\Local\\Temp\\ipykernel_18792\\585093429.py:3: FutureWarning: Series.__getitem__ treating keys as positions is deprecated. In a future version, integer keys will always be treated as labels (consistent with DataFrame behavior). To access a value by position, use `ser.iloc[pos]`\n",
      "  if X_pred.loc[X_pred['Company'] == company, 'Company'].value_counts()[0] < 4:\n",
      "C:\\Users\\MARTA\\AppData\\Local\\Temp\\ipykernel_18792\\585093429.py:3: FutureWarning: Series.__getitem__ treating keys as positions is deprecated. In a future version, integer keys will always be treated as labels (consistent with DataFrame behavior). To access a value by position, use `ser.iloc[pos]`\n",
      "  if X_pred.loc[X_pred['Company'] == company, 'Company'].value_counts()[0] < 4:\n",
      "C:\\Users\\MARTA\\AppData\\Local\\Temp\\ipykernel_18792\\585093429.py:3: FutureWarning: Series.__getitem__ treating keys as positions is deprecated. In a future version, integer keys will always be treated as labels (consistent with DataFrame behavior). To access a value by position, use `ser.iloc[pos]`\n",
      "  if X_pred.loc[X_pred['Company'] == company, 'Company'].value_counts()[0] < 4:\n",
      "C:\\Users\\MARTA\\AppData\\Local\\Temp\\ipykernel_18792\\585093429.py:3: FutureWarning: Series.__getitem__ treating keys as positions is deprecated. In a future version, integer keys will always be treated as labels (consistent with DataFrame behavior). To access a value by position, use `ser.iloc[pos]`\n",
      "  if X_pred.loc[X_pred['Company'] == company, 'Company'].value_counts()[0] < 4:\n",
      "C:\\Users\\MARTA\\AppData\\Local\\Temp\\ipykernel_18792\\585093429.py:3: FutureWarning: Series.__getitem__ treating keys as positions is deprecated. In a future version, integer keys will always be treated as labels (consistent with DataFrame behavior). To access a value by position, use `ser.iloc[pos]`\n",
      "  if X_pred.loc[X_pred['Company'] == company, 'Company'].value_counts()[0] < 4:\n",
      "C:\\Users\\MARTA\\AppData\\Local\\Temp\\ipykernel_18792\\585093429.py:3: FutureWarning: Series.__getitem__ treating keys as positions is deprecated. In a future version, integer keys will always be treated as labels (consistent with DataFrame behavior). To access a value by position, use `ser.iloc[pos]`\n",
      "  if X_pred.loc[X_pred['Company'] == company, 'Company'].value_counts()[0] < 4:\n",
      "C:\\Users\\MARTA\\AppData\\Local\\Temp\\ipykernel_18792\\585093429.py:3: FutureWarning: Series.__getitem__ treating keys as positions is deprecated. In a future version, integer keys will always be treated as labels (consistent with DataFrame behavior). To access a value by position, use `ser.iloc[pos]`\n",
      "  if X_pred.loc[X_pred['Company'] == company, 'Company'].value_counts()[0] < 4:\n",
      "C:\\Users\\MARTA\\AppData\\Local\\Temp\\ipykernel_18792\\585093429.py:3: FutureWarning: Series.__getitem__ treating keys as positions is deprecated. In a future version, integer keys will always be treated as labels (consistent with DataFrame behavior). To access a value by position, use `ser.iloc[pos]`\n",
      "  if X_pred.loc[X_pred['Company'] == company, 'Company'].value_counts()[0] < 4:\n"
     ]
    }
   ],
   "source": [
    "otros = []\n",
    "for company in lista_company_pred:\n",
    "    if X_pred.loc[X_pred['Company'] == company, 'Company'].value_counts()[0] < 4:\n",
    "        otros.append(company)"
   ]
  },
  {
   "cell_type": "code",
   "execution_count": null,
   "id": "6667f53c",
   "metadata": {},
   "outputs": [],
   "source": []
  },
  {
   "cell_type": "code",
   "execution_count": 63,
   "id": "2baa9a2d",
   "metadata": {},
   "outputs": [],
   "source": [
    "for x in otros:\n",
    "    if x in X_pred['Company'].unique():\n",
    "        X_pred.loc[X_pred['Company'] == x, 'Company'] = 'Otros'"
   ]
  },
  {
   "cell_type": "code",
   "execution_count": 64,
   "id": "78686165",
   "metadata": {},
   "outputs": [
    {
     "data": {
      "text/plain": [
       "Company\n",
       "Dell       100\n",
       "Lenovo      95\n",
       "HP          80\n",
       "Asus        37\n",
       "Acer        29\n",
       "MSI         17\n",
       "Otros       15\n",
       "Toshiba     14\n",
       "Apple        4\n",
       "Name: count, dtype: int64"
      ]
     },
     "execution_count": 64,
     "metadata": {},
     "output_type": "execute_result"
    }
   ],
   "source": [
    "X_pred.Company.value_counts()"
   ]
  },
  {
   "cell_type": "markdown",
   "id": "9e74b244",
   "metadata": {},
   "source": [
    "- Tratamiento GPU"
   ]
  },
  {
   "cell_type": "code",
   "execution_count": 65,
   "id": "6a769830",
   "metadata": {},
   "outputs": [
    {
     "data": {
      "text/plain": [
       "Gpu_new\n",
       "Intel     213\n",
       "Nvidia    116\n",
       "AMD        61\n",
       "ARM         1\n",
       "Name: count, dtype: int64"
      ]
     },
     "execution_count": 65,
     "metadata": {},
     "output_type": "execute_result"
    }
   ],
   "source": [
    "lista = []\n",
    "for x in X_pred['Gpu']:\n",
    "    a = x.split(\" \")[0]\n",
    "    lista.append(a)\n",
    "\n",
    "X_pred['Gpu_new'] = lista\n",
    "X_pred.Gpu_new.value_counts()"
   ]
  },
  {
   "cell_type": "code",
   "execution_count": 66,
   "id": "f9c030c8",
   "metadata": {},
   "outputs": [
    {
     "data": {
      "text/plain": [
       "Gpu_new\n",
       "Intel     213\n",
       "Nvidia    117\n",
       "AMD        61\n",
       "Name: count, dtype: int64"
      ]
     },
     "execution_count": 66,
     "metadata": {},
     "output_type": "execute_result"
    }
   ],
   "source": [
    "X_pred.loc[X_pred['Gpu_new'] == 'ARM', 'Gpu_new'] = 'Nvidia'\n",
    "X_pred.Gpu_new.value_counts()"
   ]
  },
  {
   "cell_type": "code",
   "execution_count": 67,
   "id": "3325ddc1",
   "metadata": {},
   "outputs": [
    {
     "data": {
      "text/plain": [
       "TypeName\n",
       "Notebook              218\n",
       "Gaming                 62\n",
       "Ultrabook              55\n",
       "2 in 1 Convertible     41\n",
       "Workstation             9\n",
       "Netbook                 6\n",
       "Name: count, dtype: int64"
      ]
     },
     "execution_count": 67,
     "metadata": {},
     "output_type": "execute_result"
    }
   ],
   "source": [
    "X_pred.TypeName.value_counts()"
   ]
  },
  {
   "cell_type": "code",
   "execution_count": 69,
   "id": "c8ad0a6f",
   "metadata": {},
   "outputs": [
    {
     "data": {
      "text/plain": [
       "OpSys\n",
       "Windows 10      331\n",
       "No OS            22\n",
       "Windows 7        16\n",
       "Linux            14\n",
       "Chrome OS         3\n",
       "macOS             2\n",
       "Mac OS X          2\n",
       "Windows 10 S      1\n",
       "Name: count, dtype: int64"
      ]
     },
     "execution_count": 69,
     "metadata": {},
     "output_type": "execute_result"
    }
   ],
   "source": [
    "X_pred.OpSys.value_counts()"
   ]
  },
  {
   "cell_type": "code",
   "execution_count": 70,
   "id": "13727d47",
   "metadata": {},
   "outputs": [
    {
     "data": {
      "text/plain": [
       "OpSys\n",
       "Windows 10      331\n",
       "No OS            22\n",
       "Windows 7        16\n",
       "Linux            14\n",
       "macOS             4\n",
       "Chrome OS         3\n",
       "Windows 10 S      1\n",
       "Name: count, dtype: int64"
      ]
     },
     "execution_count": 70,
     "metadata": {},
     "output_type": "execute_result"
    }
   ],
   "source": [
    "X_pred.loc[X_pred['OpSys'] == 'Mac OS X', 'OpSys'] = 'macOS'\n",
    "X_pred.OpSys.value_counts()"
   ]
  },
  {
   "cell_type": "markdown",
   "id": "6c5ff0f2",
   "metadata": {},
   "source": [
    "- OneHot Encoding para las columnas Company, TypeName y OpSys"
   ]
  },
  {
   "cell_type": "code",
   "execution_count": 71,
   "id": "6803acf2",
   "metadata": {},
   "outputs": [],
   "source": [
    "X_pred = pd.get_dummies(X_pred, columns = ['Company'], dtype = int)\n",
    "X_pred = pd.get_dummies(X_pred, columns = ['TypeName'], dtype = int)\n",
    "X_pred = pd.get_dummies(X_pred, columns = ['OpSys'], dtype = int)\n",
    "X_pred = pd.get_dummies(X_pred, columns = ['Gpu_new'], dtype = int)"
   ]
  },
  {
   "cell_type": "markdown",
   "id": "7edc3e6e",
   "metadata": {},
   "source": [
    "- Seleccion de features"
   ]
  },
  {
   "cell_type": "code",
   "execution_count": 72,
   "id": "1390026e",
   "metadata": {},
   "outputs": [
    {
     "data": {
      "text/plain": [
       "['Inches',\n",
       " 'ram_GB',\n",
       " 'weight_kg',\n",
       " 'pixel',\n",
       " 'Company_Acer',\n",
       " 'Company_Apple',\n",
       " 'Company_Asus',\n",
       " 'Company_Dell',\n",
       " 'Company_HP',\n",
       " 'Company_Lenovo',\n",
       " 'Company_MSI',\n",
       " 'Company_Otros',\n",
       " 'Company_Toshiba',\n",
       " 'TypeName_2 in 1 Convertible',\n",
       " 'TypeName_Gaming',\n",
       " 'TypeName_Netbook',\n",
       " 'TypeName_Notebook',\n",
       " 'TypeName_Ultrabook',\n",
       " 'TypeName_Workstation',\n",
       " 'OpSys_Chrome OS',\n",
       " 'OpSys_Linux',\n",
       " 'OpSys_No OS',\n",
       " 'OpSys_Windows 10',\n",
       " 'OpSys_Windows 10 S',\n",
       " 'OpSys_Windows 7',\n",
       " 'OpSys_macOS',\n",
       " 'Gpu_new_AMD',\n",
       " 'Gpu_new_Intel',\n",
       " 'Gpu_new_Nvidia']"
      ]
     },
     "execution_count": 72,
     "metadata": {},
     "output_type": "execute_result"
    }
   ],
   "source": [
    "feat_num = X_pred.describe().columns.to_list()\n",
    "feat_num"
   ]
  },
  {
   "cell_type": "code",
   "execution_count": 73,
   "id": "056daf9d",
   "metadata": {},
   "outputs": [
    {
     "data": {
      "text/plain": [
       "29"
      ]
     },
     "execution_count": 73,
     "metadata": {},
     "output_type": "execute_result"
    }
   ],
   "source": [
    "len(feat_num)"
   ]
  },
  {
   "cell_type": "code",
   "execution_count": 74,
   "id": "c01412cb",
   "metadata": {},
   "outputs": [
    {
     "data": {
      "text/plain": [
       "array([1317.64155196,  355.63041461,  346.26507202,  882.14825015,\n",
       "        936.63790643,  327.64355496,  701.08516767,  917.39985762,\n",
       "       1150.31519122,  516.82572416, 2344.00827873, 1380.70067977,\n",
       "        524.00864553, 1502.87504876,  775.53061765,  610.90422577,\n",
       "       2988.36271348, 1450.23562442, 1996.84232332,  631.12822663,\n",
       "       1468.49040529,  335.31150145,  787.89132957,  954.257865  ,\n",
       "        555.48223325,  789.69638075,  691.54691448, 1150.3964677 ,\n",
       "       2822.49636978, 1145.33612563, 2089.48767682,  448.23325511,\n",
       "        859.6593395 , 3166.80608359, 1951.42469561, 1939.9579742 ,\n",
       "        561.24246168, 1251.09258105,  836.75805663, 1828.4186745 ,\n",
       "        590.83002902,  925.85803094,  604.41788054, 1447.90712968,\n",
       "       1511.65383873, 1110.36869277, 1081.65093866,  526.63916407,\n",
       "        730.07701769,  571.55594667, 1560.73421446,  780.07657335,\n",
       "       1066.42330603,  331.6752293 , 1989.03191095, 1795.1240798 ,\n",
       "        620.25976293, 1002.9020156 , 1053.13176075,  744.87029417,\n",
       "       2398.49467597, 2187.17978811,  445.90520693, 2036.71107675,\n",
       "       1110.26612776, 1389.87604447,  946.49409752, 1068.49249199,\n",
       "       1732.01147819, 1849.53558209,  745.10427935,  459.29700877,\n",
       "       1123.40209026, 1720.38778011, 1038.34879952, 1103.99812399,\n",
       "       1257.78187714, 1800.90326294, 1468.49040529, 1363.50095955,\n",
       "       1121.35591477, 1028.68305315, 2358.5139875 , 1664.37970567,\n",
       "       1452.78341621, 2070.24340137,  549.77220697,  906.80604472,\n",
       "        851.48165227,  777.65954743,  730.85898963, 1824.00840775,\n",
       "        949.23709928, 3908.25905399, 2119.41593834, 1326.72281893,\n",
       "        748.6158743 ,  613.82904176, 1016.41820222,  886.20921592,\n",
       "       1823.57176247,  576.33090351, 1758.01078697,  949.23709928,\n",
       "        352.78890202, 1763.79490293, 2380.87652878,  610.93271331,\n",
       "        372.75344978, 1109.5179358 , 1380.70067977,  724.75754747,\n",
       "        640.52176846,  592.797948  ,  905.0368569 ,  719.30785197,\n",
       "        549.54509204, 1190.1126133 , 2288.74831297, 1211.05480439,\n",
       "        780.07657335,  528.38284508,  975.6592175 , 1633.16598827,\n",
       "       1666.48307692,  346.26507202, 1897.94145819, 1038.34879952,\n",
       "        608.80154238,  850.69909104, 2020.95031108, 1722.48899792,\n",
       "       1436.11178413, 1824.00840775,  655.79448757, 2507.331354  ,\n",
       "       1202.92679268,  896.41902783, 1631.79328571,  637.66662186,\n",
       "       1622.18496363,  715.12204258, 1440.93036406,  794.22313818,\n",
       "       1819.76870549, 1211.05480439, 1873.29715808,  723.37733522,\n",
       "       1502.71964168,  886.20921592,  836.75805663,  817.23226643,\n",
       "        609.83281045, 1176.8933917 ,  966.72646278,  789.69638075,\n",
       "       1038.34879952,  901.87049484,  690.21587188,  448.23325511,\n",
       "        606.94973595, 2266.83680193, 1110.36869277,  663.59626266,\n",
       "       1047.6639735 , 1167.840492  , 2706.12220485,  259.13118464,\n",
       "        836.75805663,  901.79774015, 1173.30486962,  606.94973595,\n",
       "        477.42510367,  795.02368851, 1649.45394028,  608.80154238,\n",
       "       1038.34879952,  341.45776801, 1525.28034627, 1447.90712968,\n",
       "        351.82571027, 6006.64772875, 1096.57410921,  947.783548  ,\n",
       "        918.88230641, 1936.91961499,  522.04354611,  958.94269931,\n",
       "       1102.72392603, 1067.68511094,  748.52768013, 1304.4653887 ,\n",
       "        448.07466232,  750.65688048,  555.60204846,  462.97614929,\n",
       "       1470.46582246, 1007.41312722, 1032.14680447,  475.69345913,\n",
       "        975.6592175 , 2210.60646597, 1475.70462191,  726.50088115,\n",
       "        501.6749626 ,  692.05607265, 2088.46013057,  448.23325511,\n",
       "       1472.64939718,  324.79455057, 1274.40982858,  828.62780387,\n",
       "        597.05536132,  855.81917969,  508.61132158, 1555.36174733,\n",
       "       1110.08240392,  545.11993042,  671.46530478,  663.53119649,\n",
       "        377.50664298, 1440.93036406, 1257.78187714, 1233.62309502,\n",
       "        426.74907753,  888.88794127,  346.26507202, 1110.36869277,\n",
       "        541.91519572, 1979.85886705,  594.18732244,  270.74309711,\n",
       "        901.87049484, 1132.31188139,  476.7646869 ,  723.37733522,\n",
       "       2710.15221705,  949.23709928, 1213.0153256 , 1023.05586672,\n",
       "       1683.40310787,  457.58240307, 1328.66455037, 1185.65950331,\n",
       "        870.61816585, 2201.72124861, 1036.81974031,  938.25668595,\n",
       "       1067.68511094, 1979.85886705, 1360.66974784,  613.90452321,\n",
       "       1957.53751047, 1013.53773679, 1957.53751047, 2571.48777379,\n",
       "        759.43657735,  443.12701348, 1493.23054497, 1202.92679268,\n",
       "        468.54545577,  368.40571589, 1210.36441782,  468.16288114,\n",
       "       2211.66725985, 2408.77574883, 1183.64824059,  403.86917332,\n",
       "       1469.5384831 , 1528.81871074,  606.94973595,  539.26397963,\n",
       "        890.29845398, 1511.83466826, 1588.01908155,  940.31247187,\n",
       "        571.55594667,  630.38655833, 1145.33612563,  740.71598028,\n",
       "        722.65716343, 1114.29191182, 1124.71963791,  655.31490544,\n",
       "        560.61220234, 1301.16061465,  968.87654937, 2366.4044528 ,\n",
       "       3166.80608359,  607.47968227, 1121.35591477, 1358.97126543,\n",
       "       1469.51161   , 1130.9996108 ,  857.97543179, 1351.35802727,\n",
       "       1063.1645892 ,  949.23709928, 3867.57867587,  861.49157662,\n",
       "       1878.73746878,  324.79455057,  386.82370134,  468.16288114,\n",
       "        734.99209759, 1956.35448589, 1805.03164173,  832.24768422,\n",
       "       1885.59652022, 1569.34937694,  271.76487404,  633.01408474,\n",
       "        515.96295153,  555.48223325,  836.75805663,  664.01769823,\n",
       "       2302.73743702,  710.85147163, 1137.75400904,  739.9364537 ,\n",
       "       1555.36174733, 1779.72068908, 1248.26316597,  930.40604125,\n",
       "       1365.75777195, 2068.73244139, 2080.01994873,  499.01959422,\n",
       "        453.22770068, 2261.25996499,  476.7646869 , 1007.41312722,\n",
       "       1956.35448589,  719.06219292,  345.84117933,  886.20921592,\n",
       "        476.7646869 ,  607.47968227, 1087.66947025,  950.96001463,\n",
       "        480.70778815,  541.91519572, 1802.12251993, 1307.03039168,\n",
       "       1683.40310787,  907.623136  ,  538.08441555, 1103.99812399,\n",
       "        644.66732097,  660.82466799, 1059.06278223,  947.783548  ,\n",
       "        683.72427437,  610.90422577,  759.099091  ,  271.76487404,\n",
       "       1730.68538827,  663.00683079, 1794.18065583, 1946.7854053 ,\n",
       "        561.24246168,  748.6158743 ,  758.85844554,  906.27360978,\n",
       "       1181.98246373, 1833.97908737, 1828.4186745 , 3753.87044301,\n",
       "        685.80033932, 1919.85877572, 1852.12344898, 1369.77663993,\n",
       "        382.62694798, 1225.59884957,  905.0368569 , 2050.28154561,\n",
       "        722.65716343, 1065.26963334,  406.5010268 ,  606.99826782,\n",
       "        410.54914556,  975.6592175 , 1435.23532308,  448.23325511,\n",
       "       1720.38778011, 1004.03257926, 2073.9237222 , 1015.8066765 ,\n",
       "       2159.13516371,  685.80033932, 1351.88936749])"
      ]
     },
     "execution_count": 74,
     "metadata": {},
     "output_type": "execute_result"
    }
   ],
   "source": [
    "predictions_submit = cat_grid.best_estimator_.predict(X_pred[feat_num])\n",
    "predictions_submit"
   ]
  },
  {
   "cell_type": "code",
   "execution_count": 75,
   "id": "0a674999",
   "metadata": {},
   "outputs": [],
   "source": [
    "submission = pd.DataFrame({'laptop_ID': X_pred.index, 'Price_in_euros': predictions_submit})"
   ]
  },
  {
   "cell_type": "code",
   "execution_count": 76,
   "id": "6d366963",
   "metadata": {},
   "outputs": [
    {
     "data": {
      "text/html": [
       "<div>\n",
       "<style scoped>\n",
       "    .dataframe tbody tr th:only-of-type {\n",
       "        vertical-align: middle;\n",
       "    }\n",
       "\n",
       "    .dataframe tbody tr th {\n",
       "        vertical-align: top;\n",
       "    }\n",
       "\n",
       "    .dataframe thead th {\n",
       "        text-align: right;\n",
       "    }\n",
       "</style>\n",
       "<table border=\"1\" class=\"dataframe\">\n",
       "  <thead>\n",
       "    <tr style=\"text-align: right;\">\n",
       "      <th></th>\n",
       "      <th>laptop_ID</th>\n",
       "      <th>Price_in_euros</th>\n",
       "    </tr>\n",
       "  </thead>\n",
       "  <tbody>\n",
       "    <tr>\n",
       "      <th>0</th>\n",
       "      <td>209</td>\n",
       "      <td>1317.641552</td>\n",
       "    </tr>\n",
       "    <tr>\n",
       "      <th>1</th>\n",
       "      <td>1281</td>\n",
       "      <td>355.630415</td>\n",
       "    </tr>\n",
       "    <tr>\n",
       "      <th>2</th>\n",
       "      <td>1168</td>\n",
       "      <td>346.265072</td>\n",
       "    </tr>\n",
       "    <tr>\n",
       "      <th>3</th>\n",
       "      <td>1231</td>\n",
       "      <td>882.148250</td>\n",
       "    </tr>\n",
       "    <tr>\n",
       "      <th>4</th>\n",
       "      <td>1020</td>\n",
       "      <td>936.637906</td>\n",
       "    </tr>\n",
       "  </tbody>\n",
       "</table>\n",
       "</div>"
      ],
      "text/plain": [
       "   laptop_ID  Price_in_euros\n",
       "0        209     1317.641552\n",
       "1       1281      355.630415\n",
       "2       1168      346.265072\n",
       "3       1231      882.148250\n",
       "4       1020      936.637906"
      ]
     },
     "execution_count": 76,
     "metadata": {},
     "output_type": "execute_result"
    }
   ],
   "source": [
    "submission.head()"
   ]
  },
  {
   "cell_type": "code",
   "execution_count": 77,
   "id": "592e91cb",
   "metadata": {},
   "outputs": [
    {
     "data": {
      "text/plain": [
       "(391, 2)"
      ]
     },
     "execution_count": 77,
     "metadata": {},
     "output_type": "execute_result"
    }
   ],
   "source": [
    "submission.shape"
   ]
  },
  {
   "cell_type": "code",
   "execution_count": 78,
   "id": "f90cd3c3",
   "metadata": {},
   "outputs": [],
   "source": [
    "sample = pd.read_csv(\"data/sample_submission.csv\")"
   ]
  },
  {
   "cell_type": "code",
   "execution_count": 79,
   "id": "99e2d652",
   "metadata": {},
   "outputs": [],
   "source": [
    "def chequeador(df_to_submit):\n",
    "    \"\"\"\n",
    "    Esta función se asegura de que tu submission tenga la forma requerida por Kaggle.\n",
    "    \n",
    "    Si es así, se guardará el dataframe en un `csv` y estará listo para subir a Kaggle.\n",
    "    \n",
    "    Si no, LEE EL MENSAJE Y HAZLE CASO.\n",
    "    \n",
    "    Si aún no:\n",
    "    - apaga tu ordenador, \n",
    "    - date una vuelta, \n",
    "    - enciendelo otra vez, \n",
    "    - abre este notebook y \n",
    "    - leelo todo de nuevo. \n",
    "    Todos nos merecemos una segunda oportunidad. También tú.\n",
    "    \"\"\"\n",
    "    if df_to_submit.shape == sample.shape:\n",
    "        if df_to_submit.columns.all() == sample.columns.all():\n",
    "            if df_to_submit.laptop_ID.all() == sample.laptop_ID.all():\n",
    "                print(\"You're ready to submit!\")\n",
    "                df_to_submit.to_csv(\"submission.csv\", index = False) #muy importante el index = False\n",
    "                urllib.request.urlretrieve(\"https://www.mihaileric.com/static/evaluation-meme-e0a350f278a36346e6d46b139b1d0da0-ed51e.jpg\", \"gfg.png\")     \n",
    "                img = Image.open(\"gfg.png\")\n",
    "                img.show()   \n",
    "            else:\n",
    "                print(\"Check the ids and try again\")\n",
    "        else:\n",
    "            print(\"Check the names of the columns and try again\")\n",
    "    else:\n",
    "        print(\"Check the number of rows and/or columns and try again\")\n",
    "        print(\"\\nMensaje secreto del TA: No me puedo creer que después de todo este notebook hayas hecho algún cambio en las filas de `test.csv`. Lloro.\")"
   ]
  },
  {
   "cell_type": "code",
   "execution_count": 80,
   "id": "2fe62259",
   "metadata": {},
   "outputs": [
    {
     "name": "stdout",
     "output_type": "stream",
     "text": [
      "You're ready to submit!\n"
     ]
    }
   ],
   "source": [
    "chequeador(submission)"
   ]
  }
 ],
 "metadata": {
  "kernelspec": {
   "display_name": "Python 3",
   "language": "python",
   "name": "python3"
  },
  "language_info": {
   "codemirror_mode": {
    "name": "ipython",
    "version": 3
   },
   "file_extension": ".py",
   "mimetype": "text/x-python",
   "name": "python",
   "nbconvert_exporter": "python",
   "pygments_lexer": "ipython3",
   "version": "3.12.10"
  }
 },
 "nbformat": 4,
 "nbformat_minor": 5
}
