{
 "cells": [
  {
   "cell_type": "markdown",
   "id": "ae05bd21-a3cf-4a1c-ab49-176e75b6e589",
   "metadata": {},
   "source": [
    "![buscar.png](./Data_piezas/buscar.png)"
   ]
  },
  {
   "cell_type": "markdown",
   "id": "e9e3eea8-3589-49f3-8c6a-a4c38f43507c",
   "metadata": {},
   "source": [
    "# Práctica Grupal: Diseño de Base de Datos"
   ]
  },
  {
   "cell_type": "markdown",
   "id": "11878b1a-7f50-405b-818d-8041555a0b22",
   "metadata": {},
   "source": [
    "## <center>¡Busca al Proveedor!</center>"
   ]
  },
  {
   "cell_type": "markdown",
   "id": "6dfc0771-ba21-4674-b1f4-922305c09957",
   "metadata": {},
   "source": [
    "Para la práctica grupal, hemos creado nuestra propia versión del clásico *\"Busca al asesino\"*.  \n",
    "Pero en este caso, el objetivo será **encontrar la información de un proveedor de un bote de pintura**.\n"
   ]
  },
  {
   "cell_type": "markdown",
   "id": "3ef54f7c-252e-454c-9b89-d5806d99e272",
   "metadata": {},
   "source": [
    "---"
   ]
  },
  {
   "cell_type": "markdown",
   "id": "34f00fdd-9d4b-4c33-8007-35124e51c85d",
   "metadata": {},
   "source": [
    "👫 *María* y *Juan* quieren pintar la habitación de invitados. Han comprado un **bote de pintura** por internet pero no les convence el *color*.\n",
    "\n",
    "📋 Para la devolución les solicitan que rellenen unos datos correspondientes al producto comprado pero solo tienen el **nombre del producto** y su **precio**.\n",
    "\n",
    "<center>\n",
    "<img src=\"./Data_piezas/buscar_2.png\" alt=\"Description\" width=\"90\" height=\"120\">\n",
    "</center>\n",
    "\n",
    "### Maria y Juan, necesitan encontrar el nombre del **proveedor** con su **dirección** y **ciudad**, la **fecha** en que compraron el producto y a que **categoría** pertenece el producto.\n",
    "\n",
    "\n",
    "### Lo único que saben es que el producto se llama **Pintura plástica blanca** y les ha costado **22.00**\n",
    "\n",
    "---"
   ]
  },
  {
   "cell_type": "markdown",
   "id": "e67687ba-eb4a-433c-a641-7ce435b9b4de",
   "metadata": {},
   "source": [
    "### <center> ¡Ven y ayuda a Juan y María a resolver este problema!</center>\n"
   ]
  },
  {
   "cell_type": "markdown",
   "id": "d9b91c55-687c-4965-b31c-6d86431a6a35",
   "metadata": {},
   "source": [
    "### Modelo de datos\n",
    "Primero hemos diseñado una base de datos sobre proveedores y piezas"
   ]
  },
  {
   "cell_type": "markdown",
   "id": "23391691-3014-4ef8-8043-b40b6a07ea27",
   "metadata": {},
   "source": [
    "![diseno.png](./Data_piezas/diseno.png)"
   ]
  },
  {
   "attachments": {},
   "cell_type": "markdown",
   "id": "c3c167d1-6e3a-4360-b073-ecbd0a608607",
   "metadata": {},
   "source": [
    "Luego, hemos creado nuestra propia base de datos basada en el **Modelo de Datos**, y la hemos guardado con el nombre **`proveedores_piezas.db`**.\n",
    "\n",
    "Para ello, utilizamos dos scripts:\n",
    "\n",
    "- **`creacion_tabla.py`**: encargado de la creación de la tabla de datos.\n",
    "- **`relleno_tabla.py`**: utilizado para completar la tabla con los datos necesarios."
   ]
  },
  {
   "cell_type": "code",
   "execution_count": 5,
   "id": "9d9773ef-169b-4aba-b4c9-b67f188f557e",
   "metadata": {},
   "outputs": [],
   "source": [
    "!python ./Scripts/creacion_tabla.py\n",
    "!python ./Scripts/relleno_tabla.py"
   ]
  },
  {
   "cell_type": "markdown",
   "id": "c6af07de-f1e9-433e-9cb2-f66206820cf1",
   "metadata": {},
   "source": [
    "## Usando nuestra base de datos, queremos ayudar a María y Juan "
   ]
  },
  {
   "cell_type": "code",
   "execution_count": 10,
   "id": "b2724fec-baa4-493c-b28d-2f4ad565247e",
   "metadata": {},
   "outputs": [],
   "source": [
    "import sqlite3\n",
    "import pandas as pd"
   ]
  },
  {
   "cell_type": "code",
   "execution_count": 11,
   "id": "04205333",
   "metadata": {},
   "outputs": [],
   "source": [
    "#Conexion a la base de datos\n",
    "conexion = sqlite3.connect(\"proveedores_piezas.db\")                        \n",
    "cursor = conexion.cursor()"
   ]
  },
  {
   "cell_type": "code",
   "execution_count": 17,
   "id": "fe64b032",
   "metadata": {},
   "outputs": [],
   "source": [
    "def sql_query(query):\n",
    "    cursor.execute(query) \n",
    "    ans = cursor.fetchall()\n",
    "    names = [d[0] for d in cursor.description]\n",
    "    df = pd.DataFrame(ans,columns=names)\n",
    "    return df"
   ]
  },
  {
   "cell_type": "markdown",
   "id": "e20d40b0",
   "metadata": {},
   "source": [
    "### Filtramos por precio `22.00`"
   ]
  },
  {
   "cell_type": "code",
   "execution_count": 13,
   "id": "b28f8be7",
   "metadata": {},
   "outputs": [
    {
     "data": {
      "text/html": [
       "<div>\n",
       "<style scoped>\n",
       "    .dataframe tbody tr th:only-of-type {\n",
       "        vertical-align: middle;\n",
       "    }\n",
       "\n",
       "    .dataframe tbody tr th {\n",
       "        vertical-align: top;\n",
       "    }\n",
       "\n",
       "    .dataframe thead th {\n",
       "        text-align: right;\n",
       "    }\n",
       "</style>\n",
       "<table border=\"1\" class=\"dataframe\">\n",
       "  <thead>\n",
       "    <tr style=\"text-align: right;\">\n",
       "      <th></th>\n",
       "      <th>CODIGO_PIEZA</th>\n",
       "      <th>NOMBRE_PIEZA</th>\n",
       "      <th>COLOR</th>\n",
       "      <th>PRECIO</th>\n",
       "      <th>CODIGO_CATEGORIA</th>\n",
       "    </tr>\n",
       "  </thead>\n",
       "  <tbody>\n",
       "    <tr>\n",
       "      <th>0</th>\n",
       "      <td>1008</td>\n",
       "      <td>Grava 20mm</td>\n",
       "      <td>Gris oscuro</td>\n",
       "      <td>22.0</td>\n",
       "      <td>207</td>\n",
       "    </tr>\n",
       "    <tr>\n",
       "      <th>1</th>\n",
       "      <td>1028</td>\n",
       "      <td>Pintura plástica blanca</td>\n",
       "      <td>Blanco mate</td>\n",
       "      <td>22.0</td>\n",
       "      <td>218</td>\n",
       "    </tr>\n",
       "  </tbody>\n",
       "</table>\n",
       "</div>"
      ],
      "text/plain": [
       "   CODIGO_PIEZA             NOMBRE_PIEZA        COLOR  PRECIO  \\\n",
       "0          1008               Grava 20mm  Gris oscuro    22.0   \n",
       "1          1028  Pintura plástica blanca  Blanco mate    22.0   \n",
       "\n",
       "   CODIGO_CATEGORIA  \n",
       "0               207  \n",
       "1               218  "
      ]
     },
     "execution_count": 13,
     "metadata": {},
     "output_type": "execute_result"
    }
   ],
   "source": [
    "query = '''   \n",
    "SELECT * \n",
    "FROM pieza \n",
    "WHERE precio == 22.00\n",
    "'''\n",
    "\n",
    "sql_query(query)\n"
   ]
  },
  {
   "cell_type": "markdown",
   "id": "1b9ace57",
   "metadata": {},
   "source": [
    "### ¡Encontramos dos productos!\n",
    "\n",
    "Nos quedamos con los datos de la **pintura blanca**.\n",
    "\n",
    "Vamos a buscar en primer lugar al **proveedor** con ayuda del **código de la pieza `1028`**."
   ]
  },
  {
   "cell_type": "code",
   "execution_count": 15,
   "id": "853f6f38",
   "metadata": {},
   "outputs": [
    {
     "data": {
      "text/html": [
       "<div>\n",
       "<style scoped>\n",
       "    .dataframe tbody tr th:only-of-type {\n",
       "        vertical-align: middle;\n",
       "    }\n",
       "\n",
       "    .dataframe tbody tr th {\n",
       "        vertical-align: top;\n",
       "    }\n",
       "\n",
       "    .dataframe thead th {\n",
       "        text-align: right;\n",
       "    }\n",
       "</style>\n",
       "<table border=\"1\" class=\"dataframe\">\n",
       "  <thead>\n",
       "    <tr style=\"text-align: right;\">\n",
       "      <th></th>\n",
       "      <th>CODIGO_PIEZA</th>\n",
       "      <th>NOMBRE_PIEZA</th>\n",
       "      <th>ID_PROVEEDOR</th>\n",
       "    </tr>\n",
       "  </thead>\n",
       "  <tbody>\n",
       "    <tr>\n",
       "      <th>0</th>\n",
       "      <td>1028</td>\n",
       "      <td>Pintura plástica blanca</td>\n",
       "      <td>28</td>\n",
       "    </tr>\n",
       "  </tbody>\n",
       "</table>\n",
       "</div>"
      ],
      "text/plain": [
       "   CODIGO_PIEZA             NOMBRE_PIEZA  ID_PROVEEDOR\n",
       "0          1028  Pintura plástica blanca            28"
      ]
     },
     "execution_count": 15,
     "metadata": {},
     "output_type": "execute_result"
    }
   ],
   "source": [
    "query = '''  \n",
    "SELECT a.codigo_pieza, a.nombre_pieza, b.id_proveedor\n",
    "FROM pieza AS a\n",
    "LEFT JOIN obtener_proveedor AS b\n",
    "ON a.codigo_pieza = b.codigo_pieza\n",
    "WHERE a.codigo_pieza = 1028\n",
    "'''\n",
    "sql_query(query)"
   ]
  },
  {
   "cell_type": "markdown",
   "id": "4bb89c05",
   "metadata": {},
   "source": [
    "### Con el **ID del proveedor** buscamos el **nombre** y la **dirección** que necesitan Maria y Juan"
   ]
  },
  {
   "cell_type": "code",
   "execution_count": 16,
   "id": "171c59c7",
   "metadata": {},
   "outputs": [
    {
     "data": {
      "text/html": [
       "<div>\n",
       "<style scoped>\n",
       "    .dataframe tbody tr th:only-of-type {\n",
       "        vertical-align: middle;\n",
       "    }\n",
       "\n",
       "    .dataframe tbody tr th {\n",
       "        vertical-align: top;\n",
       "    }\n",
       "\n",
       "    .dataframe thead th {\n",
       "        text-align: right;\n",
       "    }\n",
       "</style>\n",
       "<table border=\"1\" class=\"dataframe\">\n",
       "  <thead>\n",
       "    <tr style=\"text-align: right;\">\n",
       "      <th></th>\n",
       "      <th>NOMBRE</th>\n",
       "      <th>DIRECCION</th>\n",
       "      <th>CIUDAD</th>\n",
       "    </tr>\n",
       "  </thead>\n",
       "  <tbody>\n",
       "    <tr>\n",
       "      <th>0</th>\n",
       "      <td>La Pincelada Divertida</td>\n",
       "      <td>Calle Luz 36</td>\n",
       "      <td>León</td>\n",
       "    </tr>\n",
       "  </tbody>\n",
       "</table>\n",
       "</div>"
      ],
      "text/plain": [
       "                   NOMBRE     DIRECCION CIUDAD\n",
       "0  La Pincelada Divertida  Calle Luz 36   León"
      ]
     },
     "execution_count": 16,
     "metadata": {},
     "output_type": "execute_result"
    }
   ],
   "source": [
    "query = '''  \n",
    "SELECT nombre, direccion, ciudad\n",
    "FROM proveedores \n",
    "WHERE id_proveedor = 28\n",
    "'''\n",
    "sql_query(query)"
   ]
  },
  {
   "cell_type": "code",
   "execution_count": 32,
   "id": "c0c0285e-c009-402d-9c41-f2fa5fb829bb",
   "metadata": {},
   "outputs": [
    {
     "name": "stdout",
     "output_type": "stream",
     "text": [
      "El proveedor es: La Pincelada Divertida, con la dirección Calle Luz 36 en la ciudad de León.\n"
     ]
    }
   ],
   "source": [
    "df_proveedor = sql_query(query)\n",
    "print(f\"El proveedor es: {df_proveedor.NOMBRE.to_list()[0]}, \\\n",
    "con la dirección {df_proveedor.DIRECCION.to_list()[0]} \\\n",
    "en la ciudad de {df_proveedor.CIUDAD.to_list()[0]}.\")"
   ]
  },
  {
   "cell_type": "markdown",
   "id": "b30636e0",
   "metadata": {},
   "source": [
    "### Conocidos los datos del proveedor, solo nos queda saber la **categoria del producto** y la **fecha de compra**. \n",
    "Volvamos a utilizar el código de la pieza."
   ]
  },
  {
   "cell_type": "code",
   "execution_count": 33,
   "id": "2cdd75d6",
   "metadata": {},
   "outputs": [
    {
     "data": {
      "text/html": [
       "<div>\n",
       "<style scoped>\n",
       "    .dataframe tbody tr th:only-of-type {\n",
       "        vertical-align: middle;\n",
       "    }\n",
       "\n",
       "    .dataframe tbody tr th {\n",
       "        vertical-align: top;\n",
       "    }\n",
       "\n",
       "    .dataframe thead th {\n",
       "        text-align: right;\n",
       "    }\n",
       "</style>\n",
       "<table border=\"1\" class=\"dataframe\">\n",
       "  <thead>\n",
       "    <tr style=\"text-align: right;\">\n",
       "      <th></th>\n",
       "      <th>CODIGO_PIEZA</th>\n",
       "      <th>NOMBRE_PIEZA</th>\n",
       "      <th>COLOR</th>\n",
       "      <th>PRECIO</th>\n",
       "      <th>CODIGO_CATEGORIA</th>\n",
       "      <th>NOMBRE</th>\n",
       "      <th>CODIGO_CATEGORIA</th>\n",
       "    </tr>\n",
       "  </thead>\n",
       "  <tbody>\n",
       "    <tr>\n",
       "      <th>0</th>\n",
       "      <td>1028</td>\n",
       "      <td>Pintura plástica blanca</td>\n",
       "      <td>Blanco mate</td>\n",
       "      <td>22.0</td>\n",
       "      <td>218</td>\n",
       "      <td>Pinturas y recubrimientos</td>\n",
       "      <td>218</td>\n",
       "    </tr>\n",
       "  </tbody>\n",
       "</table>\n",
       "</div>"
      ],
      "text/plain": [
       "   CODIGO_PIEZA             NOMBRE_PIEZA        COLOR  PRECIO  \\\n",
       "0          1028  Pintura plástica blanca  Blanco mate    22.0   \n",
       "\n",
       "   CODIGO_CATEGORIA                     NOMBRE  CODIGO_CATEGORIA  \n",
       "0               218  Pinturas y recubrimientos               218  "
      ]
     },
     "execution_count": 33,
     "metadata": {},
     "output_type": "execute_result"
    }
   ],
   "source": [
    "query = '''   \n",
    "SELECT * \n",
    "FROM pieza AS a\n",
    "LEFT JOIN categoria AS b\n",
    "on a.codigo_categoria = b.codigo_categoria\n",
    "WHERE precio == 22.00 AND nombre_pieza LIKe '%pintura%'\n",
    "'''\n",
    "sql_query(query)"
   ]
  },
  {
   "cell_type": "markdown",
   "id": "fa32c49e",
   "metadata": {},
   "source": [
    "### Ya sabemos que el bote de **Pintura plástica blanca** cuyo codigo de pieza es `1028` fue emitido por el proveedor `\"La Picelada Divertida\"` con dirección en `calle Luz 36, León`.\n",
    "#### La categoria del producto se llama `Pinturas y recubrimientos`.\n",
    "##### Vamos a por la fecha!!!!"
   ]
  },
  {
   "cell_type": "code",
   "execution_count": 34,
   "id": "f8ad3e51",
   "metadata": {},
   "outputs": [
    {
     "data": {
      "text/html": [
       "<div>\n",
       "<style scoped>\n",
       "    .dataframe tbody tr th:only-of-type {\n",
       "        vertical-align: middle;\n",
       "    }\n",
       "\n",
       "    .dataframe tbody tr th {\n",
       "        vertical-align: top;\n",
       "    }\n",
       "\n",
       "    .dataframe thead th {\n",
       "        text-align: right;\n",
       "    }\n",
       "</style>\n",
       "<table border=\"1\" class=\"dataframe\">\n",
       "  <thead>\n",
       "    <tr style=\"text-align: right;\">\n",
       "      <th></th>\n",
       "      <th>CODIGO_PIEZA</th>\n",
       "      <th>NOMBRE_PIEZA</th>\n",
       "      <th>COLOR</th>\n",
       "      <th>PRECIO</th>\n",
       "      <th>CODIGO_CATEGORIA</th>\n",
       "      <th>CODIGO_PIEZA</th>\n",
       "      <th>FECHA</th>\n",
       "      <th>CANTIDAD</th>\n",
       "    </tr>\n",
       "  </thead>\n",
       "  <tbody>\n",
       "    <tr>\n",
       "      <th>0</th>\n",
       "      <td>1028</td>\n",
       "      <td>Pintura plástica blanca</td>\n",
       "      <td>Blanco mate</td>\n",
       "      <td>22.0</td>\n",
       "      <td>218</td>\n",
       "      <td>1028</td>\n",
       "      <td>2025-03-07</td>\n",
       "      <td>95</td>\n",
       "    </tr>\n",
       "  </tbody>\n",
       "</table>\n",
       "</div>"
      ],
      "text/plain": [
       "   CODIGO_PIEZA             NOMBRE_PIEZA        COLOR  PRECIO  \\\n",
       "0          1028  Pintura plástica blanca  Blanco mate    22.0   \n",
       "\n",
       "   CODIGO_CATEGORIA  CODIGO_PIEZA       FECHA  CANTIDAD  \n",
       "0               218          1028  2025-03-07        95  "
      ]
     },
     "execution_count": 34,
     "metadata": {},
     "output_type": "execute_result"
    }
   ],
   "source": [
    "query = '''   \n",
    "SELECT * \n",
    "FROM pieza AS a\n",
    "LEFT JOIN pieza_disponible AS b\n",
    "on a.codigo_pieza = b.codigo_pieza\n",
    "WHERE precio == 22.00 AND nombre_pieza LIKe '%pintura%'\n",
    "'''\n",
    "sql_query(query)"
   ]
  },
  {
   "cell_type": "code",
   "execution_count": 37,
   "id": "010ce941-b802-4263-806b-6488cfdb129f",
   "metadata": {},
   "outputs": [
    {
     "name": "stdout",
     "output_type": "stream",
     "text": [
      "La fecha de compra fue el: 2025-03-07\n"
     ]
    }
   ],
   "source": [
    "df_fecha = sql_query(query)\n",
    "print(f\"La fecha de compra fue el: {df_fecha.FECHA.to_list()[0]}\")"
   ]
  },
  {
   "cell_type": "markdown",
   "id": "10eb54fb",
   "metadata": {},
   "source": [
    "## Fecha: `07/03/2025`  🎉🎉🎉🎉🎉"
   ]
  },
  {
   "cell_type": "markdown",
   "id": "30e967d2",
   "metadata": {},
   "source": [
    "## <center> Maria y Juan quieren invitarte a una cena por haberles ayudado, es su manera de agradecerte tu amabilidad  🎉🎉🎉🎉🎉 🎉🎉🎉🎉🎉 </center>"
   ]
  }
 ],
 "metadata": {
  "kernelspec": {
   "display_name": "Python 3 (ipykernel)",
   "language": "python",
   "name": "python3"
  },
  "language_info": {
   "codemirror_mode": {
    "name": "ipython",
    "version": 3
   },
   "file_extension": ".py",
   "mimetype": "text/x-python",
   "name": "python",
   "nbconvert_exporter": "python",
   "pygments_lexer": "ipython3",
   "version": "3.10.16"
  }
 },
 "nbformat": 4,
 "nbformat_minor": 5
}
