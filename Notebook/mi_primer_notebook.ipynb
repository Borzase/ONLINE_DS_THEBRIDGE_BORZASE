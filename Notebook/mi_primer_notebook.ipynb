{
 "cells": [
  {
   "cell_type": "code",
   "execution_count": 1,
   "id": "aecf0da9-4b7f-4e34-a4a3-6b690ac99314",
   "metadata": {},
   "outputs": [
    {
     "name": "stdout",
     "output_type": "stream",
     "text": [
      "Hola Mundo\n"
     ]
    }
   ],
   "source": [
    "print(\"Hola Mundo\")"
   ]
  },
  {
   "cell_type": "markdown",
   "id": "2a510084-1d7e-4dee-a7de-4f22ed1f3d93",
   "metadata": {},
   "source": []
  },
  {
   "cell_type": "markdown",
   "id": "8417bb0b-232b-4924-9e2b-abedb5d184e8",
   "metadata": {},
   "source": [
    "Hola Mundo"
   ]
  },
  {
   "cell_type": "markdown",
   "id": "629e686b-b444-425c-94f3-72b6f528d644",
   "metadata": {},
   "source": []
  },
  {
   "cell_type": "markdown",
   "id": "436cda1b-266a-4a04-8a1b-0f7d59eb0594",
   "metadata": {},
   "source": [
    "##Mis primeros pasos con Markdown"
   ]
  },
  {
   "cell_type": "markdown",
   "id": "b173abe6-ca90-483b-9753-3a8e2e6c7d16",
   "metadata": {},
   "source": [
    "# Mis primeros pasos con markdown"
   ]
  },
  {
   "cell_type": "markdown",
   "id": "217f862c-b63c-4666-a215-219cb5978046",
   "metadata": {},
   "source": [
    "# Cabecera 1\n",
    "## Cabecera 2\n"
   ]
  },
  {
   "cell_type": "markdown",
   "id": "7f564187-5111-4641-a002-0031c8134d24",
   "metadata": {},
   "source": [
    "### Cabecera 3\n",
    "#### Cabecera 4\n",
    "##### Cabecera 5 \n",
    "###### Cabecera 6 "
   ]
  },
  {
   "cell_type": "markdown",
   "id": "e9b07edc-7140-4b9a-9d66-ec5265af8e21",
   "metadata": {},
   "source": [
    "**Texto en negrita **\n",
    "*Texto en cursiva\n",
    "***Texto en negrita y cursiva"
   ]
  },
  {
   "cell_type": "markdown",
   "id": "b799cee7-bed5-4fff-9f98-2c8834fec5f6",
   "metadata": {},
   "source": [
    "*Texto en cursiva*\n",
    "**Texto en negrita**\n",
    "***Texto en negrita y cursiva***"
   ]
  },
  {
   "cell_type": "markdown",
   "id": "862eb828-dcf4-4c27-9726-1d82d913d7d0",
   "metadata": {},
   "source": [
    "# **Titulo**"
   ]
  },
  {
   "cell_type": "code",
   "execution_count": null,
   "id": "474e5f84-5ea4-402a-ae7e-1cf5727369f9",
   "metadata": {},
   "outputs": [],
   "source": []
  }
 ],
 "metadata": {
  "kernelspec": {
   "display_name": "Python 3 (ipykernel)",
   "language": "python",
   "name": "python3"
  },
  "language_info": {
   "codemirror_mode": {
    "name": "ipython",
    "version": 3
   },
   "file_extension": ".py",
   "mimetype": "text/x-python",
   "name": "python",
   "nbconvert_exporter": "python",
   "pygments_lexer": "ipython3",
   "version": "3.13.2"
  }
 },
 "nbformat": 4,
 "nbformat_minor": 5
}
