{
 "cells": [
  {
   "cell_type": "code",
   "execution_count": 2,
   "id": "845ad144",
   "metadata": {},
   "outputs": [],
   "source": [
    "import pandas as pd\n",
    "import requests\n",
    "from bs4 import BeautifulSoup\n",
    "import sqlite3\n",
    "\n"
   ]
  },
  {
   "cell_type": "code",
   "execution_count": null,
   "id": "c23b761f",
   "metadata": {},
   "outputs": [],
   "source": [
    "class Prenda_ropa:\n",
    "    \n",
    "    diccionario_url = {\n",
    "        \"chaqueta\" : \"https://www.carhartt-wip.com/es/hombre-chaquetas-y-abrigos\",\n",
    "        \"camiseta\" : \"https://www.carhartt-wip.com/es/hombre-camisetas-y-polos\",\n",
    "        \"pantalon\" : \"https://www.carhartt-wip.com/es/hombre-pantalones\",\n",
    "        \"jersey\" : \"https://www.carhartt-wip.com/es/hombre-jerseis\"   \n",
    "    }\n",
    "\n",
    "    prendas = [\"chaqueta\", \"camiseta\", \"pantalon\", \"jersey\"]\n",
    "    conexion = sqlite3.connect(\"base_datos_ropa.db\")                        \n",
    "    cursor = conexion.cursor()\n",
    "    for prenda in prendas:\n",
    "        query_create = f''' \n",
    "        CREATE TABLE {prenda} (\n",
    "        MODELO     TEXT NOT NULL,\n",
    "        COLOR      TEXT NOT NULL,\n",
    "        PRECIO      FLOAT,\n",
    "        ) '''\n",
    "        cursor.execute(query_create)\n",
    "    conexion.commit()\n",
    "    conexion.close()\n",
    "\n",
    "    def __init__(self, chaqueta, camiseta, pantalon, jersey, lista_datos):\n",
    "        self.chaqueta = chaqueta\n",
    "        self.camiseta = camiseta\n",
    "        self.pantalon = pantalon\n",
    "        self.jersey = jersey\n",
    "        self.datos = lista_datos\n",
    "        \n",
    "        \n",
    "    \n",
    "    def llamar_web(self):\n",
    "        \n",
    "        url = Prenda_ropa.diccionario_url[self]                             # Llamamos con el objeto requests a la página web y creamos la sopa mediante beautiful soup\n",
    "        real = requests.get(url)                                                    \n",
    "        soup = BeautifulSoup(real.text, \"lxml\")\n",
    "        self.datos= []\n",
    "        elementos = soup.find_all(\"article\")                               # Extraemos los datos de la prenda y los almacenamos en una lista de diccionarios\n",
    "        for elem in elementos:\n",
    "            modelo = elem.find(\"p\", attrs={\"class\":\"descr\"})\n",
    "            color = elem.find(\"p\", attrs={\"class\":\"color\"})\n",
    "            precio = elem.find(\"span\", attrs={\"class\": \"country_eur\"})\n",
    "            self.datos.append({\n",
    "                \"Modelo\": modelo.text,\n",
    "                \"Color\": color.text,\n",
    "                \"Precio\": precio.text\n",
    "            })\n",
    "    \n",
    "    def relleno_tabla(self):\n",
    "        conexion = sqlite3.connect(\"base_datos_ropa.db\")              #relleno los datos de la tabla para la prenda objeto solicitada acudiendo a la base de datos creada comun a la clase          \n",
    "        cursor = conexion.cursor()\n",
    "        for unidad in self.datos:\n",
    "            Modelo = unidad[\"Modelo\"]\n",
    "            Color = unidad[\"Color\"]\n",
    "            Precio = unidad[\"Precio\"]\n",
    "            query = f\"INSERT INTO {self} (Modelo, Color, Precio) VALUES ('{Modelo}', '{Color}', '{Precio}')\"\n",
    "            cursor.execute(query)\n",
    "\n",
    "        conexion.commit()\n",
    "        \n",
    "    \n",
    "    def solicitud(self, modelo = False, color = False, precio = False):\n",
    "        conect = self.tabla\n",
    "        if modelo == True:\n",
    "            return pd.read_sql(f\"SELECT * FROM Tabla WHERE modelo LIKE '%{modelo}%' \", conect)\n",
    "        elif color == True:\n",
    "            return pd.read_sql(f\"SELECT * FROM Tabla WHERE color LIKE '%{color}%' \", conect)\n",
    "        if precio == True:\n",
    "            return pd.read_sql(f\"SELECT * FROM Tabla WHERE precio <= {precio} \", conect)\n",
    "        else:\n",
    "            return pd.read_sql(f\"SELECT * FROM Tabla\", conect)\n",
    "        \n"
   ]
  },
  {
   "cell_type": "code",
   "execution_count": null,
   "id": "05078d86",
   "metadata": {},
   "outputs": [],
   "source": [
    "prendas = [\"chaqueta\", \"camiseta\", \"pantalon\", \"jersey\"]\n",
    "conexion = sqlite3.connect(\"base_datos_ropa.db\")                        \n",
    "cursor = conexion.cursor()\n",
    "for prenda in prendas:\n",
    "    query_create = f''' \n",
    "    CREATE TABLE {prenda} (\n",
    "    MODELO     TEXT NOT NULL,\n",
    "    COLOR      TEXT NOT NULL,\n",
    "    PRECIO      FLOAT\n",
    "    ) \n",
    "    '''\n",
    "    cursor.execute(query_create)\n",
    "conexion.commit()\n"
   ]
  },
  {
   "cell_type": "code",
   "execution_count": 8,
   "id": "171e1ef8",
   "metadata": {},
   "outputs": [
    {
     "name": "stdout",
     "output_type": "stream",
     "text": [
      "chaqueta\n",
      "camiseta\n",
      "pantalon\n",
      "jersey\n"
     ]
    }
   ],
   "source": [
    "conexion = sqlite3.connect(\"base_datos_ropa.db\")                        \n",
    "cursor = conexion.cursor()\n",
    "res = cursor.execute(\"SELECT name FROM sqlite_master WHERE type = 'table'\")\n",
    "tablas =[]\n",
    "\n",
    "for name in res:\n",
    "    print(name[0])\n",
    "    tablas.append(name[0])"
   ]
  }
 ],
 "metadata": {
  "kernelspec": {
   "display_name": "Python 3",
   "language": "python",
   "name": "python3"
  },
  "language_info": {
   "codemirror_mode": {
    "name": "ipython",
    "version": 3
   },
   "file_extension": ".py",
   "mimetype": "text/x-python",
   "name": "python",
   "nbconvert_exporter": "python",
   "pygments_lexer": "ipython3",
   "version": "3.13.2"
  }
 },
 "nbformat": 4,
 "nbformat_minor": 5
}
