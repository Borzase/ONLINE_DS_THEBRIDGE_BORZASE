{
 "cells": [
  {
   "cell_type": "markdown",
   "id": "77ac6473",
   "metadata": {},
   "source": [
    "### Tratamiento y limpieza de datos"
   ]
  },
  {
   "cell_type": "code",
   "execution_count": 1,
   "id": "9d3bc623",
   "metadata": {},
   "outputs": [],
   "source": [
    "import pandas as pd\n",
    "import matplotlib.pyplot as plt\n",
    "import numpy as np\n",
    "import seaborn as sns\n"
   ]
  },
  {
   "cell_type": "code",
   "execution_count": 2,
   "id": "f37a0179",
   "metadata": {},
   "outputs": [
    {
     "data": {
      "text/html": [
       "<div>\n",
       "<style scoped>\n",
       "    .dataframe tbody tr th:only-of-type {\n",
       "        vertical-align: middle;\n",
       "    }\n",
       "\n",
       "    .dataframe tbody tr th {\n",
       "        vertical-align: top;\n",
       "    }\n",
       "\n",
       "    .dataframe thead th {\n",
       "        text-align: right;\n",
       "    }\n",
       "</style>\n",
       "<table border=\"1\" class=\"dataframe\">\n",
       "  <thead>\n",
       "    <tr style=\"text-align: right;\">\n",
       "      <th></th>\n",
       "      <th>Id</th>\n",
       "      <th>Especie</th>\n",
       "      <th>Nombre</th>\n",
       "      <th>Raza</th>\n",
       "      <th>Sexo</th>\n",
       "      <th>Edad</th>\n",
       "      <th>Diagnostico 1</th>\n",
       "      <th>Diagnóstico 2</th>\n",
       "      <th>Gasto_rehabilitacion</th>\n",
       "      <th>Gasto_tienda</th>\n",
       "      <th>Dieta</th>\n",
       "      <th>Tutor</th>\n",
       "    </tr>\n",
       "  </thead>\n",
       "  <tbody>\n",
       "    <tr>\n",
       "      <th>0</th>\n",
       "      <td>1</td>\n",
       "      <td>Canina</td>\n",
       "      <td>Wateke</td>\n",
       "      <td>Mestizo</td>\n",
       "      <td>Macho</td>\n",
       "      <td>7</td>\n",
       "      <td>NaN</td>\n",
       "      <td>NaN</td>\n",
       "      <td>0.00</td>\n",
       "      <td>0.0</td>\n",
       "      <td>0.0</td>\n",
       "      <td>Mujer</td>\n",
       "    </tr>\n",
       "    <tr>\n",
       "      <th>1</th>\n",
       "      <td>2</td>\n",
       "      <td>Canina</td>\n",
       "      <td>Cuco</td>\n",
       "      <td>Chihuahua</td>\n",
       "      <td>Macho</td>\n",
       "      <td>19</td>\n",
       "      <td>Artrosis</td>\n",
       "      <td>NaN</td>\n",
       "      <td>274.63</td>\n",
       "      <td>0.0</td>\n",
       "      <td>0.0</td>\n",
       "      <td>Mujer</td>\n",
       "    </tr>\n",
       "    <tr>\n",
       "      <th>2</th>\n",
       "      <td>3</td>\n",
       "      <td>Canina</td>\n",
       "      <td>Emma</td>\n",
       "      <td>Mestizo</td>\n",
       "      <td>Hembra</td>\n",
       "      <td>15</td>\n",
       "      <td>Artrosis</td>\n",
       "      <td>NaN</td>\n",
       "      <td>255.00</td>\n",
       "      <td>0.0</td>\n",
       "      <td>0.0</td>\n",
       "      <td>Mujer</td>\n",
       "    </tr>\n",
       "    <tr>\n",
       "      <th>3</th>\n",
       "      <td>4</td>\n",
       "      <td>Canina</td>\n",
       "      <td>Jalito</td>\n",
       "      <td>Yorkshire Terrier</td>\n",
       "      <td>Macho</td>\n",
       "      <td>12</td>\n",
       "      <td>Luxacion de Rotula</td>\n",
       "      <td>NaN</td>\n",
       "      <td>55.00</td>\n",
       "      <td>0.0</td>\n",
       "      <td>0.0</td>\n",
       "      <td>Mujer</td>\n",
       "    </tr>\n",
       "    <tr>\n",
       "      <th>4</th>\n",
       "      <td>5</td>\n",
       "      <td>Canina</td>\n",
       "      <td>Tote</td>\n",
       "      <td>Yorkshire Terrier</td>\n",
       "      <td>Macho</td>\n",
       "      <td>12</td>\n",
       "      <td>Artrosis</td>\n",
       "      <td>NaN</td>\n",
       "      <td>55.00</td>\n",
       "      <td>0.0</td>\n",
       "      <td>0.0</td>\n",
       "      <td>Mujer</td>\n",
       "    </tr>\n",
       "    <tr>\n",
       "      <th>...</th>\n",
       "      <td>...</td>\n",
       "      <td>...</td>\n",
       "      <td>...</td>\n",
       "      <td>...</td>\n",
       "      <td>...</td>\n",
       "      <td>...</td>\n",
       "      <td>...</td>\n",
       "      <td>...</td>\n",
       "      <td>...</td>\n",
       "      <td>...</td>\n",
       "      <td>...</td>\n",
       "      <td>...</td>\n",
       "    </tr>\n",
       "    <tr>\n",
       "      <th>413</th>\n",
       "      <td>416</td>\n",
       "      <td>Canina</td>\n",
       "      <td>Sally</td>\n",
       "      <td>Galgo</td>\n",
       "      <td>Hembra</td>\n",
       "      <td>1</td>\n",
       "      <td>NaN</td>\n",
       "      <td>NaN</td>\n",
       "      <td>NaN</td>\n",
       "      <td>NaN</td>\n",
       "      <td>NaN</td>\n",
       "      <td>Mujer</td>\n",
       "    </tr>\n",
       "    <tr>\n",
       "      <th>414</th>\n",
       "      <td>417</td>\n",
       "      <td>Canina</td>\n",
       "      <td>Rufus</td>\n",
       "      <td>Golden Retriever</td>\n",
       "      <td>Macho</td>\n",
       "      <td>2</td>\n",
       "      <td>Displasia Cadera</td>\n",
       "      <td>NaN</td>\n",
       "      <td>70.00</td>\n",
       "      <td>0.0</td>\n",
       "      <td>NaN</td>\n",
       "      <td>Mujer</td>\n",
       "    </tr>\n",
       "    <tr>\n",
       "      <th>415</th>\n",
       "      <td>418</td>\n",
       "      <td>Canina</td>\n",
       "      <td>Golfo</td>\n",
       "      <td>Teckel</td>\n",
       "      <td>Macho</td>\n",
       "      <td>4</td>\n",
       "      <td>NaN</td>\n",
       "      <td>NaN</td>\n",
       "      <td>NaN</td>\n",
       "      <td>NaN</td>\n",
       "      <td>NaN</td>\n",
       "      <td>Mujer</td>\n",
       "    </tr>\n",
       "    <tr>\n",
       "      <th>416</th>\n",
       "      <td>419</td>\n",
       "      <td>Canina</td>\n",
       "      <td>Nola</td>\n",
       "      <td>Pastor Alemán</td>\n",
       "      <td>Hembra</td>\n",
       "      <td>9</td>\n",
       "      <td>Displasia Cadera</td>\n",
       "      <td>NaN</td>\n",
       "      <td>70.00</td>\n",
       "      <td>2.0</td>\n",
       "      <td>NaN</td>\n",
       "      <td>Mujer</td>\n",
       "    </tr>\n",
       "    <tr>\n",
       "      <th>417</th>\n",
       "      <td>420</td>\n",
       "      <td>Canina</td>\n",
       "      <td>Hurco</td>\n",
       "      <td>Pastor Alemán</td>\n",
       "      <td>Macho</td>\n",
       "      <td>10</td>\n",
       "      <td>Displasia Codo</td>\n",
       "      <td>NaN</td>\n",
       "      <td>70.00</td>\n",
       "      <td>0.0</td>\n",
       "      <td>NaN</td>\n",
       "      <td>Hombre</td>\n",
       "    </tr>\n",
       "  </tbody>\n",
       "</table>\n",
       "<p>418 rows × 12 columns</p>\n",
       "</div>"
      ],
      "text/plain": [
       "      Id Especie  Nombre               Raza    Sexo  Edad       Diagnostico 1  \\\n",
       "0      1  Canina  Wateke            Mestizo   Macho     7                 NaN   \n",
       "1      2  Canina    Cuco          Chihuahua   Macho    19            Artrosis   \n",
       "2      3  Canina    Emma            Mestizo  Hembra    15            Artrosis   \n",
       "3      4  Canina  Jalito  Yorkshire Terrier   Macho    12  Luxacion de Rotula   \n",
       "4      5  Canina    Tote  Yorkshire Terrier   Macho    12            Artrosis   \n",
       "..   ...     ...     ...                ...     ...   ...                 ...   \n",
       "413  416  Canina   Sally              Galgo  Hembra     1                 NaN   \n",
       "414  417  Canina   Rufus   Golden Retriever   Macho     2    Displasia Cadera   \n",
       "415  418  Canina   Golfo             Teckel   Macho     4                 NaN   \n",
       "416  419  Canina    Nola      Pastor Alemán  Hembra     9    Displasia Cadera   \n",
       "417  420  Canina   Hurco      Pastor Alemán   Macho    10      Displasia Codo   \n",
       "\n",
       "    Diagnóstico 2  Gasto_rehabilitacion  Gasto_tienda  Dieta   Tutor  \n",
       "0             NaN                  0.00           0.0    0.0   Mujer  \n",
       "1             NaN                274.63           0.0    0.0   Mujer  \n",
       "2             NaN                255.00           0.0    0.0   Mujer  \n",
       "3             NaN                 55.00           0.0    0.0   Mujer  \n",
       "4             NaN                 55.00           0.0    0.0   Mujer  \n",
       "..            ...                   ...           ...    ...     ...  \n",
       "413           NaN                   NaN           NaN    NaN   Mujer  \n",
       "414           NaN                 70.00           0.0    NaN   Mujer  \n",
       "415           NaN                   NaN           NaN    NaN   Mujer  \n",
       "416           NaN                 70.00           2.0    NaN   Mujer  \n",
       "417           NaN                 70.00           0.0    NaN  Hombre  \n",
       "\n",
       "[418 rows x 12 columns]"
      ]
     },
     "execution_count": 2,
     "metadata": {},
     "output_type": "execute_result"
    }
   ],
   "source": [
    "df = pd.read_excel(\"datos_vibra.xlsx\", usecols=\"D:O\", skiprows=[0,1,2])\n",
    "df"
   ]
  },
  {
   "cell_type": "code",
   "execution_count": 3,
   "id": "e5948c15",
   "metadata": {},
   "outputs": [
    {
     "name": "stdout",
     "output_type": "stream",
     "text": [
      "<class 'pandas.core.frame.DataFrame'>\n",
      "RangeIndex: 418 entries, 0 to 417\n",
      "Data columns (total 12 columns):\n",
      " #   Column                Non-Null Count  Dtype  \n",
      "---  ------                --------------  -----  \n",
      " 0   Id                    418 non-null    int64  \n",
      " 1   Especie               418 non-null    object \n",
      " 2   Nombre                418 non-null    object \n",
      " 3   Raza                  418 non-null    object \n",
      " 4   Sexo                  418 non-null    object \n",
      " 5   Edad                  418 non-null    int64  \n",
      " 6   Diagnostico 1         388 non-null    object \n",
      " 7   Diagnóstico 2         4 non-null      object \n",
      " 8   Gasto_rehabilitacion  403 non-null    float64\n",
      " 9   Gasto_tienda          402 non-null    float64\n",
      " 10  Dieta                 72 non-null     float64\n",
      " 11  Tutor                 418 non-null    object \n",
      "dtypes: float64(3), int64(2), object(7)\n",
      "memory usage: 39.3+ KB\n"
     ]
    }
   ],
   "source": [
    "df.info()"
   ]
  },
  {
   "cell_type": "markdown",
   "id": "213fc4bd",
   "metadata": {},
   "source": [
    "#### Limpio la columna \"Diagnostico 1\""
   ]
  },
  {
   "cell_type": "code",
   "execution_count": 4,
   "id": "7e050239",
   "metadata": {},
   "outputs": [
    {
     "data": {
      "text/plain": [
       "Diagnostico 1\n",
       "Hernia Discal                       116\n",
       "Artrosis                             78\n",
       "Acondicionamiento                    61\n",
       "Ligamento Cruzado                    46\n",
       "Mielopatia                           37\n",
       "Displasia Cadera                     35\n",
       "Luxacion de Rotula                   18\n",
       "Displasia Codo                       14\n",
       "Necrosis Avascular Cabezafemoral     12\n",
       "Sobrepeso                             1\n",
       "Name: count, dtype: int64"
      ]
     },
     "execution_count": 4,
     "metadata": {},
     "output_type": "execute_result"
    }
   ],
   "source": [
    "df.loc[df[\"Diagnostico 1\"].isna(), \"Diagnostico 1\"] = \"Acondicionamiento\"\n",
    "df.loc[df[\"Diagnostico 1\"] == \"Acondicionamiento Deportivo\", \"Diagnostico 1\"] = \"Acondicionamiento\"\n",
    "condicion_1 = df[\"Diagnostico 1\"] == \"Mielopatia\"\n",
    "condicion_2 = df[\"Diagnostico 1\"] == \"Mielopatia Degenerativa\"\n",
    "df.loc[condicion_1 | condicion_2, \"Diagnostico 1\"]= \"Mielopatia\"\n",
    "df.loc[df[\"Diagnostico 1\"] == \"Mielopatia \", \"Diagnostico 1\"] = \"Mielopatia\"\n",
    "df[\"Diagnostico 1\"].value_counts()"
   ]
  },
  {
   "cell_type": "code",
   "execution_count": 5,
   "id": "4efc02f4",
   "metadata": {},
   "outputs": [
    {
     "data": {
      "text/plain": [
       "Diagnostico 1\n",
       "Hernia Discal         116\n",
       "Artrosis               78\n",
       "Acondicionamiento      62\n",
       "Ligamento Cruzado      46\n",
       "Mielopatia             37\n",
       "Displasia Cadera       35\n",
       "Luxacion de Rotula     18\n",
       "Displasia Codo         14\n",
       "NAC                    12\n",
       "Name: count, dtype: int64"
      ]
     },
     "execution_count": 5,
     "metadata": {},
     "output_type": "execute_result"
    }
   ],
   "source": [
    "df.loc[df[\"Diagnostico 1\"] == \"Sobrepeso\", \"Diagnostico 1\"] = \"Acondicionamiento\"\n",
    "df.loc[df[\"Diagnostico 1\"] == \"Necrosis Avascular Cabezafemoral\", \"Diagnostico 1\"] = \"NAC\"\n",
    "df[\"Diagnostico 1\"].value_counts()"
   ]
  },
  {
   "cell_type": "code",
   "execution_count": 6,
   "id": "94c9c1a9",
   "metadata": {},
   "outputs": [
    {
     "name": "stdout",
     "output_type": "stream",
     "text": [
      "<class 'pandas.core.frame.DataFrame'>\n",
      "RangeIndex: 418 entries, 0 to 417\n",
      "Data columns (total 12 columns):\n",
      " #   Column                Non-Null Count  Dtype  \n",
      "---  ------                --------------  -----  \n",
      " 0   Id                    418 non-null    int64  \n",
      " 1   Especie               418 non-null    object \n",
      " 2   Nombre                418 non-null    object \n",
      " 3   Raza                  418 non-null    object \n",
      " 4   Sexo                  418 non-null    object \n",
      " 5   Edad                  418 non-null    int64  \n",
      " 6   Diagnostico 1         418 non-null    object \n",
      " 7   Diagnóstico 2         4 non-null      object \n",
      " 8   Gasto_rehabilitacion  403 non-null    float64\n",
      " 9   Gasto_tienda          402 non-null    float64\n",
      " 10  Dieta                 72 non-null     float64\n",
      " 11  Tutor                 418 non-null    object \n",
      "dtypes: float64(3), int64(2), object(7)\n",
      "memory usage: 39.3+ KB\n"
     ]
    }
   ],
   "source": [
    "df.info()"
   ]
  },
  {
   "cell_type": "markdown",
   "id": "121955f2",
   "metadata": {},
   "source": [
    "#### Limpio las columnas de gastos tanto en rehabilitación como en tienda"
   ]
  },
  {
   "cell_type": "code",
   "execution_count": 7,
   "id": "8d760bc8",
   "metadata": {},
   "outputs": [
    {
     "name": "stdout",
     "output_type": "stream",
     "text": [
      "<class 'pandas.core.frame.DataFrame'>\n",
      "RangeIndex: 418 entries, 0 to 417\n",
      "Data columns (total 12 columns):\n",
      " #   Column                Non-Null Count  Dtype  \n",
      "---  ------                --------------  -----  \n",
      " 0   Id                    418 non-null    int64  \n",
      " 1   Especie               418 non-null    object \n",
      " 2   Nombre                418 non-null    object \n",
      " 3   Raza                  418 non-null    object \n",
      " 4   Sexo                  418 non-null    object \n",
      " 5   Edad                  418 non-null    int64  \n",
      " 6   Diagnostico 1         418 non-null    object \n",
      " 7   Diagnóstico 2         4 non-null      object \n",
      " 8   Gasto_rehabilitacion  418 non-null    float64\n",
      " 9   Gasto_tienda          402 non-null    float64\n",
      " 10  Dieta                 72 non-null     float64\n",
      " 11  Tutor                 418 non-null    object \n",
      "dtypes: float64(3), int64(2), object(7)\n",
      "memory usage: 39.3+ KB\n"
     ]
    }
   ],
   "source": [
    "df.loc[df[\"Gasto_rehabilitacion\"].isna(), \"Gasto_rehabilitacion\"] = 70\n",
    "df.info()"
   ]
  },
  {
   "cell_type": "code",
   "execution_count": 8,
   "id": "7b7253f5",
   "metadata": {},
   "outputs": [
    {
     "name": "stdout",
     "output_type": "stream",
     "text": [
      "<class 'pandas.core.frame.DataFrame'>\n",
      "RangeIndex: 418 entries, 0 to 417\n",
      "Data columns (total 11 columns):\n",
      " #   Column                Non-Null Count  Dtype  \n",
      "---  ------                --------------  -----  \n",
      " 0   Id                    418 non-null    int64  \n",
      " 1   Especie               418 non-null    object \n",
      " 2   Nombre                418 non-null    object \n",
      " 3   Raza                  418 non-null    object \n",
      " 4   Sexo                  418 non-null    object \n",
      " 5   Edad                  418 non-null    int64  \n",
      " 6   Diagnostico 1         418 non-null    object \n",
      " 7   Gasto_rehabilitacion  418 non-null    float64\n",
      " 8   Gasto_tienda          418 non-null    float64\n",
      " 9   Dieta                 418 non-null    float64\n",
      " 10  Tutor                 418 non-null    object \n",
      "dtypes: float64(3), int64(2), object(6)\n",
      "memory usage: 36.1+ KB\n"
     ]
    }
   ],
   "source": [
    "df.loc[df[\"Gasto_tienda\"].isna(), \"Gasto_tienda\"] = 0\n",
    "df.loc[df[\"Dieta\"].isna(), \"Dieta\"] = 0\n",
    "df.drop(columns=[\"Diagnóstico 2\"], inplace = True)\n",
    "df.info()"
   ]
  },
  {
   "cell_type": "code",
   "execution_count": 9,
   "id": "388a59be",
   "metadata": {},
   "outputs": [
    {
     "data": {
      "text/plain": [
       "58"
      ]
     },
     "execution_count": 9,
     "metadata": {},
     "output_type": "execute_result"
    }
   ],
   "source": [
    "df.Raza.nunique()\n"
   ]
  },
  {
   "cell_type": "code",
   "execution_count": 10,
   "id": "c3dfc96b",
   "metadata": {},
   "outputs": [
    {
     "data": {
      "text/plain": [
       "Raza\n",
       "Mestizo                           127\n",
       "Teckel                             28\n",
       "Border Collie                      22\n",
       "Pastor Alemán                      19\n",
       "Labrador Retriever                 19\n",
       "Bulldog Francés                    16\n",
       "Golden Retriever                   13\n",
       "Bichón                             13\n",
       "Podenco                            12\n",
       "Chihuahua                          11\n",
       "Común Europeo                      10\n",
       "Yorkshire Terrier                  10\n",
       "Galgo                               6\n",
       "Carlino                             6\n",
       "Pit Bull Terrier                    6\n",
       "Pastor Belga                        5\n",
       "Pastor Australiano                  5\n",
       "Perro de agua                       5\n",
       "Cocker Spaniel                      5\n",
       "Ratonero                            4\n",
       "Jack Russell                        4\n",
       "American Staffordshire Terrier      4\n",
       "Pastor Catalán                      3\n",
       "West Highland Terrier               3\n",
       "Boxer                               3\n",
       "Caniche                             3\n",
       "Alaskan Malamute                    3\n",
       "Shihtzu                             3\n",
       "Pomerania                           3\n",
       "Shetland Sheepdog                   2\n",
       "Braco de Weimar                     2\n",
       "Schnauzer                           2\n",
       "Boston Terrier                      2\n",
       "Mastín Español                      2\n",
       "Persa                               2\n",
       "American Bully                      2\n",
       "Dálmata                             2\n",
       "Setter Gordon                       2\n",
       "Braco Alemán                        2\n",
       "Doberman                            2\n",
       "Chow Chow                           2\n",
       "Rottweiler                          2\n",
       "Akita Americano                     2\n",
       "Pinscher                            2\n",
       "Beagle                              2\n",
       "Spaniel Breton                      2\n",
       "Setter Irlandés                     2\n",
       "Poodle                              1\n",
       "Pastor ganadero australiano         1\n",
       "Pastor Ovejero Australiano          1\n",
       "Terranova                           1\n",
       "Azul Ruso                           1\n",
       "Setter Inglés                       1\n",
       "Cavalier King Charles               1\n",
       "Boyero de Berna                     1\n",
       "Pekinés                             1\n",
       "Bulldog Inglés                      1\n",
       "Lebrel Italiano                     1\n",
       "Name: count, dtype: int64"
      ]
     },
     "execution_count": 10,
     "metadata": {},
     "output_type": "execute_result"
    }
   ],
   "source": [
    "df.Raza.value_counts()"
   ]
  },
  {
   "cell_type": "code",
   "execution_count": null,
   "id": "592e9a35",
   "metadata": {},
   "outputs": [],
   "source": [
    "df.to_csv(\"../data/datos_vibra_limpios.csv\", sep = \";\", index = False)"
   ]
  }
 ],
 "metadata": {
  "kernelspec": {
   "display_name": "Python 3",
   "language": "python",
   "name": "python3"
  },
  "language_info": {
   "codemirror_mode": {
    "name": "ipython",
    "version": 3
   },
   "file_extension": ".py",
   "mimetype": "text/x-python",
   "name": "python",
   "nbconvert_exporter": "python",
   "pygments_lexer": "ipython3",
   "version": "3.13.2"
  }
 },
 "nbformat": 4,
 "nbformat_minor": 5
}
